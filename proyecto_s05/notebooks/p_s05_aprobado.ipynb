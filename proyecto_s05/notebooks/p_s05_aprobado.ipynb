{
 "cells": [
  {
   "cell_type": "markdown",
   "metadata": {},
   "source": [
    "# ¡Hola Jose!\n",
    "\n",
    "Mi nombre es Ezequiel Ferrario, soy code reviewer en Tripleten y tengo el agrado de revisar el proyecto que entregaste.\n",
    "\n",
    "Para simular la dinámica de un ambiente de trabajo, si veo algún error, en primer instancia solo los señalaré, dándote la oportunidad de encontrarlos y corregirlos por tu cuenta. En un trabajo real, el líder de tu equipo hará una dinámica similar. En caso de que no puedas resolver la tarea, te daré una información más precisa en la próxima revisión.\n",
    "\n",
    "Encontrarás mis comentarios más abajo - **por favor, no los muevas, no los modifiques ni los borres**.\n",
    "\n",
    "¿Cómo lo voy a hacer? Voy a leer detenidamente cada una de las implementaciones que has llevado a cabo para cumplir con lo solicitado. Verás los comentarios de esta forma:\n",
    "\n",
    "<div class=\"alert alert-block alert-success\">\n",
    "<b>Comentario del revisor</b> <a class=\"tocSkip\"></a>\n",
    "\n",
    "Si todo está perfecto.\n",
    "</div>\n",
    "\n",
    "\n",
    "<div class=\"alert alert-block alert-warning\">\n",
    "<b>Comentario del revisor</b> <a class=\"tocSkip\"></a>\n",
    "\n",
    "Si tu código está bien pero se puede mejorar o hay algún detalle que le hace falta. Se aceptan uno o dos comentarios de este tipo en el borrador, pero si hay más, deberá hacer las correcciones. Es como una tarea de prueba al solicitar un trabajo: muchos pequeños errores pueden hacer que un candidato sea rechazado.\n",
    "</div>\n",
    "\n",
    "<div class=\"alert alert-block alert-danger\">\n",
    "\n",
    "<b>Comentario del revisor</b> <a class=\"tocSkip\"></a>\n",
    "\n",
    "Si de pronto hace falta algo o existe algún problema con tu código o conclusiones.\n",
    "</div>\n",
    "\n",
    "Puedes responderme de esta forma:\n",
    "\n",
    "<div class=\"alert alert-block alert-info\">\n",
    "<b>Respuesta del estudiante</b> <a class=\"tocSkip\"></a>\n",
    "\n",
    "Hola Ezequiel,\n",
    "\n",
    "Espero que estés muy bien. Quería agradecerte profundamente por el tiempo y los comentarios que dedicaste a la revisión de mi proyecto. Tus observaciones fueron sumamente valiosas para ajustar los análisis, corregir detalles y mejorar la claridad de las gráficas y conclusiones.\n",
    "\n",
    "He implementado las correcciones señaladas, incluidos los retoques estéticos en las visualizaciones y el desarrollo de las conclusiones faltantes. Tu feedback no solo enriqueció el proyecto, sino que también reforzó mi aprendizaje en el proceso.\n",
    "\n",
    "¡Aprecio mucho tu apoyo y disposición!\n",
    "Quedo atento a cualquier comentario adicional.        \n",
    "</div>\n",
    "\n",
    "¡Empecemos!"
   ]
  },
  {
   "cell_type": "markdown",
   "metadata": {},
   "source": [
    "\n",
    "-----------\n",
    "\n",
    "<div class=\"alert alert-block alert-danger\">\n",
    "<b>Comentario general #1 </b> <a class=\"tocSkip\"></a>\n",
    "\n",
    "Jose, realizaste un myu buen proyecto proyecto.\n",
    "\n",
    "Me encanto como abarcaste todos los puntos y como te quedo el merge final en conjunto con los ingresos.\n",
    "\n",
    "A su vez te manejaste muy bien con la exploracion inicial al explorar todos los metodos y con los graficos realizados puedo afirmar que a nivel codigo el proyecto esta perfecto.\n",
    "\n",
    "En cuanto a los analisis, son un puntos muy destacable de este trabajo donde fuiste claro y minucioso en todos los comentarios como asi tambien con un buen enfoque analitico.\n",
    "\n",
    "Restan detalles por corregir.\n",
    "\n",
    "Quedo atento a tu correccion, saludos.</div>\n",
    "\n",
    "----------\n",
    "\n",
    "\n",
    "<div class=\"alert alert-block alert-success\">\n",
    "\n",
    "<b>Comentario general #2</b> <a class=\"tocSkip\"></a>\n",
    "\n",
    "Jose, las correcciones fueron excelentes.\n",
    "\n",
    "Me encanto las nuevas observaciones como los pequeños cambios, quiero destacar los lineplots realizados que estan perfectos.\n",
    "\n",
    "Es asi que este trabajo llega a su fin y pasa a estar **aprobado**.\n",
    "\n",
    "Exitos en lo que viene, saludos.\n",
    "</div>\n",
    "\n",
    "----"
   ]
  },
  {
   "cell_type": "markdown",
   "metadata": {
    "id": "3rYiDeEH0q0f"
   },
   "source": [
    "# ¿Cuál es la mejor tarifa?\n",
    "\n",
    "Trabajas como analista para el operador de telecomunicaciones Megaline. La empresa ofrece a sus clientes dos tarifas de prepago, Surf y Ultimate. El departamento comercial quiere saber cuál de las tarifas genera más ingresos para poder ajustar el presupuesto de publicidad.\n",
    "\n",
    "Vas a realizar un análisis preliminar de las tarifas basado en una selección de clientes relativamente pequeña. Tendrás los datos de 500 clientes de Megaline: quiénes son los clientes, de dónde son, qué tarifa usan, así como la cantidad de llamadas que hicieron y los mensajes de texto que enviaron en 2018. Tu trabajo es analizar el comportamiento de los clientes y determinar qué tarifa de prepago genera más ingresos."
   ]
  },
  {
   "cell_type": "markdown",
   "metadata": {
    "id": "SSg2QPfqolp1"
   },
   "source": [
    "## Introducción\n",
    "\n",
    "Este proyecto tiene como objetivo identificar el plan de telefonía móvil que genera mayores ingresos promedio para Megaline, mediante el estudio estadístico del comportamiento de consumo de los usuarios. El análisis se centra en tres variables clave: minutos de llamadas, mensajes de texto y consumo de datos móviles.  \n",
    "\n",
    "Para alcanzar este objetivo, el proyecto sigue una metodología estructurada que incluye:\n",
    "\n",
    "1. Recolección y limpieza de datos históricos de consumo  \n",
    "2. Análisis exploratorio para identificar patrones y tendencias  \n",
    "3. Aplicación de pruebas estadísticas para comparar los planes  \n",
    "4. Validación de resultados mediante análisis de significancia  "
   ]
  },
  {
   "cell_type": "markdown",
   "metadata": {
    "id": "mRpEo4LyeDZQ"
   },
   "source": [
    "# 1. Descripción de los datos"
   ]
  },
  {
   "cell_type": "markdown",
   "metadata": {
    "id": "MQi4IPy70q0y"
   },
   "source": [
    "## Inicialización"
   ]
  },
  {
   "cell_type": "code",
   "execution_count": 2,
   "metadata": {
    "id": "MtYIuBxu0q0z"
   },
   "outputs": [],
   "source": [
    "# Cargar todas las librerías\n",
    "from matplotlib import pyplot as plt\n",
    "from scipy import stats\n",
    "import numpy as np\n",
    "import pandas as pd"
   ]
  },
  {
   "cell_type": "markdown",
   "metadata": {
    "id": "4ysWWC5i0q00"
   },
   "source": [
    "## Cargar datos"
   ]
  },
  {
   "cell_type": "code",
   "execution_count": 3,
   "metadata": {
    "id": "CCqPW7rS0q01"
   },
   "outputs": [],
   "source": [
    "# Carga los archivos de datos en diferentes DataFrames\n",
    "df_tarifas = pd.read_csv('/datasets/megaline_plans.csv')\n",
    "df_usuarios = pd.read_csv('/datasets/megaline_users.csv')\n",
    "df_llamadas = pd.read_csv('/datasets/megaline_calls.csv')\n",
    "df_mensajes = pd.read_csv('/datasets/megaline_messages.csv')\n",
    "df_internet = pd.read_csv('/datasets/megaline_internet.csv')"
   ]
  },
  {
   "cell_type": "markdown",
   "metadata": {
    "id": "69qqoJ3r0q01"
   },
   "source": [
    "# 2. Preparación de los datos"
   ]
  },
  {
   "cell_type": "markdown",
   "metadata": {
    "id": "ohBhimvH0q01"
   },
   "source": [
    "## Tarifas"
   ]
  },
  {
   "cell_type": "code",
   "execution_count": 4,
   "metadata": {
    "colab": {
     "base_uri": "https://localhost:8080/"
    },
    "id": "GptqP3Q40q02",
    "outputId": "510fa8f8-71b1-4d6a-dc5c-f1fd6cab06a1"
   },
   "outputs": [
    {
     "name": "stdout",
     "output_type": "stream",
     "text": [
      "<class 'pandas.core.frame.DataFrame'>\n",
      "RangeIndex: 2 entries, 0 to 1\n",
      "Data columns (total 8 columns):\n",
      " #   Column                 Non-Null Count  Dtype  \n",
      "---  ------                 --------------  -----  \n",
      " 0   messages_included      2 non-null      int64  \n",
      " 1   mb_per_month_included  2 non-null      int64  \n",
      " 2   minutes_included       2 non-null      int64  \n",
      " 3   usd_monthly_pay        2 non-null      int64  \n",
      " 4   usd_per_gb             2 non-null      int64  \n",
      " 5   usd_per_message        2 non-null      float64\n",
      " 6   usd_per_minute         2 non-null      float64\n",
      " 7   plan_name              2 non-null      object \n",
      "dtypes: float64(2), int64(5), object(1)\n",
      "memory usage: 256.0+ bytes\n"
     ]
    }
   ],
   "source": [
    "# Imprime la información general/resumida sobre el DataFrame de las tarifas\n",
    "df_tarifas.info()"
   ]
  },
  {
   "cell_type": "code",
   "execution_count": 5,
   "metadata": {
    "colab": {
     "base_uri": "https://localhost:8080/",
     "height": 112
    },
    "id": "64xzjwL70q02",
    "outputId": "f2c48459-9a69-4256-a5a4-261569e12306"
   },
   "outputs": [
    {
     "data": {
      "text/html": [
       "<div>\n",
       "<style scoped>\n",
       "    .dataframe tbody tr th:only-of-type {\n",
       "        vertical-align: middle;\n",
       "    }\n",
       "\n",
       "    .dataframe tbody tr th {\n",
       "        vertical-align: top;\n",
       "    }\n",
       "\n",
       "    .dataframe thead th {\n",
       "        text-align: right;\n",
       "    }\n",
       "</style>\n",
       "<table border=\"1\" class=\"dataframe\">\n",
       "  <thead>\n",
       "    <tr style=\"text-align: right;\">\n",
       "      <th></th>\n",
       "      <th>messages_included</th>\n",
       "      <th>mb_per_month_included</th>\n",
       "      <th>minutes_included</th>\n",
       "      <th>usd_monthly_pay</th>\n",
       "      <th>usd_per_gb</th>\n",
       "      <th>usd_per_message</th>\n",
       "      <th>usd_per_minute</th>\n",
       "      <th>plan_name</th>\n",
       "    </tr>\n",
       "  </thead>\n",
       "  <tbody>\n",
       "    <tr>\n",
       "      <th>0</th>\n",
       "      <td>50</td>\n",
       "      <td>15360</td>\n",
       "      <td>500</td>\n",
       "      <td>20</td>\n",
       "      <td>10</td>\n",
       "      <td>0.03</td>\n",
       "      <td>0.03</td>\n",
       "      <td>surf</td>\n",
       "    </tr>\n",
       "    <tr>\n",
       "      <th>1</th>\n",
       "      <td>1000</td>\n",
       "      <td>30720</td>\n",
       "      <td>3000</td>\n",
       "      <td>70</td>\n",
       "      <td>7</td>\n",
       "      <td>0.01</td>\n",
       "      <td>0.01</td>\n",
       "      <td>ultimate</td>\n",
       "    </tr>\n",
       "  </tbody>\n",
       "</table>\n",
       "</div>"
      ],
      "text/plain": [
       "   messages_included  mb_per_month_included  minutes_included  \\\n",
       "0                 50                  15360               500   \n",
       "1               1000                  30720              3000   \n",
       "\n",
       "   usd_monthly_pay  usd_per_gb  usd_per_message  usd_per_minute plan_name  \n",
       "0               20          10             0.03            0.03      surf  \n",
       "1               70           7             0.01            0.01  ultimate  "
      ]
     },
     "execution_count": 5,
     "metadata": {},
     "output_type": "execute_result"
    }
   ],
   "source": [
    "# Imprime una muestra de los datos para las tarifas\n",
    "df_tarifas.head()"
   ]
  },
  {
   "cell_type": "markdown",
   "metadata": {
    "id": "mEc_3_hs0q02"
   },
   "source": [
    "### Descripción\n",
    "\n",
    "* El dataset de tarifas (plans) contiene 2 registros y 8 columnas, donde se especifica el tipo de plan, incluyendo los límites de llamadas, mensajes y datos (en gigabytes), junto con la cuota mensual y los recargos por exceder dichos límites.  \n",
    "\n",
    "* Los datos de internet están expresados en megabytes, mientras que el costo por datos adicionales se calcula en gigabytes. Para mantener la coherencia en las unidades, es necesario convertir los megabytes a gigabytes (1 GB = 1024 MB).  \n",
    "\n",
    "* Para optimizar el manejo de los datos, se sugiere reordenar las columnas de manera lógica, facilitando así la agrupación y el análisis posterior."
   ]
  },
  {
   "cell_type": "markdown",
   "metadata": {
    "id": "R3C05i1l0q03"
   },
   "source": [
    "### Corregir datos"
   ]
  },
  {
   "cell_type": "code",
   "execution_count": 6,
   "metadata": {
    "id": "Y7SVmjGn0q03"
   },
   "outputs": [],
   "source": [
    "# Creo la columna de gigabyte incluidos, a partir de megabyte incluidos al mes y los transformo a enteros\n",
    "df_tarifas['gb_included'] = (df_tarifas['mb_per_month_included']/1024).astype(int)\n",
    "\n",
    "# Renombro la columna de pago mensual, como cuota mensual\n",
    "df_tarifas.rename(columns={'usd_monthly_pay':'usd_monthly_fee'}, inplace=True)"
   ]
  },
  {
   "cell_type": "markdown",
   "metadata": {
    "id": "LJir7bml0q03"
   },
   "source": [
    "### Enriquecer los datos"
   ]
  },
  {
   "cell_type": "code",
   "execution_count": 7,
   "metadata": {
    "colab": {
     "base_uri": "https://localhost:8080/",
     "height": 0
    },
    "id": "QEBCGnbDKblI",
    "outputId": "b23b0a3a-9877-4786-8542-b3d838ddac09"
   },
   "outputs": [
    {
     "data": {
      "text/html": [
       "<div>\n",
       "<style scoped>\n",
       "    .dataframe tbody tr th:only-of-type {\n",
       "        vertical-align: middle;\n",
       "    }\n",
       "\n",
       "    .dataframe tbody tr th {\n",
       "        vertical-align: top;\n",
       "    }\n",
       "\n",
       "    .dataframe thead th {\n",
       "        text-align: right;\n",
       "    }\n",
       "</style>\n",
       "<table border=\"1\" class=\"dataframe\">\n",
       "  <thead>\n",
       "    <tr style=\"text-align: right;\">\n",
       "      <th></th>\n",
       "      <th>plan_name</th>\n",
       "      <th>usd_monthly_fee</th>\n",
       "      <th>minutes_included</th>\n",
       "      <th>messages_included</th>\n",
       "      <th>gb_included</th>\n",
       "      <th>usd_per_minute</th>\n",
       "      <th>usd_per_message</th>\n",
       "      <th>usd_per_gb</th>\n",
       "    </tr>\n",
       "  </thead>\n",
       "  <tbody>\n",
       "    <tr>\n",
       "      <th>0</th>\n",
       "      <td>surf</td>\n",
       "      <td>20</td>\n",
       "      <td>500</td>\n",
       "      <td>50</td>\n",
       "      <td>15</td>\n",
       "      <td>0.03</td>\n",
       "      <td>0.03</td>\n",
       "      <td>10</td>\n",
       "    </tr>\n",
       "    <tr>\n",
       "      <th>1</th>\n",
       "      <td>ultimate</td>\n",
       "      <td>70</td>\n",
       "      <td>3000</td>\n",
       "      <td>1000</td>\n",
       "      <td>30</td>\n",
       "      <td>0.01</td>\n",
       "      <td>0.01</td>\n",
       "      <td>7</td>\n",
       "    </tr>\n",
       "  </tbody>\n",
       "</table>\n",
       "</div>"
      ],
      "text/plain": [
       "  plan_name  usd_monthly_fee  minutes_included  messages_included  \\\n",
       "0      surf               20               500                 50   \n",
       "1  ultimate               70              3000               1000   \n",
       "\n",
       "   gb_included  usd_per_minute  usd_per_message  usd_per_gb  \n",
       "0           15            0.03             0.03          10  \n",
       "1           30            0.01             0.01           7  "
      ]
     },
     "execution_count": 7,
     "metadata": {},
     "output_type": "execute_result"
    }
   ],
   "source": [
    "# Organizo el orden de las columnas\n",
    "df_tarifas = df_tarifas[['plan_name', 'usd_monthly_fee', 'minutes_included', 'messages_included', 'gb_included', 'usd_per_minute', 'usd_per_message', 'usd_per_gb']]\n",
    "df_tarifas.head()"
   ]
  },
  {
   "cell_type": "markdown",
   "metadata": {},
   "source": [
    "<div class=\"alert alert-block alert-success\">\n",
    "\n",
    "<b>Comentario del revisor</b> <a class=\"tocSkip\"></a>\n",
    "\n",
    "Excelente, muy bien agregado el calculo de gb.</div>\n",
    "\n"
   ]
  },
  {
   "cell_type": "markdown",
   "metadata": {
    "id": "1n2X6WXf0q04"
   },
   "source": [
    "## Usuarios/as"
   ]
  },
  {
   "cell_type": "code",
   "execution_count": 8,
   "metadata": {
    "colab": {
     "base_uri": "https://localhost:8080/"
    },
    "id": "2NgjWFqx0q05",
    "outputId": "e05c3c2a-d742-4eba-fa3a-fa6fe4923fda"
   },
   "outputs": [
    {
     "name": "stdout",
     "output_type": "stream",
     "text": [
      "<class 'pandas.core.frame.DataFrame'>\n",
      "RangeIndex: 500 entries, 0 to 499\n",
      "Data columns (total 8 columns):\n",
      " #   Column      Non-Null Count  Dtype \n",
      "---  ------      --------------  ----- \n",
      " 0   user_id     500 non-null    int64 \n",
      " 1   first_name  500 non-null    object\n",
      " 2   last_name   500 non-null    object\n",
      " 3   age         500 non-null    int64 \n",
      " 4   city        500 non-null    object\n",
      " 5   reg_date    500 non-null    object\n",
      " 6   plan        500 non-null    object\n",
      " 7   churn_date  34 non-null     object\n",
      "dtypes: int64(2), object(6)\n",
      "memory usage: 31.4+ KB\n"
     ]
    }
   ],
   "source": [
    "# Imprime la información general/resumida sobre el DataFrame de usuarios\n",
    "df_usuarios.info()"
   ]
  },
  {
   "cell_type": "code",
   "execution_count": 9,
   "metadata": {
    "colab": {
     "base_uri": "https://localhost:8080/",
     "height": 0
    },
    "id": "1IN1L9uh0q05",
    "outputId": "3580ba74-f5d5-4c7c-8c6c-a338da99e11f"
   },
   "outputs": [
    {
     "data": {
      "text/html": [
       "<div>\n",
       "<style scoped>\n",
       "    .dataframe tbody tr th:only-of-type {\n",
       "        vertical-align: middle;\n",
       "    }\n",
       "\n",
       "    .dataframe tbody tr th {\n",
       "        vertical-align: top;\n",
       "    }\n",
       "\n",
       "    .dataframe thead th {\n",
       "        text-align: right;\n",
       "    }\n",
       "</style>\n",
       "<table border=\"1\" class=\"dataframe\">\n",
       "  <thead>\n",
       "    <tr style=\"text-align: right;\">\n",
       "      <th></th>\n",
       "      <th>user_id</th>\n",
       "      <th>first_name</th>\n",
       "      <th>last_name</th>\n",
       "      <th>age</th>\n",
       "      <th>city</th>\n",
       "      <th>reg_date</th>\n",
       "      <th>plan</th>\n",
       "      <th>churn_date</th>\n",
       "    </tr>\n",
       "  </thead>\n",
       "  <tbody>\n",
       "    <tr>\n",
       "      <th>0</th>\n",
       "      <td>1000</td>\n",
       "      <td>Anamaria</td>\n",
       "      <td>Bauer</td>\n",
       "      <td>45</td>\n",
       "      <td>Atlanta-Sandy Springs-Roswell, GA MSA</td>\n",
       "      <td>2018-12-24</td>\n",
       "      <td>ultimate</td>\n",
       "      <td>NaN</td>\n",
       "    </tr>\n",
       "    <tr>\n",
       "      <th>1</th>\n",
       "      <td>1001</td>\n",
       "      <td>Mickey</td>\n",
       "      <td>Wilkerson</td>\n",
       "      <td>28</td>\n",
       "      <td>Seattle-Tacoma-Bellevue, WA MSA</td>\n",
       "      <td>2018-08-13</td>\n",
       "      <td>surf</td>\n",
       "      <td>NaN</td>\n",
       "    </tr>\n",
       "    <tr>\n",
       "      <th>2</th>\n",
       "      <td>1002</td>\n",
       "      <td>Carlee</td>\n",
       "      <td>Hoffman</td>\n",
       "      <td>36</td>\n",
       "      <td>Las Vegas-Henderson-Paradise, NV MSA</td>\n",
       "      <td>2018-10-21</td>\n",
       "      <td>surf</td>\n",
       "      <td>NaN</td>\n",
       "    </tr>\n",
       "    <tr>\n",
       "      <th>3</th>\n",
       "      <td>1003</td>\n",
       "      <td>Reynaldo</td>\n",
       "      <td>Jenkins</td>\n",
       "      <td>52</td>\n",
       "      <td>Tulsa, OK MSA</td>\n",
       "      <td>2018-01-28</td>\n",
       "      <td>surf</td>\n",
       "      <td>NaN</td>\n",
       "    </tr>\n",
       "    <tr>\n",
       "      <th>4</th>\n",
       "      <td>1004</td>\n",
       "      <td>Leonila</td>\n",
       "      <td>Thompson</td>\n",
       "      <td>40</td>\n",
       "      <td>Seattle-Tacoma-Bellevue, WA MSA</td>\n",
       "      <td>2018-05-23</td>\n",
       "      <td>surf</td>\n",
       "      <td>NaN</td>\n",
       "    </tr>\n",
       "  </tbody>\n",
       "</table>\n",
       "</div>"
      ],
      "text/plain": [
       "   user_id first_name  last_name  age                                   city  \\\n",
       "0     1000   Anamaria      Bauer   45  Atlanta-Sandy Springs-Roswell, GA MSA   \n",
       "1     1001     Mickey  Wilkerson   28        Seattle-Tacoma-Bellevue, WA MSA   \n",
       "2     1002     Carlee    Hoffman   36   Las Vegas-Henderson-Paradise, NV MSA   \n",
       "3     1003   Reynaldo    Jenkins   52                          Tulsa, OK MSA   \n",
       "4     1004    Leonila   Thompson   40        Seattle-Tacoma-Bellevue, WA MSA   \n",
       "\n",
       "     reg_date      plan churn_date  \n",
       "0  2018-12-24  ultimate        NaN  \n",
       "1  2018-08-13      surf        NaN  \n",
       "2  2018-10-21      surf        NaN  \n",
       "3  2018-01-28      surf        NaN  \n",
       "4  2018-05-23      surf        NaN  "
      ]
     },
     "execution_count": 9,
     "metadata": {},
     "output_type": "execute_result"
    }
   ],
   "source": [
    "# Imprime una muestra de datos para usuarios\n",
    "df_usuarios.head()"
   ]
  },
  {
   "cell_type": "code",
   "execution_count": 10,
   "metadata": {},
   "outputs": [
    {
     "data": {
      "text/html": [
       "<div>\n",
       "<style scoped>\n",
       "    .dataframe tbody tr th:only-of-type {\n",
       "        vertical-align: middle;\n",
       "    }\n",
       "\n",
       "    .dataframe tbody tr th {\n",
       "        vertical-align: top;\n",
       "    }\n",
       "\n",
       "    .dataframe thead th {\n",
       "        text-align: right;\n",
       "    }\n",
       "</style>\n",
       "<table border=\"1\" class=\"dataframe\">\n",
       "  <thead>\n",
       "    <tr style=\"text-align: right;\">\n",
       "      <th></th>\n",
       "      <th>user_id</th>\n",
       "      <th>age</th>\n",
       "    </tr>\n",
       "  </thead>\n",
       "  <tbody>\n",
       "    <tr>\n",
       "      <th>count</th>\n",
       "      <td>500.000000</td>\n",
       "      <td>500.000000</td>\n",
       "    </tr>\n",
       "    <tr>\n",
       "      <th>mean</th>\n",
       "      <td>1249.500000</td>\n",
       "      <td>45.486000</td>\n",
       "    </tr>\n",
       "    <tr>\n",
       "      <th>std</th>\n",
       "      <td>144.481833</td>\n",
       "      <td>16.972269</td>\n",
       "    </tr>\n",
       "    <tr>\n",
       "      <th>min</th>\n",
       "      <td>1000.000000</td>\n",
       "      <td>18.000000</td>\n",
       "    </tr>\n",
       "    <tr>\n",
       "      <th>25%</th>\n",
       "      <td>1124.750000</td>\n",
       "      <td>30.000000</td>\n",
       "    </tr>\n",
       "    <tr>\n",
       "      <th>50%</th>\n",
       "      <td>1249.500000</td>\n",
       "      <td>46.000000</td>\n",
       "    </tr>\n",
       "    <tr>\n",
       "      <th>75%</th>\n",
       "      <td>1374.250000</td>\n",
       "      <td>61.000000</td>\n",
       "    </tr>\n",
       "    <tr>\n",
       "      <th>max</th>\n",
       "      <td>1499.000000</td>\n",
       "      <td>75.000000</td>\n",
       "    </tr>\n",
       "  </tbody>\n",
       "</table>\n",
       "</div>"
      ],
      "text/plain": [
       "           user_id         age\n",
       "count   500.000000  500.000000\n",
       "mean   1249.500000   45.486000\n",
       "std     144.481833   16.972269\n",
       "min    1000.000000   18.000000\n",
       "25%    1124.750000   30.000000\n",
       "50%    1249.500000   46.000000\n",
       "75%    1374.250000   61.000000\n",
       "max    1499.000000   75.000000"
      ]
     },
     "execution_count": 10,
     "metadata": {},
     "output_type": "execute_result"
    }
   ],
   "source": [
    "# Exploracion de datos para usuarios\n",
    "df_usuarios.describe()"
   ]
  },
  {
   "cell_type": "markdown",
   "metadata": {},
   "source": [
    "¿\n",
    "\n",
    "<div class=\"alert alert-block alert-danger\">\n",
    "\n",
    "<b>Comentario del revisor</b> <a class=\"tocSkip\"></a>\n",
    "\n",
    "Recorda utilizar el metodo describe() para una exploracion rapida inicial de aquellas variables numericas. Siempre es necesario realizarlo ya que de forma rapida tenemos un panorama muy bueno de que nos espera e incluso encontraremos inconsistencias si existiencen.\n",
    "Describi al respecto lo que ves. </div>\n",
    "\n",
    "\n",
    "<div class=\"alert alert-block alert-success\">\n",
    "\n",
    "<b>Comentario del revisor #2</b> <a class=\"tocSkip\"></a>\n",
    "\n",
    "Corregido, muy bien.\n",
    "\n",
    "</div>"
   ]
  },
  {
   "cell_type": "markdown",
   "metadata": {},
   "source": [
    "<div class=\"alert alert-block alert-info\">\n",
    "<b>Respuesta del estudiante</b> <a class=\"tocSkip\"></a>\n",
    "\n",
    "Añadi la descripcción y los comentarios de las observaciones esta en el ultimo punto de la descripcion del dataframe mas abajo        \n",
    "</div>"
   ]
  },
  {
   "cell_type": "code",
   "execution_count": 11,
   "metadata": {
    "colab": {
     "base_uri": "https://localhost:8080/"
    },
    "id": "nD4LKrARtx6y",
    "outputId": "6bb103b5-1d99-486a-fffc-005475dc8c55"
   },
   "outputs": [
    {
     "name": "stdout",
     "output_type": "stream",
     "text": [
      " 466 usuarios activos\n"
     ]
    }
   ],
   "source": [
    "# Busco valores ausentes en la columna de fecha de abandono\n",
    "print(f\" {df_usuarios['churn_date'].isna().sum()} usuarios activos\")"
   ]
  },
  {
   "cell_type": "code",
   "execution_count": 12,
   "metadata": {
    "colab": {
     "base_uri": "https://localhost:8080/"
    },
    "id": "5eO_MOlSxdA4",
    "outputId": "3c4e9158-0edc-426a-af29-a1df82bd7370"
   },
   "outputs": [
    {
     "name": "stdout",
     "output_type": "stream",
     "text": [
      " 0 filas duplicadas \n"
     ]
    }
   ],
   "source": [
    "# Busco filas duplicadas\n",
    "print(f\" {df_usuarios.duplicated().sum()} filas duplicadas \")"
   ]
  },
  {
   "cell_type": "markdown",
   "metadata": {
    "id": "dCZoUq4f0q06",
    "jp-MarkdownHeadingCollapsed": true
   },
   "source": [
    "### Descripción\n",
    "\n",
    "- El dataset de usuarios (users) contiene 500 registros y 8 columnas, con información de los usuarios organizada por un ID único, datos personales, fecha de suscripción y plan telefónico asociado.  \n",
    "\n",
    "- Las columnas con fechas (fecha de suscripción, fecha de cancelación) están almacenadas como objeto (texto). Para facilitar operaciones temporales (ej. cálculos de antigüedad), se recomienda convertirlas a tipo datetime.\n",
    "\n",
    "- La columna fecha de cancelación contiene falsos valores ausentes, ya que solo 34 usuarios están dados de baja (cancelación registrada), mientras que 466 permanecen activos (valores nulos en esta columna). Recomiendo la creación de una columna adicional (status) para categorizar automáticamente a los usuarios como \"Activo\" o \"Inactivo\", según la presencia/ausencia de fecha de cancelación.\n",
    "\n",
    "- Una exploracion inicial de las variables numericas, en ID de usuario se puede observar el rango comenzando en 1000 hasta 1499 que corresponde a 500 usuarios, en edad el rango es de 18 años hasta 75 años con una media y mediana alrededor de 46 años."
   ]
  },
  {
   "cell_type": "markdown",
   "metadata": {
    "id": "BX5FQh_I0q06",
    "jp-MarkdownHeadingCollapsed": true
   },
   "source": [
    "### Corregir los datos"
   ]
  },
  {
   "cell_type": "code",
   "execution_count": 13,
   "metadata": {
    "id": "yUqX-K0C0q07"
   },
   "outputs": [],
   "source": [
    "# Cambio la columna de tipos de datos\n",
    "df_usuarios['user_id'] = df_usuarios['user_id'].astype(str)\n",
    "# Cambio las columnas con fechas a datatime\n",
    "df_usuarios['reg_date'] = pd.to_datetime(df_usuarios['reg_date'], format='%Y-%m-%d')\n",
    "df_usuarios['churn_date'] = pd.to_datetime(df_usuarios['churn_date'], format='%Y-%m-%d')\n",
    "# Renombro la columna de plan, como nombre del plan\n",
    "df_usuarios.rename(columns={'plan':'plan_name'}, inplace=True)"
   ]
  },
  {
   "cell_type": "markdown",
   "metadata": {
    "id": "ycwuARJp0q07",
    "jp-MarkdownHeadingCollapsed": true
   },
   "source": [
    "### Enriquecer los datos"
   ]
  },
  {
   "cell_type": "code",
   "execution_count": 14,
   "metadata": {
    "id": "iq0AaBS90q08"
   },
   "outputs": [],
   "source": [
    "# Creo la columna de estatus de la cuenta, a partir de la fecha de abandono y muestre si esta activo o inactivo\n",
    "df_usuarios['plan_status'] = np.where(df_usuarios['churn_date'].isna(), 'Active', 'Inactive')\n",
    "# Organizo el orden de las columnas\n",
    "df_usuarios = df_usuarios[['user_id', 'plan_name', 'plan_status', 'reg_date', 'churn_date', 'first_name', 'last_name', 'age', 'city' ]]"
   ]
  },
  {
   "cell_type": "markdown",
   "metadata": {
    "id": "o7MeKCid0q08"
   },
   "source": [
    "## Llamadas"
   ]
  },
  {
   "cell_type": "code",
   "execution_count": 15,
   "metadata": {
    "colab": {
     "base_uri": "https://localhost:8080/"
    },
    "id": "6dDlnoDm0q08",
    "outputId": "4008e901-6d61-4b68-9493-9185c5f58ce0"
   },
   "outputs": [
    {
     "name": "stdout",
     "output_type": "stream",
     "text": [
      "<class 'pandas.core.frame.DataFrame'>\n",
      "RangeIndex: 137735 entries, 0 to 137734\n",
      "Data columns (total 4 columns):\n",
      " #   Column     Non-Null Count   Dtype  \n",
      "---  ------     --------------   -----  \n",
      " 0   id         137735 non-null  object \n",
      " 1   user_id    137735 non-null  int64  \n",
      " 2   call_date  137735 non-null  object \n",
      " 3   duration   137735 non-null  float64\n",
      "dtypes: float64(1), int64(1), object(2)\n",
      "memory usage: 4.2+ MB\n"
     ]
    }
   ],
   "source": [
    "# Imprime la información general/resumida sobre el DataFrame de las llamadas\n",
    "df_llamadas.info()"
   ]
  },
  {
   "cell_type": "code",
   "execution_count": 16,
   "metadata": {
    "colab": {
     "base_uri": "https://localhost:8080/",
     "height": 0
    },
    "id": "oYLZfHuS1hvP",
    "outputId": "8b739202-2a03-4391-85e0-2de6e29f20d6"
   },
   "outputs": [
    {
     "data": {
      "text/plain": [
       "id           0\n",
       "user_id      0\n",
       "call_date    0\n",
       "duration     0\n",
       "dtype: int64"
      ]
     },
     "execution_count": 16,
     "metadata": {},
     "output_type": "execute_result"
    }
   ],
   "source": [
    "# Busco valores ausentes\n",
    "df_llamadas.isna().sum()"
   ]
  },
  {
   "cell_type": "code",
   "execution_count": 17,
   "metadata": {
    "colab": {
     "base_uri": "https://localhost:8080/"
    },
    "id": "8OlomUaG1rDS",
    "outputId": "d5bd8eb8-b003-4de9-c6e5-6ab743660ea2"
   },
   "outputs": [
    {
     "name": "stdout",
     "output_type": "stream",
     "text": [
      " 0 filas duplicadas \n"
     ]
    }
   ],
   "source": [
    "# Busco filas duplicadas\n",
    "print(f\" {df_llamadas.duplicated().sum()} filas duplicadas \")"
   ]
  },
  {
   "cell_type": "code",
   "execution_count": 18,
   "metadata": {
    "colab": {
     "base_uri": "https://localhost:8080/",
     "height": 0
    },
    "id": "kuh1vlNB0q09",
    "outputId": "f5aa81e0-2106-49d7-d0f4-bd07af538859"
   },
   "outputs": [
    {
     "data": {
      "text/html": [
       "<div>\n",
       "<style scoped>\n",
       "    .dataframe tbody tr th:only-of-type {\n",
       "        vertical-align: middle;\n",
       "    }\n",
       "\n",
       "    .dataframe tbody tr th {\n",
       "        vertical-align: top;\n",
       "    }\n",
       "\n",
       "    .dataframe thead th {\n",
       "        text-align: right;\n",
       "    }\n",
       "</style>\n",
       "<table border=\"1\" class=\"dataframe\">\n",
       "  <thead>\n",
       "    <tr style=\"text-align: right;\">\n",
       "      <th></th>\n",
       "      <th>id</th>\n",
       "      <th>user_id</th>\n",
       "      <th>call_date</th>\n",
       "      <th>duration</th>\n",
       "    </tr>\n",
       "  </thead>\n",
       "  <tbody>\n",
       "    <tr>\n",
       "      <th>0</th>\n",
       "      <td>1000_93</td>\n",
       "      <td>1000</td>\n",
       "      <td>2018-12-27</td>\n",
       "      <td>8.52</td>\n",
       "    </tr>\n",
       "    <tr>\n",
       "      <th>1</th>\n",
       "      <td>1000_145</td>\n",
       "      <td>1000</td>\n",
       "      <td>2018-12-27</td>\n",
       "      <td>13.66</td>\n",
       "    </tr>\n",
       "    <tr>\n",
       "      <th>2</th>\n",
       "      <td>1000_247</td>\n",
       "      <td>1000</td>\n",
       "      <td>2018-12-27</td>\n",
       "      <td>14.48</td>\n",
       "    </tr>\n",
       "    <tr>\n",
       "      <th>3</th>\n",
       "      <td>1000_309</td>\n",
       "      <td>1000</td>\n",
       "      <td>2018-12-28</td>\n",
       "      <td>5.76</td>\n",
       "    </tr>\n",
       "    <tr>\n",
       "      <th>4</th>\n",
       "      <td>1000_380</td>\n",
       "      <td>1000</td>\n",
       "      <td>2018-12-30</td>\n",
       "      <td>4.22</td>\n",
       "    </tr>\n",
       "  </tbody>\n",
       "</table>\n",
       "</div>"
      ],
      "text/plain": [
       "         id  user_id   call_date  duration\n",
       "0   1000_93     1000  2018-12-27      8.52\n",
       "1  1000_145     1000  2018-12-27     13.66\n",
       "2  1000_247     1000  2018-12-27     14.48\n",
       "3  1000_309     1000  2018-12-28      5.76\n",
       "4  1000_380     1000  2018-12-30      4.22"
      ]
     },
     "execution_count": 18,
     "metadata": {},
     "output_type": "execute_result"
    }
   ],
   "source": [
    "# Imprime una muestra de datos para las llamadas\n",
    "df_llamadas.head()"
   ]
  },
  {
   "cell_type": "code",
   "execution_count": 19,
   "metadata": {},
   "outputs": [
    {
     "data": {
      "text/html": [
       "<div>\n",
       "<style scoped>\n",
       "    .dataframe tbody tr th:only-of-type {\n",
       "        vertical-align: middle;\n",
       "    }\n",
       "\n",
       "    .dataframe tbody tr th {\n",
       "        vertical-align: top;\n",
       "    }\n",
       "\n",
       "    .dataframe thead th {\n",
       "        text-align: right;\n",
       "    }\n",
       "</style>\n",
       "<table border=\"1\" class=\"dataframe\">\n",
       "  <thead>\n",
       "    <tr style=\"text-align: right;\">\n",
       "      <th></th>\n",
       "      <th>user_id</th>\n",
       "      <th>duration</th>\n",
       "    </tr>\n",
       "  </thead>\n",
       "  <tbody>\n",
       "    <tr>\n",
       "      <th>count</th>\n",
       "      <td>137735.000000</td>\n",
       "      <td>137735.000000</td>\n",
       "    </tr>\n",
       "    <tr>\n",
       "      <th>mean</th>\n",
       "      <td>1247.658046</td>\n",
       "      <td>6.745927</td>\n",
       "    </tr>\n",
       "    <tr>\n",
       "      <th>std</th>\n",
       "      <td>139.416268</td>\n",
       "      <td>5.839241</td>\n",
       "    </tr>\n",
       "    <tr>\n",
       "      <th>min</th>\n",
       "      <td>1000.000000</td>\n",
       "      <td>0.000000</td>\n",
       "    </tr>\n",
       "    <tr>\n",
       "      <th>25%</th>\n",
       "      <td>1128.000000</td>\n",
       "      <td>1.290000</td>\n",
       "    </tr>\n",
       "    <tr>\n",
       "      <th>50%</th>\n",
       "      <td>1247.000000</td>\n",
       "      <td>5.980000</td>\n",
       "    </tr>\n",
       "    <tr>\n",
       "      <th>75%</th>\n",
       "      <td>1365.000000</td>\n",
       "      <td>10.690000</td>\n",
       "    </tr>\n",
       "    <tr>\n",
       "      <th>max</th>\n",
       "      <td>1499.000000</td>\n",
       "      <td>37.600000</td>\n",
       "    </tr>\n",
       "  </tbody>\n",
       "</table>\n",
       "</div>"
      ],
      "text/plain": [
       "             user_id       duration\n",
       "count  137735.000000  137735.000000\n",
       "mean     1247.658046       6.745927\n",
       "std       139.416268       5.839241\n",
       "min      1000.000000       0.000000\n",
       "25%      1128.000000       1.290000\n",
       "50%      1247.000000       5.980000\n",
       "75%      1365.000000      10.690000\n",
       "max      1499.000000      37.600000"
      ]
     },
     "execution_count": 19,
     "metadata": {},
     "output_type": "execute_result"
    }
   ],
   "source": [
    "# Exploracion de datos para las llamadas\n",
    "df_llamadas.describe()"
   ]
  },
  {
   "cell_type": "markdown",
   "metadata": {},
   "source": [
    "\n",
    "<div class=\"alert alert-block alert-danger\">\n",
    "\n",
    "<b>Comentario del revisor</b> <a class=\"tocSkip\"></a>\n",
    "\n",
    "Recorda utilizar el metodo describe() para una exploracion rapida inicial de aquellas variables numericas. Siempre es necesario realizarlo ya que de forma rapida tenemos un panorama muy bueno de que nos espera e incluso encontraremos inconsistencias si existiencen.\n",
    "Describi al respecto lo que ves. </div>\n",
    "\n",
    "\n",
    "<div class=\"alert alert-block alert-success\">\n",
    "\n",
    "<b>Comentario del revisor #2</b> <a class=\"tocSkip\"></a>\n",
    "\n",
    "Corregido, bien hecho.\n",
    "\n",
    "</div>"
   ]
  },
  {
   "cell_type": "markdown",
   "metadata": {},
   "source": [
    "<div class=\"alert alert-block alert-info\">\n",
    "<b>Respuesta del estudiante</b> <a class=\"tocSkip\"></a>\n",
    "\n",
    "Añadi la descripcción y los comentarios de las observaciones esta en el ultimo punto de la descripcion del dataframe mas abajo        \n",
    "</div>"
   ]
  },
  {
   "cell_type": "markdown",
   "metadata": {
    "id": "DOAxYJSx0q09"
   },
   "source": [
    "### Descripción\n",
    "\n",
    "* En el dataset de llamadas (call) con un rango de 137 735 registros en 4 columnas, presenta las llamadas por usuario con la fecha en la que se realizo asi como su duracion. Sin la presencia de valores ausentes o duplicados.\n",
    "\n",
    "* La columna de fecha de llamada están almacenadas como objeto (texto). Para facilitar operaciones temporales, se recomienda convertirlas a tipo datetime.\n",
    "\n",
    "* La columna del id de usuario están almacenadas como entero (numero). Para facilitar su manejo, se recomienda convertirlas a objeto(texto).\n",
    "\n",
    "* Para optimizar el manejo de los datos, se sugiere reordenar las columnas de manera lógica, facilitando así la agrupación y el análisis posterior.\n",
    "\n",
    "* Una exploracion inicial de las variables numericas, en ID de usuario coincide con los valores del dataframe de Usuario, en la duracion de llamadas en un rango de 0 a 37.6 minutos donde el promedio de llamada es de 6.8 minutos esto la hace sencible a outliers."
   ]
  },
  {
   "cell_type": "markdown",
   "metadata": {
    "id": "S7hzxmbX0q0-",
    "jp-MarkdownHeadingCollapsed": true
   },
   "source": [
    "### Corregir los datos"
   ]
  },
  {
   "cell_type": "code",
   "execution_count": 20,
   "metadata": {
    "id": "S2r8xA4f0q0-"
   },
   "outputs": [],
   "source": [
    "# Cambio la columna de tipos de datos\n",
    "df_llamadas['user_id'] = df_llamadas['user_id'].astype(str)\n",
    "# Cambio las columnas con fechas a datatime\n",
    "df_llamadas['call_date'] = pd.to_datetime(df_llamadas['call_date'], format='%Y-%m-%d')\n",
    "# Renombro la columna de id, como id de llamada\n",
    "df_llamadas.rename(columns={'id':'call_id'}, inplace=True)"
   ]
  },
  {
   "cell_type": "markdown",
   "metadata": {},
   "source": [
    "<div class=\"alert alert-block alert-danger\">\n",
    "\n",
    "<b>Comentario del revisor</b> <a class=\"tocSkip\"></a>\n",
    "\n",
    "En este caso el cliente tiene una forma particular (redonde al alza) de llevar el recuento de la duracion de las llamadas (aplica un redondeo).\n",
    "\n",
    "Realizalo con el mejor metodo  para esto que es el ceiling de **numpy**. Utilizalo para redondear de forma eficiente. </div>"
   ]
  },
  {
   "cell_type": "markdown",
   "metadata": {
    "id": "KrMgTrlG0q0_",
    "jp-MarkdownHeadingCollapsed": true
   },
   "source": [
    "### Enriquecer los datos"
   ]
  },
  {
   "cell_type": "code",
   "execution_count": 21,
   "metadata": {
    "id": "iZ1avpA_0q0_"
   },
   "outputs": [],
   "source": [
    "# Organizo el orden de las columnas\n",
    "df_llamadas = df_llamadas[['call_id', 'call_date', 'duration', 'user_id']]"
   ]
  },
  {
   "cell_type": "markdown",
   "metadata": {
    "id": "mOUZSi180q0_"
   },
   "source": [
    "## Mensajes"
   ]
  },
  {
   "cell_type": "code",
   "execution_count": 22,
   "metadata": {
    "colab": {
     "base_uri": "https://localhost:8080/"
    },
    "id": "R-bYJpdV0q1A",
    "outputId": "1a5bbdef-efa0-461b-c353-856d606bbdf4"
   },
   "outputs": [
    {
     "name": "stdout",
     "output_type": "stream",
     "text": [
      "<class 'pandas.core.frame.DataFrame'>\n",
      "RangeIndex: 76051 entries, 0 to 76050\n",
      "Data columns (total 3 columns):\n",
      " #   Column        Non-Null Count  Dtype \n",
      "---  ------        --------------  ----- \n",
      " 0   id            76051 non-null  object\n",
      " 1   user_id       76051 non-null  int64 \n",
      " 2   message_date  76051 non-null  object\n",
      "dtypes: int64(1), object(2)\n",
      "memory usage: 1.7+ MB\n"
     ]
    }
   ],
   "source": [
    "# Imprime la información general/resumida sobre el DataFrame de los mensajes\n",
    "df_mensajes.info()"
   ]
  },
  {
   "cell_type": "code",
   "execution_count": 23,
   "metadata": {
    "colab": {
     "base_uri": "https://localhost:8080/",
     "height": 0
    },
    "id": "Yc1EQJyk3Yr-",
    "outputId": "2d40789c-25cb-42ba-8a83-ff53161ead5d"
   },
   "outputs": [
    {
     "data": {
      "text/plain": [
       "id              0\n",
       "user_id         0\n",
       "message_date    0\n",
       "dtype: int64"
      ]
     },
     "execution_count": 23,
     "metadata": {},
     "output_type": "execute_result"
    }
   ],
   "source": [
    "# Busco valores ausentes\n",
    "df_mensajes.isna().sum()"
   ]
  },
  {
   "cell_type": "code",
   "execution_count": 24,
   "metadata": {
    "colab": {
     "base_uri": "https://localhost:8080/"
    },
    "id": "d1qSM7PD3ezc",
    "outputId": "80e75548-b44a-440a-d50d-16faadb766a9"
   },
   "outputs": [
    {
     "name": "stdout",
     "output_type": "stream",
     "text": [
      " 0 filas duplicadas \n"
     ]
    }
   ],
   "source": [
    "# Busco filas duplicadas\n",
    "print(f\" {df_mensajes.duplicated().sum()} filas duplicadas \")"
   ]
  },
  {
   "cell_type": "code",
   "execution_count": 25,
   "metadata": {
    "colab": {
     "base_uri": "https://localhost:8080/",
     "height": 0
    },
    "id": "mCEl2iGE0q1A",
    "outputId": "846087dc-9c76-4411-c1ab-903926cc7032"
   },
   "outputs": [
    {
     "data": {
      "text/html": [
       "<div>\n",
       "<style scoped>\n",
       "    .dataframe tbody tr th:only-of-type {\n",
       "        vertical-align: middle;\n",
       "    }\n",
       "\n",
       "    .dataframe tbody tr th {\n",
       "        vertical-align: top;\n",
       "    }\n",
       "\n",
       "    .dataframe thead th {\n",
       "        text-align: right;\n",
       "    }\n",
       "</style>\n",
       "<table border=\"1\" class=\"dataframe\">\n",
       "  <thead>\n",
       "    <tr style=\"text-align: right;\">\n",
       "      <th></th>\n",
       "      <th>id</th>\n",
       "      <th>user_id</th>\n",
       "      <th>message_date</th>\n",
       "    </tr>\n",
       "  </thead>\n",
       "  <tbody>\n",
       "    <tr>\n",
       "      <th>0</th>\n",
       "      <td>1000_125</td>\n",
       "      <td>1000</td>\n",
       "      <td>2018-12-27</td>\n",
       "    </tr>\n",
       "    <tr>\n",
       "      <th>1</th>\n",
       "      <td>1000_160</td>\n",
       "      <td>1000</td>\n",
       "      <td>2018-12-31</td>\n",
       "    </tr>\n",
       "    <tr>\n",
       "      <th>2</th>\n",
       "      <td>1000_223</td>\n",
       "      <td>1000</td>\n",
       "      <td>2018-12-31</td>\n",
       "    </tr>\n",
       "    <tr>\n",
       "      <th>3</th>\n",
       "      <td>1000_251</td>\n",
       "      <td>1000</td>\n",
       "      <td>2018-12-27</td>\n",
       "    </tr>\n",
       "    <tr>\n",
       "      <th>4</th>\n",
       "      <td>1000_255</td>\n",
       "      <td>1000</td>\n",
       "      <td>2018-12-26</td>\n",
       "    </tr>\n",
       "  </tbody>\n",
       "</table>\n",
       "</div>"
      ],
      "text/plain": [
       "         id  user_id message_date\n",
       "0  1000_125     1000   2018-12-27\n",
       "1  1000_160     1000   2018-12-31\n",
       "2  1000_223     1000   2018-12-31\n",
       "3  1000_251     1000   2018-12-27\n",
       "4  1000_255     1000   2018-12-26"
      ]
     },
     "execution_count": 25,
     "metadata": {},
     "output_type": "execute_result"
    }
   ],
   "source": [
    "# Imprime una muestra de datos para los mensajes\n",
    "df_mensajes.head()"
   ]
  },
  {
   "cell_type": "markdown",
   "metadata": {
    "id": "04xDj7KH0q1A"
   },
   "source": [
    "### Descripción\n",
    "\n",
    "* En el dataset de mensajes (messages) con un rango de 76 051 registros en 4 columnas, presenta los mensajes por usuario con la fecha en la que se realizo. Sin la presencia de valores ausentes o duplicados.\n",
    "\n",
    "* La columna de fecha de mensaje están almacenadas como objeto (texto). Para facilitar operaciones temporales, se recomienda convertirlas a tipo datetime.\n",
    "\n",
    "* La columna del id de usuario están almacenadas como entero (numero). Para facilitar su manejo, se recomienda convertirlas a objeto(texto).\n",
    "\n",
    "* Para optimizar el manejo de los datos, se sugiere reordenar las columnas de manera lógica, facilitando así la agrupación y el análisis posterior."
   ]
  },
  {
   "cell_type": "markdown",
   "metadata": {},
   "source": [
    "<div class=\"alert alert-block alert-success\">\n",
    "\n",
    "<b>Comentario del revisor</b> <a class=\"tocSkip\"></a>\n",
    "\n",
    "Muy bueno.\n",
    "\n",
    "</div>\n",
    "\n"
   ]
  },
  {
   "cell_type": "markdown",
   "metadata": {
    "id": "Sprfak900q1B",
    "jp-MarkdownHeadingCollapsed": true
   },
   "source": [
    "### Corregir los datos"
   ]
  },
  {
   "cell_type": "code",
   "execution_count": 26,
   "metadata": {
    "id": "vsllvkoa0q1B"
   },
   "outputs": [],
   "source": [
    "# Cambio la columna de tipos de datos\n",
    "df_mensajes['user_id'] = df_mensajes['user_id'].astype(str)\n",
    "# Cambio las columnas con fechas a datatime\n",
    "df_mensajes['message_date'] = pd.to_datetime(df_mensajes['message_date'], format='%Y-%m-%d')\n",
    "# Renombro la columna de id, como id de llamada\n",
    "df_mensajes.rename(columns={'id':'message_id'}, inplace=True)"
   ]
  },
  {
   "cell_type": "markdown",
   "metadata": {
    "id": "HvLid7iD0q1B",
    "jp-MarkdownHeadingCollapsed": true
   },
   "source": [
    "### Enriquecer los datos"
   ]
  },
  {
   "cell_type": "code",
   "execution_count": 27,
   "metadata": {
    "id": "zYEXZac10q1C"
   },
   "outputs": [],
   "source": [
    "# Organizo el orden de las columnas\n",
    "df_mensajes = df_mensajes[['message_id', 'message_date', 'user_id']]"
   ]
  },
  {
   "cell_type": "markdown",
   "metadata": {
    "id": "bStkaxn40q1C"
   },
   "source": [
    "## Internet"
   ]
  },
  {
   "cell_type": "code",
   "execution_count": 28,
   "metadata": {
    "colab": {
     "base_uri": "https://localhost:8080/"
    },
    "id": "e-Uz5qyn0q1C",
    "outputId": "b3cf0ab1-1a77-4ae4-ffb3-7f27c80775cd"
   },
   "outputs": [
    {
     "name": "stdout",
     "output_type": "stream",
     "text": [
      "<class 'pandas.core.frame.DataFrame'>\n",
      "RangeIndex: 104825 entries, 0 to 104824\n",
      "Data columns (total 4 columns):\n",
      " #   Column        Non-Null Count   Dtype  \n",
      "---  ------        --------------   -----  \n",
      " 0   id            104825 non-null  object \n",
      " 1   user_id       104825 non-null  int64  \n",
      " 2   session_date  104825 non-null  object \n",
      " 3   mb_used       104825 non-null  float64\n",
      "dtypes: float64(1), int64(1), object(2)\n",
      "memory usage: 3.2+ MB\n"
     ]
    }
   ],
   "source": [
    "# Imprime la información general/resumida sobre el DataFrame de internet\n",
    "df_internet.info()"
   ]
  },
  {
   "cell_type": "code",
   "execution_count": 29,
   "metadata": {
    "colab": {
     "base_uri": "https://localhost:8080/",
     "height": 0
    },
    "id": "Ay6iznOV3qMo",
    "outputId": "3fdc4154-4776-4a52-d5bd-80b91465048c"
   },
   "outputs": [
    {
     "data": {
      "text/plain": [
       "id              0\n",
       "user_id         0\n",
       "session_date    0\n",
       "mb_used         0\n",
       "dtype: int64"
      ]
     },
     "execution_count": 29,
     "metadata": {},
     "output_type": "execute_result"
    }
   ],
   "source": [
    "df_internet.isna().sum()"
   ]
  },
  {
   "cell_type": "code",
   "execution_count": 30,
   "metadata": {
    "colab": {
     "base_uri": "https://localhost:8080/"
    },
    "id": "FeeCH4j13vKP",
    "outputId": "98b62df1-6b45-45a9-e852-bd3c4d1e566e"
   },
   "outputs": [
    {
     "name": "stdout",
     "output_type": "stream",
     "text": [
      " 0 filas duplicadas \n"
     ]
    }
   ],
   "source": [
    "# Busco filas duplicadas\n",
    "print(f\" {df_internet.duplicated().sum()} filas duplicadas \")"
   ]
  },
  {
   "cell_type": "code",
   "execution_count": 31,
   "metadata": {
    "colab": {
     "base_uri": "https://localhost:8080/",
     "height": 0
    },
    "id": "9r3x_XLw0q1C",
    "outputId": "aca01522-a845-49bb-8251-5702a0d7294b"
   },
   "outputs": [
    {
     "data": {
      "text/html": [
       "<div>\n",
       "<style scoped>\n",
       "    .dataframe tbody tr th:only-of-type {\n",
       "        vertical-align: middle;\n",
       "    }\n",
       "\n",
       "    .dataframe tbody tr th {\n",
       "        vertical-align: top;\n",
       "    }\n",
       "\n",
       "    .dataframe thead th {\n",
       "        text-align: right;\n",
       "    }\n",
       "</style>\n",
       "<table border=\"1\" class=\"dataframe\">\n",
       "  <thead>\n",
       "    <tr style=\"text-align: right;\">\n",
       "      <th></th>\n",
       "      <th>id</th>\n",
       "      <th>user_id</th>\n",
       "      <th>session_date</th>\n",
       "      <th>mb_used</th>\n",
       "    </tr>\n",
       "  </thead>\n",
       "  <tbody>\n",
       "    <tr>\n",
       "      <th>0</th>\n",
       "      <td>1000_13</td>\n",
       "      <td>1000</td>\n",
       "      <td>2018-12-29</td>\n",
       "      <td>89.86</td>\n",
       "    </tr>\n",
       "    <tr>\n",
       "      <th>1</th>\n",
       "      <td>1000_204</td>\n",
       "      <td>1000</td>\n",
       "      <td>2018-12-31</td>\n",
       "      <td>0.00</td>\n",
       "    </tr>\n",
       "    <tr>\n",
       "      <th>2</th>\n",
       "      <td>1000_379</td>\n",
       "      <td>1000</td>\n",
       "      <td>2018-12-28</td>\n",
       "      <td>660.40</td>\n",
       "    </tr>\n",
       "    <tr>\n",
       "      <th>3</th>\n",
       "      <td>1000_413</td>\n",
       "      <td>1000</td>\n",
       "      <td>2018-12-26</td>\n",
       "      <td>270.99</td>\n",
       "    </tr>\n",
       "    <tr>\n",
       "      <th>4</th>\n",
       "      <td>1000_442</td>\n",
       "      <td>1000</td>\n",
       "      <td>2018-12-27</td>\n",
       "      <td>880.22</td>\n",
       "    </tr>\n",
       "  </tbody>\n",
       "</table>\n",
       "</div>"
      ],
      "text/plain": [
       "         id  user_id session_date  mb_used\n",
       "0   1000_13     1000   2018-12-29    89.86\n",
       "1  1000_204     1000   2018-12-31     0.00\n",
       "2  1000_379     1000   2018-12-28   660.40\n",
       "3  1000_413     1000   2018-12-26   270.99\n",
       "4  1000_442     1000   2018-12-27   880.22"
      ]
     },
     "execution_count": 31,
     "metadata": {},
     "output_type": "execute_result"
    }
   ],
   "source": [
    "# Imprime una muestra de datos para el tráfico de internet\n",
    "df_internet.head()"
   ]
  },
  {
   "cell_type": "code",
   "execution_count": 32,
   "metadata": {},
   "outputs": [
    {
     "data": {
      "text/html": [
       "<div>\n",
       "<style scoped>\n",
       "    .dataframe tbody tr th:only-of-type {\n",
       "        vertical-align: middle;\n",
       "    }\n",
       "\n",
       "    .dataframe tbody tr th {\n",
       "        vertical-align: top;\n",
       "    }\n",
       "\n",
       "    .dataframe thead th {\n",
       "        text-align: right;\n",
       "    }\n",
       "</style>\n",
       "<table border=\"1\" class=\"dataframe\">\n",
       "  <thead>\n",
       "    <tr style=\"text-align: right;\">\n",
       "      <th></th>\n",
       "      <th>user_id</th>\n",
       "      <th>mb_used</th>\n",
       "    </tr>\n",
       "  </thead>\n",
       "  <tbody>\n",
       "    <tr>\n",
       "      <th>count</th>\n",
       "      <td>104825.000000</td>\n",
       "      <td>104825.000000</td>\n",
       "    </tr>\n",
       "    <tr>\n",
       "      <th>mean</th>\n",
       "      <td>1242.496361</td>\n",
       "      <td>366.713701</td>\n",
       "    </tr>\n",
       "    <tr>\n",
       "      <th>std</th>\n",
       "      <td>142.053913</td>\n",
       "      <td>277.170542</td>\n",
       "    </tr>\n",
       "    <tr>\n",
       "      <th>min</th>\n",
       "      <td>1000.000000</td>\n",
       "      <td>0.000000</td>\n",
       "    </tr>\n",
       "    <tr>\n",
       "      <th>25%</th>\n",
       "      <td>1122.000000</td>\n",
       "      <td>136.080000</td>\n",
       "    </tr>\n",
       "    <tr>\n",
       "      <th>50%</th>\n",
       "      <td>1236.000000</td>\n",
       "      <td>343.980000</td>\n",
       "    </tr>\n",
       "    <tr>\n",
       "      <th>75%</th>\n",
       "      <td>1367.000000</td>\n",
       "      <td>554.610000</td>\n",
       "    </tr>\n",
       "    <tr>\n",
       "      <th>max</th>\n",
       "      <td>1499.000000</td>\n",
       "      <td>1693.470000</td>\n",
       "    </tr>\n",
       "  </tbody>\n",
       "</table>\n",
       "</div>"
      ],
      "text/plain": [
       "             user_id        mb_used\n",
       "count  104825.000000  104825.000000\n",
       "mean     1242.496361     366.713701\n",
       "std       142.053913     277.170542\n",
       "min      1000.000000       0.000000\n",
       "25%      1122.000000     136.080000\n",
       "50%      1236.000000     343.980000\n",
       "75%      1367.000000     554.610000\n",
       "max      1499.000000    1693.470000"
      ]
     },
     "execution_count": 32,
     "metadata": {},
     "output_type": "execute_result"
    }
   ],
   "source": [
    "df_internet.describe()"
   ]
  },
  {
   "cell_type": "code",
   "execution_count": 33,
   "metadata": {},
   "outputs": [
    {
     "data": {
      "text/html": [
       "<div>\n",
       "<style scoped>\n",
       "    .dataframe tbody tr th:only-of-type {\n",
       "        vertical-align: middle;\n",
       "    }\n",
       "\n",
       "    .dataframe tbody tr th {\n",
       "        vertical-align: top;\n",
       "    }\n",
       "\n",
       "    .dataframe thead th {\n",
       "        text-align: right;\n",
       "    }\n",
       "</style>\n",
       "<table border=\"1\" class=\"dataframe\">\n",
       "  <thead>\n",
       "    <tr style=\"text-align: right;\">\n",
       "      <th></th>\n",
       "      <th>user_id</th>\n",
       "      <th>mb_used</th>\n",
       "    </tr>\n",
       "  </thead>\n",
       "  <tbody>\n",
       "    <tr>\n",
       "      <th>count</th>\n",
       "      <td>104825.000000</td>\n",
       "      <td>104825.000000</td>\n",
       "    </tr>\n",
       "    <tr>\n",
       "      <th>mean</th>\n",
       "      <td>1242.496361</td>\n",
       "      <td>366.713701</td>\n",
       "    </tr>\n",
       "    <tr>\n",
       "      <th>std</th>\n",
       "      <td>142.053913</td>\n",
       "      <td>277.170542</td>\n",
       "    </tr>\n",
       "    <tr>\n",
       "      <th>min</th>\n",
       "      <td>1000.000000</td>\n",
       "      <td>0.000000</td>\n",
       "    </tr>\n",
       "    <tr>\n",
       "      <th>25%</th>\n",
       "      <td>1122.000000</td>\n",
       "      <td>136.080000</td>\n",
       "    </tr>\n",
       "    <tr>\n",
       "      <th>50%</th>\n",
       "      <td>1236.000000</td>\n",
       "      <td>343.980000</td>\n",
       "    </tr>\n",
       "    <tr>\n",
       "      <th>75%</th>\n",
       "      <td>1367.000000</td>\n",
       "      <td>554.610000</td>\n",
       "    </tr>\n",
       "    <tr>\n",
       "      <th>max</th>\n",
       "      <td>1499.000000</td>\n",
       "      <td>1693.470000</td>\n",
       "    </tr>\n",
       "  </tbody>\n",
       "</table>\n",
       "</div>"
      ],
      "text/plain": [
       "             user_id        mb_used\n",
       "count  104825.000000  104825.000000\n",
       "mean     1242.496361     366.713701\n",
       "std       142.053913     277.170542\n",
       "min      1000.000000       0.000000\n",
       "25%      1122.000000     136.080000\n",
       "50%      1236.000000     343.980000\n",
       "75%      1367.000000     554.610000\n",
       "max      1499.000000    1693.470000"
      ]
     },
     "execution_count": 33,
     "metadata": {},
     "output_type": "execute_result"
    }
   ],
   "source": [
    "# Exploracion de datos para internet\n",
    "df_internet.describe()"
   ]
  },
  {
   "cell_type": "markdown",
   "metadata": {},
   "source": [
    "\n",
    "\n",
    "<div class=\"alert alert-block alert-danger\">\n",
    "\n",
    "<b>Comentario del revisor</b> <a class=\"tocSkip\"></a>\n",
    "\n",
    "Recorda utilizar el metodo describe() para una exploracion rapida inicial de aquellas variables numericas. Siempre es necesario realizarlo ya que de forma rapida tenemos un panorama muy bueno de que nos espera e incluso encontraremos inconsistencias si existiencen.\n",
    "Describi al respecto lo que ves. </div>\n",
    "\n",
    "\n",
    "<div class=\"alert alert-block alert-success\">\n",
    "\n",
    "<b>Comentario del revisor #2</b> <a class=\"tocSkip\"></a>\n",
    "\n",
    "Corregido.\n",
    "\n",
    "</div>"
   ]
  },
  {
   "cell_type": "markdown",
   "metadata": {},
   "source": [
    "<div class=\"alert alert-block alert-info\">\n",
    "<b>Respuesta del estudiante</b> <a class=\"tocSkip\"></a>\n",
    "\n",
    "Añadi la descripcción y los comentarios de las observaciones esta en el ultimo punto de la descripcion del dataframe mas abajo        \n",
    "</div>"
   ]
  },
  {
   "cell_type": "markdown",
   "metadata": {
    "id": "EzOG5ik30q1D"
   },
   "source": [
    "### Descripción\n",
    "\n",
    "* En el dataset de internet (internet) con un rango de 104 825 registros en 4 columnas, presenta las sessiones por usuario con la fecha en la que se realizo asi como su consumo de datos. Sin la presencia de valores ausentes o duplicados.\n",
    "\n",
    "* La columna de fecha de llamada están almacenadas como objeto (texto). Para facilitar operaciones temporales, se recomienda convertirlas a tipo datetime.\n",
    "\n",
    "* La columna del id de usuario están almacenadas como entero (numero). Para facilitar su manejo, se recomienda convertirlas a objeto.\n",
    "\n",
    "* Para optimizar el manejo de los datos, se sugiere reordenar las columnas de manera lógica, facilitando así la agrupación y el análisis posterior.\n",
    "\n",
    "*  Una exploracion inicial de las variables numericas, en ID de usuario coincide con los valores del dataframe de Usuario, el rango de md utilizados por usuario tambien resalta la necesidad de convertir a Gigabytes para facilitar la comprencion de las estadisticas."
   ]
  },
  {
   "cell_type": "markdown",
   "metadata": {
    "id": "yA0tkPFg0q1D",
    "jp-MarkdownHeadingCollapsed": true
   },
   "source": [
    "### Corregir los datos"
   ]
  },
  {
   "cell_type": "code",
   "execution_count": 34,
   "metadata": {
    "id": "zVeanzdd0q1E"
   },
   "outputs": [],
   "source": [
    "# Cambio la columna de tipos de datos\n",
    "df_internet['user_id'] = df_internet['user_id'].astype(str)\n",
    "# Cambio las columnas con fechas a datatime\n",
    "df_internet['session_date'] = pd.to_datetime(df_internet['session_date'], format='%Y-%m-%d')\n",
    "# Renombro la columna de id, como id de llamada\n",
    "df_internet.rename(columns={'id':'session_id'}, inplace=True)"
   ]
  },
  {
   "cell_type": "markdown",
   "metadata": {
    "id": "e8_mLF4a0q1E",
    "jp-MarkdownHeadingCollapsed": true
   },
   "source": [
    "### Enriquecer los datos"
   ]
  },
  {
   "cell_type": "code",
   "execution_count": 35,
   "metadata": {
    "id": "ESiYPIEK0q1E"
   },
   "outputs": [],
   "source": [
    "# Organizo el orden de las columnas\n",
    "df_internet = df_internet[['session_id', 'user_id', 'session_date',\t'mb_used']]"
   ]
  },
  {
   "cell_type": "markdown",
   "metadata": {
    "id": "3UA2cqIW0q1E"
   },
   "source": [
    "## Estudiar las condiciones de las tarifas"
   ]
  },
  {
   "cell_type": "code",
   "execution_count": 36,
   "metadata": {
    "colab": {
     "base_uri": "https://localhost:8080/",
     "height": 0
    },
    "id": "i409op8p0q1F",
    "outputId": "b2d2379a-1607-464b-91d3-f4828b9148ce"
   },
   "outputs": [
    {
     "data": {
      "text/html": [
       "<div>\n",
       "<style scoped>\n",
       "    .dataframe tbody tr th:only-of-type {\n",
       "        vertical-align: middle;\n",
       "    }\n",
       "\n",
       "    .dataframe tbody tr th {\n",
       "        vertical-align: top;\n",
       "    }\n",
       "\n",
       "    .dataframe thead th {\n",
       "        text-align: right;\n",
       "    }\n",
       "</style>\n",
       "<table border=\"1\" class=\"dataframe\">\n",
       "  <thead>\n",
       "    <tr style=\"text-align: right;\">\n",
       "      <th></th>\n",
       "      <th>plan_name</th>\n",
       "      <th>usd_monthly_fee</th>\n",
       "      <th>minutes_included</th>\n",
       "      <th>messages_included</th>\n",
       "      <th>gb_included</th>\n",
       "      <th>usd_per_minute</th>\n",
       "      <th>usd_per_message</th>\n",
       "      <th>usd_per_gb</th>\n",
       "    </tr>\n",
       "  </thead>\n",
       "  <tbody>\n",
       "    <tr>\n",
       "      <th>0</th>\n",
       "      <td>surf</td>\n",
       "      <td>20</td>\n",
       "      <td>500</td>\n",
       "      <td>50</td>\n",
       "      <td>15</td>\n",
       "      <td>0.03</td>\n",
       "      <td>0.03</td>\n",
       "      <td>10</td>\n",
       "    </tr>\n",
       "    <tr>\n",
       "      <th>1</th>\n",
       "      <td>ultimate</td>\n",
       "      <td>70</td>\n",
       "      <td>3000</td>\n",
       "      <td>1000</td>\n",
       "      <td>30</td>\n",
       "      <td>0.01</td>\n",
       "      <td>0.01</td>\n",
       "      <td>7</td>\n",
       "    </tr>\n",
       "  </tbody>\n",
       "</table>\n",
       "</div>"
      ],
      "text/plain": [
       "  plan_name  usd_monthly_fee  minutes_included  messages_included  \\\n",
       "0      surf               20               500                 50   \n",
       "1  ultimate               70              3000               1000   \n",
       "\n",
       "   gb_included  usd_per_minute  usd_per_message  usd_per_gb  \n",
       "0           15            0.03             0.03          10  \n",
       "1           30            0.01             0.01           7  "
      ]
     },
     "execution_count": 36,
     "metadata": {},
     "output_type": "execute_result"
    }
   ],
   "source": [
    "# Imprime las condiciones de la tarifa y asegúrate de que te quedan claras\n",
    "df_tarifas.head()"
   ]
  },
  {
   "cell_type": "markdown",
   "metadata": {
    "id": "hMR1tP5d0q1F"
   },
   "source": [
    "## Agregar datos por usuario"
   ]
  },
  {
   "cell_type": "code",
   "execution_count": 37,
   "metadata": {
    "colab": {
     "base_uri": "https://localhost:8080/",
     "height": 0
    },
    "id": "A332cedB0q1G",
    "outputId": "1df7c1e5-b6d3-4cb7-be3f-a5dfd41de3e8"
   },
   "outputs": [
    {
     "data": {
      "text/html": [
       "<div>\n",
       "<style scoped>\n",
       "    .dataframe tbody tr th:only-of-type {\n",
       "        vertical-align: middle;\n",
       "    }\n",
       "\n",
       "    .dataframe tbody tr th {\n",
       "        vertical-align: top;\n",
       "    }\n",
       "\n",
       "    .dataframe thead th {\n",
       "        text-align: right;\n",
       "    }\n",
       "</style>\n",
       "<table border=\"1\" class=\"dataframe\">\n",
       "  <thead>\n",
       "    <tr style=\"text-align: right;\">\n",
       "      <th></th>\n",
       "      <th>user_id</th>\n",
       "      <th>per_month</th>\n",
       "      <th>total_calls</th>\n",
       "    </tr>\n",
       "  </thead>\n",
       "  <tbody>\n",
       "    <tr>\n",
       "      <th>0</th>\n",
       "      <td>1000</td>\n",
       "      <td>December</td>\n",
       "      <td>16</td>\n",
       "    </tr>\n",
       "    <tr>\n",
       "      <th>1</th>\n",
       "      <td>1001</td>\n",
       "      <td>August</td>\n",
       "      <td>27</td>\n",
       "    </tr>\n",
       "    <tr>\n",
       "      <th>2</th>\n",
       "      <td>1001</td>\n",
       "      <td>December</td>\n",
       "      <td>56</td>\n",
       "    </tr>\n",
       "    <tr>\n",
       "      <th>3</th>\n",
       "      <td>1001</td>\n",
       "      <td>November</td>\n",
       "      <td>64</td>\n",
       "    </tr>\n",
       "    <tr>\n",
       "      <th>4</th>\n",
       "      <td>1001</td>\n",
       "      <td>October</td>\n",
       "      <td>65</td>\n",
       "    </tr>\n",
       "  </tbody>\n",
       "</table>\n",
       "</div>"
      ],
      "text/plain": [
       "  user_id per_month  total_calls\n",
       "0    1000  December           16\n",
       "1    1001    August           27\n",
       "2    1001  December           56\n",
       "3    1001  November           64\n",
       "4    1001   October           65"
      ]
     },
     "execution_count": 37,
     "metadata": {},
     "output_type": "execute_result"
    }
   ],
   "source": [
    "# Calcula el número de llamadas hechas por cada usuario al mes. Guarda el resultado.\n",
    "df_llamadas['per_month'] = df_llamadas['call_date'].dt.month_name()\n",
    "\n",
    "llamadas_al_mes = df_llamadas.groupby(['user_id', 'per_month' ])['call_id'].count().reset_index()\n",
    "llamadas_al_mes.rename(columns={'call_id': 'total_calls'}, inplace=True)\n",
    "\n",
    "llamadas_pivot = llamadas_al_mes.pivot(index='user_id',\n",
    "                                       columns='per_month',\n",
    "                                       values='total_calls') #.fillna(0)\n",
    "# Muestro la tabla\n",
    "llamadas_al_mes.head()"
   ]
  },
  {
   "cell_type": "code",
   "execution_count": 38,
   "metadata": {
    "colab": {
     "base_uri": "https://localhost:8080/",
     "height": 0
    },
    "id": "aw2cmuql0q1G",
    "outputId": "0bc4f3e0-298e-4985-e8a2-caa9bb380c9a"
   },
   "outputs": [
    {
     "data": {
      "text/html": [
       "<div>\n",
       "<style scoped>\n",
       "    .dataframe tbody tr th:only-of-type {\n",
       "        vertical-align: middle;\n",
       "    }\n",
       "\n",
       "    .dataframe tbody tr th {\n",
       "        vertical-align: top;\n",
       "    }\n",
       "\n",
       "    .dataframe thead th {\n",
       "        text-align: right;\n",
       "    }\n",
       "</style>\n",
       "<table border=\"1\" class=\"dataframe\">\n",
       "  <thead>\n",
       "    <tr style=\"text-align: right;\">\n",
       "      <th></th>\n",
       "      <th>user_id</th>\n",
       "      <th>per_month</th>\n",
       "      <th>minutes_consumed</th>\n",
       "    </tr>\n",
       "  </thead>\n",
       "  <tbody>\n",
       "    <tr>\n",
       "      <th>0</th>\n",
       "      <td>1000</td>\n",
       "      <td>December</td>\n",
       "      <td>116.83</td>\n",
       "    </tr>\n",
       "    <tr>\n",
       "      <th>1</th>\n",
       "      <td>1001</td>\n",
       "      <td>August</td>\n",
       "      <td>171.14</td>\n",
       "    </tr>\n",
       "    <tr>\n",
       "      <th>2</th>\n",
       "      <td>1001</td>\n",
       "      <td>December</td>\n",
       "      <td>392.93</td>\n",
       "    </tr>\n",
       "    <tr>\n",
       "      <th>3</th>\n",
       "      <td>1001</td>\n",
       "      <td>November</td>\n",
       "      <td>404.59</td>\n",
       "    </tr>\n",
       "    <tr>\n",
       "      <th>4</th>\n",
       "      <td>1001</td>\n",
       "      <td>October</td>\n",
       "      <td>374.11</td>\n",
       "    </tr>\n",
       "  </tbody>\n",
       "</table>\n",
       "</div>"
      ],
      "text/plain": [
       "  user_id per_month  minutes_consumed\n",
       "0    1000  December            116.83\n",
       "1    1001    August            171.14\n",
       "2    1001  December            392.93\n",
       "3    1001  November            404.59\n",
       "4    1001   October            374.11"
      ]
     },
     "execution_count": 38,
     "metadata": {},
     "output_type": "execute_result"
    }
   ],
   "source": [
    "# Calcula la cantidad de minutos usados por cada usuario al mes. Guarda el resultado.\n",
    "minutos_al_mes =  df_llamadas.groupby(['user_id', 'per_month'])['duration'].sum().reset_index()\n",
    "minutos_al_mes.rename(columns={'duration': 'minutes_consumed'}, inplace=True)\n",
    "\n",
    "minutos_pivot = minutos_al_mes.pivot(index='user_id',\n",
    "                                     columns='per_month',\n",
    "                                     values='minutes_consumed')\n",
    "\n",
    "# Muestro la tabla\n",
    "minutos_al_mes.head()"
   ]
  },
  {
   "cell_type": "code",
   "execution_count": 39,
   "metadata": {
    "colab": {
     "base_uri": "https://localhost:8080/",
     "height": 0
    },
    "id": "CcQvNHn60q1G",
    "outputId": "9924d24b-30e7-45bd-b9ae-7fe5de76b88a"
   },
   "outputs": [
    {
     "data": {
      "text/html": [
       "<div>\n",
       "<style scoped>\n",
       "    .dataframe tbody tr th:only-of-type {\n",
       "        vertical-align: middle;\n",
       "    }\n",
       "\n",
       "    .dataframe tbody tr th {\n",
       "        vertical-align: top;\n",
       "    }\n",
       "\n",
       "    .dataframe thead th {\n",
       "        text-align: right;\n",
       "    }\n",
       "</style>\n",
       "<table border=\"1\" class=\"dataframe\">\n",
       "  <thead>\n",
       "    <tr style=\"text-align: right;\">\n",
       "      <th></th>\n",
       "      <th>user_id</th>\n",
       "      <th>per_month</th>\n",
       "      <th>messages_consumed</th>\n",
       "    </tr>\n",
       "  </thead>\n",
       "  <tbody>\n",
       "    <tr>\n",
       "      <th>0</th>\n",
       "      <td>1000</td>\n",
       "      <td>December</td>\n",
       "      <td>11</td>\n",
       "    </tr>\n",
       "    <tr>\n",
       "      <th>1</th>\n",
       "      <td>1001</td>\n",
       "      <td>August</td>\n",
       "      <td>30</td>\n",
       "    </tr>\n",
       "    <tr>\n",
       "      <th>2</th>\n",
       "      <td>1001</td>\n",
       "      <td>December</td>\n",
       "      <td>44</td>\n",
       "    </tr>\n",
       "    <tr>\n",
       "      <th>3</th>\n",
       "      <td>1001</td>\n",
       "      <td>November</td>\n",
       "      <td>36</td>\n",
       "    </tr>\n",
       "    <tr>\n",
       "      <th>4</th>\n",
       "      <td>1001</td>\n",
       "      <td>October</td>\n",
       "      <td>53</td>\n",
       "    </tr>\n",
       "  </tbody>\n",
       "</table>\n",
       "</div>"
      ],
      "text/plain": [
       "  user_id per_month  messages_consumed\n",
       "0    1000  December                 11\n",
       "1    1001    August                 30\n",
       "2    1001  December                 44\n",
       "3    1001  November                 36\n",
       "4    1001   October                 53"
      ]
     },
     "execution_count": 39,
     "metadata": {},
     "output_type": "execute_result"
    }
   ],
   "source": [
    "# Calcula el número de mensajes enviados por cada usuario al mes. Guarda el resultado.\n",
    "df_mensajes['per_month'] = df_mensajes['message_date'].dt.month_name()\n",
    "mensajes_al_mes = df_mensajes.groupby(['user_id', 'per_month' ])['message_id'].count().reset_index()\n",
    "mensajes_al_mes.rename(columns={'message_id': 'messages_consumed'}, inplace=True)\n",
    "\n",
    "mensajes_pivot = mensajes_al_mes.pivot(index='user_id',\n",
    "                                       columns='per_month',\n",
    "                                       values='messages_consumed')\n",
    "\n",
    "# Muestro la tabla\n",
    "mensajes_al_mes.head()"
   ]
  },
  {
   "cell_type": "code",
   "execution_count": 40,
   "metadata": {
    "colab": {
     "base_uri": "https://localhost:8080/",
     "height": 0
    },
    "id": "H1AqN2eG0q1H",
    "outputId": "d21baeb5-6668-415e-a572-9ce641b803c1"
   },
   "outputs": [
    {
     "data": {
      "text/html": [
       "<div>\n",
       "<style scoped>\n",
       "    .dataframe tbody tr th:only-of-type {\n",
       "        vertical-align: middle;\n",
       "    }\n",
       "\n",
       "    .dataframe tbody tr th {\n",
       "        vertical-align: top;\n",
       "    }\n",
       "\n",
       "    .dataframe thead th {\n",
       "        text-align: right;\n",
       "    }\n",
       "</style>\n",
       "<table border=\"1\" class=\"dataframe\">\n",
       "  <thead>\n",
       "    <tr style=\"text-align: right;\">\n",
       "      <th></th>\n",
       "      <th>user_id</th>\n",
       "      <th>per_month</th>\n",
       "      <th>gb_consumed</th>\n",
       "    </tr>\n",
       "  </thead>\n",
       "  <tbody>\n",
       "    <tr>\n",
       "      <th>0</th>\n",
       "      <td>1000</td>\n",
       "      <td>December</td>\n",
       "      <td>5</td>\n",
       "    </tr>\n",
       "    <tr>\n",
       "      <th>1</th>\n",
       "      <td>1001</td>\n",
       "      <td>August</td>\n",
       "      <td>25</td>\n",
       "    </tr>\n",
       "    <tr>\n",
       "      <th>2</th>\n",
       "      <td>1001</td>\n",
       "      <td>December</td>\n",
       "      <td>60</td>\n",
       "    </tr>\n",
       "    <tr>\n",
       "      <th>3</th>\n",
       "      <td>1001</td>\n",
       "      <td>November</td>\n",
       "      <td>51</td>\n",
       "    </tr>\n",
       "    <tr>\n",
       "      <th>4</th>\n",
       "      <td>1001</td>\n",
       "      <td>October</td>\n",
       "      <td>56</td>\n",
       "    </tr>\n",
       "  </tbody>\n",
       "</table>\n",
       "</div>"
      ],
      "text/plain": [
       "  user_id per_month  gb_consumed\n",
       "0    1000  December            5\n",
       "1    1001    August           25\n",
       "2    1001  December           60\n",
       "3    1001  November           51\n",
       "4    1001   October           56"
      ]
     },
     "execution_count": 40,
     "metadata": {},
     "output_type": "execute_result"
    }
   ],
   "source": [
    "# Calcula el volumen del tráfico de Internet usado por cada usuario al mes. Guarda el resultado.\n",
    "df_internet['per_month'] = df_internet['session_date'].dt.month_name()\n",
    "\n",
    "datos_al_mes = df_internet.groupby(['user_id','per_month'])['session_id'].count().reset_index()\n",
    "datos_al_mes.rename(columns={'session_id':'gb_consumed'}, inplace=True)\n",
    "\n",
    "datos_pivot = datos_al_mes.pivot(index='user_id',\n",
    "                                 columns='per_month',\n",
    "                                 values='gb_consumed')\n",
    "\n",
    "# Muestro la tabla\n",
    "datos_al_mes.head()"
   ]
  },
  {
   "cell_type": "markdown",
   "metadata": {},
   "source": [
    "\n",
    "<div class=\"alert alert-block alert-success\">\n",
    "\n",
    "<b>Comentario del revisor #2</b> <a class=\"tocSkip\"></a>\n",
    "\n",
    "Perfecto Jose, en el calculo de ingreso quedo muy bien.\n",
    "</div>"
   ]
  },
  {
   "cell_type": "markdown",
   "metadata": {},
   "source": [
    "<div class=\"alert alert-block alert-info\">\n",
    "<b>Respuesta del estudiante</b> <a class=\"tocSkip\"></a>\n",
    "\n",
    "El redondeo  de llamadas, mensajes, volumen de trafico lo aplique al calcular el ingreso mensual del usuario (tres celdas abajo), restando el consumo del mes menos lo incluido por plan con el redondeo hacia arriba.      \n",
    "</div>"
   ]
  },
  {
   "cell_type": "code",
   "execution_count": 41,
   "metadata": {
    "colab": {
     "base_uri": "https://localhost:8080/",
     "height": 0
    },
    "id": "FW99ykyf0q1H",
    "outputId": "da200c14-3654-46bc-a772-c27cb0a23f00"
   },
   "outputs": [
    {
     "data": {
      "text/html": [
       "<div>\n",
       "<style scoped>\n",
       "    .dataframe tbody tr th:only-of-type {\n",
       "        vertical-align: middle;\n",
       "    }\n",
       "\n",
       "    .dataframe tbody tr th {\n",
       "        vertical-align: top;\n",
       "    }\n",
       "\n",
       "    .dataframe thead th {\n",
       "        text-align: right;\n",
       "    }\n",
       "</style>\n",
       "<table border=\"1\" class=\"dataframe\">\n",
       "  <thead>\n",
       "    <tr style=\"text-align: right;\">\n",
       "      <th></th>\n",
       "      <th>user_id</th>\n",
       "      <th>per_month</th>\n",
       "      <th>total_calls</th>\n",
       "      <th>minutes_consumed</th>\n",
       "      <th>messages_consumed</th>\n",
       "      <th>gb_consumed</th>\n",
       "    </tr>\n",
       "  </thead>\n",
       "  <tbody>\n",
       "    <tr>\n",
       "      <th>0</th>\n",
       "      <td>1000</td>\n",
       "      <td>December</td>\n",
       "      <td>16</td>\n",
       "      <td>116.83</td>\n",
       "      <td>11.0</td>\n",
       "      <td>5.0</td>\n",
       "    </tr>\n",
       "    <tr>\n",
       "      <th>1</th>\n",
       "      <td>1001</td>\n",
       "      <td>August</td>\n",
       "      <td>27</td>\n",
       "      <td>171.14</td>\n",
       "      <td>30.0</td>\n",
       "      <td>25.0</td>\n",
       "    </tr>\n",
       "    <tr>\n",
       "      <th>2</th>\n",
       "      <td>1001</td>\n",
       "      <td>December</td>\n",
       "      <td>56</td>\n",
       "      <td>392.93</td>\n",
       "      <td>44.0</td>\n",
       "      <td>60.0</td>\n",
       "    </tr>\n",
       "    <tr>\n",
       "      <th>3</th>\n",
       "      <td>1001</td>\n",
       "      <td>November</td>\n",
       "      <td>64</td>\n",
       "      <td>404.59</td>\n",
       "      <td>36.0</td>\n",
       "      <td>51.0</td>\n",
       "    </tr>\n",
       "    <tr>\n",
       "      <th>4</th>\n",
       "      <td>1001</td>\n",
       "      <td>October</td>\n",
       "      <td>65</td>\n",
       "      <td>374.11</td>\n",
       "      <td>53.0</td>\n",
       "      <td>56.0</td>\n",
       "    </tr>\n",
       "    <tr>\n",
       "      <th>...</th>\n",
       "      <td>...</td>\n",
       "      <td>...</td>\n",
       "      <td>...</td>\n",
       "      <td>...</td>\n",
       "      <td>...</td>\n",
       "      <td>...</td>\n",
       "    </tr>\n",
       "    <tr>\n",
       "      <th>2253</th>\n",
       "      <td>1498</td>\n",
       "      <td>September</td>\n",
       "      <td>45</td>\n",
       "      <td>344.62</td>\n",
       "      <td>NaN</td>\n",
       "      <td>57.0</td>\n",
       "    </tr>\n",
       "    <tr>\n",
       "      <th>2254</th>\n",
       "      <td>1499</td>\n",
       "      <td>December</td>\n",
       "      <td>65</td>\n",
       "      <td>468.10</td>\n",
       "      <td>NaN</td>\n",
       "      <td>65.0</td>\n",
       "    </tr>\n",
       "    <tr>\n",
       "      <th>2255</th>\n",
       "      <td>1499</td>\n",
       "      <td>November</td>\n",
       "      <td>45</td>\n",
       "      <td>288.56</td>\n",
       "      <td>NaN</td>\n",
       "      <td>49.0</td>\n",
       "    </tr>\n",
       "    <tr>\n",
       "      <th>2256</th>\n",
       "      <td>1499</td>\n",
       "      <td>October</td>\n",
       "      <td>53</td>\n",
       "      <td>363.28</td>\n",
       "      <td>NaN</td>\n",
       "      <td>61.0</td>\n",
       "    </tr>\n",
       "    <tr>\n",
       "      <th>2257</th>\n",
       "      <td>1499</td>\n",
       "      <td>September</td>\n",
       "      <td>41</td>\n",
       "      <td>330.37</td>\n",
       "      <td>NaN</td>\n",
       "      <td>45.0</td>\n",
       "    </tr>\n",
       "  </tbody>\n",
       "</table>\n",
       "<p>2258 rows × 6 columns</p>\n",
       "</div>"
      ],
      "text/plain": [
       "     user_id  per_month  total_calls  minutes_consumed  messages_consumed  \\\n",
       "0       1000   December           16            116.83               11.0   \n",
       "1       1001     August           27            171.14               30.0   \n",
       "2       1001   December           56            392.93               44.0   \n",
       "3       1001   November           64            404.59               36.0   \n",
       "4       1001    October           65            374.11               53.0   \n",
       "...      ...        ...          ...               ...                ...   \n",
       "2253    1498  September           45            344.62                NaN   \n",
       "2254    1499   December           65            468.10                NaN   \n",
       "2255    1499   November           45            288.56                NaN   \n",
       "2256    1499    October           53            363.28                NaN   \n",
       "2257    1499  September           41            330.37                NaN   \n",
       "\n",
       "      gb_consumed  \n",
       "0             5.0  \n",
       "1            25.0  \n",
       "2            60.0  \n",
       "3            51.0  \n",
       "4            56.0  \n",
       "...           ...  \n",
       "2253         57.0  \n",
       "2254         65.0  \n",
       "2255         49.0  \n",
       "2256         61.0  \n",
       "2257         45.0  \n",
       "\n",
       "[2258 rows x 6 columns]"
      ]
     },
     "execution_count": 41,
     "metadata": {},
     "output_type": "execute_result"
    }
   ],
   "source": [
    "# Fusiona los datos de llamadas, minutos, mensajes e Internet con base en user_id y month\n",
    "consumo_mensual = llamadas_al_mes.merge(minutos_al_mes, on=['user_id', 'per_month'], how='left')\n",
    "consumo_mensual = consumo_mensual.merge(mensajes_al_mes, on=['user_id','per_month'], how='left')\n",
    "consumo_mensual = consumo_mensual.merge(datos_al_mes, on=['user_id','per_month'], how='left')\n",
    "consumo_mensual"
   ]
  },
  {
   "cell_type": "code",
   "execution_count": 42,
   "metadata": {
    "colab": {
     "base_uri": "https://localhost:8080/",
     "height": 0
    },
    "id": "0dNOXHag0q1H",
    "outputId": "c2204426-4c51-434c-e81b-b17705ca7503"
   },
   "outputs": [
    {
     "data": {
      "text/html": [
       "<div>\n",
       "<style scoped>\n",
       "    .dataframe tbody tr th:only-of-type {\n",
       "        vertical-align: middle;\n",
       "    }\n",
       "\n",
       "    .dataframe tbody tr th {\n",
       "        vertical-align: top;\n",
       "    }\n",
       "\n",
       "    .dataframe thead th {\n",
       "        text-align: right;\n",
       "    }\n",
       "</style>\n",
       "<table border=\"1\" class=\"dataframe\">\n",
       "  <thead>\n",
       "    <tr style=\"text-align: right;\">\n",
       "      <th></th>\n",
       "      <th>user_id</th>\n",
       "      <th>per_month</th>\n",
       "      <th>total_calls</th>\n",
       "      <th>minutes_consumed</th>\n",
       "      <th>messages_consumed</th>\n",
       "      <th>gb_consumed</th>\n",
       "      <th>plan_name</th>\n",
       "      <th>city</th>\n",
       "      <th>usd_monthly_fee</th>\n",
       "      <th>minutes_included</th>\n",
       "      <th>messages_included</th>\n",
       "      <th>gb_included</th>\n",
       "      <th>usd_per_minute</th>\n",
       "      <th>usd_per_message</th>\n",
       "      <th>usd_per_gb</th>\n",
       "    </tr>\n",
       "  </thead>\n",
       "  <tbody>\n",
       "    <tr>\n",
       "      <th>0</th>\n",
       "      <td>1000</td>\n",
       "      <td>December</td>\n",
       "      <td>16</td>\n",
       "      <td>116.83</td>\n",
       "      <td>11.0</td>\n",
       "      <td>5.0</td>\n",
       "      <td>ultimate</td>\n",
       "      <td>Atlanta-Sandy Springs-Roswell, GA MSA</td>\n",
       "      <td>70</td>\n",
       "      <td>3000</td>\n",
       "      <td>1000</td>\n",
       "      <td>30</td>\n",
       "      <td>0.01</td>\n",
       "      <td>0.01</td>\n",
       "      <td>7</td>\n",
       "    </tr>\n",
       "    <tr>\n",
       "      <th>1</th>\n",
       "      <td>1006</td>\n",
       "      <td>December</td>\n",
       "      <td>9</td>\n",
       "      <td>54.79</td>\n",
       "      <td>139.0</td>\n",
       "      <td>63.0</td>\n",
       "      <td>ultimate</td>\n",
       "      <td>San Francisco-Oakland-Berkeley, CA MSA</td>\n",
       "      <td>70</td>\n",
       "      <td>3000</td>\n",
       "      <td>1000</td>\n",
       "      <td>30</td>\n",
       "      <td>0.01</td>\n",
       "      <td>0.01</td>\n",
       "      <td>7</td>\n",
       "    </tr>\n",
       "    <tr>\n",
       "      <th>2</th>\n",
       "      <td>1006</td>\n",
       "      <td>November</td>\n",
       "      <td>2</td>\n",
       "      <td>9.32</td>\n",
       "      <td>15.0</td>\n",
       "      <td>7.0</td>\n",
       "      <td>ultimate</td>\n",
       "      <td>San Francisco-Oakland-Berkeley, CA MSA</td>\n",
       "      <td>70</td>\n",
       "      <td>3000</td>\n",
       "      <td>1000</td>\n",
       "      <td>30</td>\n",
       "      <td>0.01</td>\n",
       "      <td>0.01</td>\n",
       "      <td>7</td>\n",
       "    </tr>\n",
       "    <tr>\n",
       "      <th>3</th>\n",
       "      <td>1008</td>\n",
       "      <td>December</td>\n",
       "      <td>85</td>\n",
       "      <td>600.29</td>\n",
       "      <td>26.0</td>\n",
       "      <td>47.0</td>\n",
       "      <td>ultimate</td>\n",
       "      <td>Orlando-Kissimmee-Sanford, FL MSA</td>\n",
       "      <td>70</td>\n",
       "      <td>3000</td>\n",
       "      <td>1000</td>\n",
       "      <td>30</td>\n",
       "      <td>0.01</td>\n",
       "      <td>0.01</td>\n",
       "      <td>7</td>\n",
       "    </tr>\n",
       "    <tr>\n",
       "      <th>4</th>\n",
       "      <td>1008</td>\n",
       "      <td>November</td>\n",
       "      <td>63</td>\n",
       "      <td>422.81</td>\n",
       "      <td>37.0</td>\n",
       "      <td>72.0</td>\n",
       "      <td>ultimate</td>\n",
       "      <td>Orlando-Kissimmee-Sanford, FL MSA</td>\n",
       "      <td>70</td>\n",
       "      <td>3000</td>\n",
       "      <td>1000</td>\n",
       "      <td>30</td>\n",
       "      <td>0.01</td>\n",
       "      <td>0.01</td>\n",
       "      <td>7</td>\n",
       "    </tr>\n",
       "  </tbody>\n",
       "</table>\n",
       "</div>"
      ],
      "text/plain": [
       "  user_id per_month  total_calls  minutes_consumed  messages_consumed  \\\n",
       "0    1000  December           16            116.83               11.0   \n",
       "1    1006  December            9             54.79              139.0   \n",
       "2    1006  November            2              9.32               15.0   \n",
       "3    1008  December           85            600.29               26.0   \n",
       "4    1008  November           63            422.81               37.0   \n",
       "\n",
       "   gb_consumed plan_name                                    city  \\\n",
       "0          5.0  ultimate   Atlanta-Sandy Springs-Roswell, GA MSA   \n",
       "1         63.0  ultimate  San Francisco-Oakland-Berkeley, CA MSA   \n",
       "2          7.0  ultimate  San Francisco-Oakland-Berkeley, CA MSA   \n",
       "3         47.0  ultimate       Orlando-Kissimmee-Sanford, FL MSA   \n",
       "4         72.0  ultimate       Orlando-Kissimmee-Sanford, FL MSA   \n",
       "\n",
       "   usd_monthly_fee  minutes_included  messages_included  gb_included  \\\n",
       "0               70              3000               1000           30   \n",
       "1               70              3000               1000           30   \n",
       "2               70              3000               1000           30   \n",
       "3               70              3000               1000           30   \n",
       "4               70              3000               1000           30   \n",
       "\n",
       "   usd_per_minute  usd_per_message  usd_per_gb  \n",
       "0            0.01             0.01           7  \n",
       "1            0.01             0.01           7  \n",
       "2            0.01             0.01           7  \n",
       "3            0.01             0.01           7  \n",
       "4            0.01             0.01           7  "
      ]
     },
     "execution_count": 42,
     "metadata": {},
     "output_type": "execute_result"
    }
   ],
   "source": [
    "# Añade la información de la tarifa\n",
    "consumo_mensual = consumo_mensual.merge(df_usuarios[['user_id', 'plan_name','city']], on= 'user_id', how='left')\n",
    "consumo_mensual = consumo_mensual.merge(df_tarifas, on= 'plan_name')\n",
    "consumo_mensual.head()"
   ]
  },
  {
   "cell_type": "code",
   "execution_count": 43,
   "metadata": {
    "colab": {
     "base_uri": "https://localhost:8080/",
     "height": 0
    },
    "id": "5FGCf_c60q1I",
    "outputId": "5b928ba2-9673-4025-8732-c48a7d4ad033"
   },
   "outputs": [
    {
     "data": {
      "text/html": [
       "<div>\n",
       "<style scoped>\n",
       "    .dataframe tbody tr th:only-of-type {\n",
       "        vertical-align: middle;\n",
       "    }\n",
       "\n",
       "    .dataframe tbody tr th {\n",
       "        vertical-align: top;\n",
       "    }\n",
       "\n",
       "    .dataframe thead th {\n",
       "        text-align: right;\n",
       "    }\n",
       "</style>\n",
       "<table border=\"1\" class=\"dataframe\">\n",
       "  <thead>\n",
       "    <tr style=\"text-align: right;\">\n",
       "      <th></th>\n",
       "      <th>user_id</th>\n",
       "      <th>per_month</th>\n",
       "      <th>total_calls</th>\n",
       "      <th>minutes_consumed</th>\n",
       "      <th>messages_consumed</th>\n",
       "      <th>gb_consumed</th>\n",
       "      <th>plan_name</th>\n",
       "      <th>city</th>\n",
       "      <th>usd_monthly_fee</th>\n",
       "      <th>minutes_included</th>\n",
       "      <th>...</th>\n",
       "      <th>usd_per_minute</th>\n",
       "      <th>usd_per_message</th>\n",
       "      <th>usd_per_gb</th>\n",
       "      <th>extra_minutes</th>\n",
       "      <th>extra_minutes_cost</th>\n",
       "      <th>extra_messages</th>\n",
       "      <th>extra_messages_cost</th>\n",
       "      <th>extra_gb</th>\n",
       "      <th>extra_gb_cost</th>\n",
       "      <th>monthly_income</th>\n",
       "    </tr>\n",
       "  </thead>\n",
       "  <tbody>\n",
       "    <tr>\n",
       "      <th>0</th>\n",
       "      <td>1000</td>\n",
       "      <td>December</td>\n",
       "      <td>16</td>\n",
       "      <td>116.83</td>\n",
       "      <td>11.0</td>\n",
       "      <td>5.0</td>\n",
       "      <td>ultimate</td>\n",
       "      <td>Atlanta-Sandy Springs-Roswell, GA MSA</td>\n",
       "      <td>70</td>\n",
       "      <td>3000</td>\n",
       "      <td>...</td>\n",
       "      <td>0.01</td>\n",
       "      <td>0.01</td>\n",
       "      <td>7</td>\n",
       "      <td>0.0</td>\n",
       "      <td>0.0</td>\n",
       "      <td>0.0</td>\n",
       "      <td>0.0</td>\n",
       "      <td>0.0</td>\n",
       "      <td>0.0</td>\n",
       "      <td>70.0</td>\n",
       "    </tr>\n",
       "    <tr>\n",
       "      <th>1</th>\n",
       "      <td>1006</td>\n",
       "      <td>December</td>\n",
       "      <td>9</td>\n",
       "      <td>54.79</td>\n",
       "      <td>139.0</td>\n",
       "      <td>63.0</td>\n",
       "      <td>ultimate</td>\n",
       "      <td>San Francisco-Oakland-Berkeley, CA MSA</td>\n",
       "      <td>70</td>\n",
       "      <td>3000</td>\n",
       "      <td>...</td>\n",
       "      <td>0.01</td>\n",
       "      <td>0.01</td>\n",
       "      <td>7</td>\n",
       "      <td>0.0</td>\n",
       "      <td>0.0</td>\n",
       "      <td>0.0</td>\n",
       "      <td>0.0</td>\n",
       "      <td>33.0</td>\n",
       "      <td>231.0</td>\n",
       "      <td>301.0</td>\n",
       "    </tr>\n",
       "    <tr>\n",
       "      <th>2</th>\n",
       "      <td>1006</td>\n",
       "      <td>November</td>\n",
       "      <td>2</td>\n",
       "      <td>9.32</td>\n",
       "      <td>15.0</td>\n",
       "      <td>7.0</td>\n",
       "      <td>ultimate</td>\n",
       "      <td>San Francisco-Oakland-Berkeley, CA MSA</td>\n",
       "      <td>70</td>\n",
       "      <td>3000</td>\n",
       "      <td>...</td>\n",
       "      <td>0.01</td>\n",
       "      <td>0.01</td>\n",
       "      <td>7</td>\n",
       "      <td>0.0</td>\n",
       "      <td>0.0</td>\n",
       "      <td>0.0</td>\n",
       "      <td>0.0</td>\n",
       "      <td>0.0</td>\n",
       "      <td>0.0</td>\n",
       "      <td>70.0</td>\n",
       "    </tr>\n",
       "    <tr>\n",
       "      <th>3</th>\n",
       "      <td>1008</td>\n",
       "      <td>December</td>\n",
       "      <td>85</td>\n",
       "      <td>600.29</td>\n",
       "      <td>26.0</td>\n",
       "      <td>47.0</td>\n",
       "      <td>ultimate</td>\n",
       "      <td>Orlando-Kissimmee-Sanford, FL MSA</td>\n",
       "      <td>70</td>\n",
       "      <td>3000</td>\n",
       "      <td>...</td>\n",
       "      <td>0.01</td>\n",
       "      <td>0.01</td>\n",
       "      <td>7</td>\n",
       "      <td>0.0</td>\n",
       "      <td>0.0</td>\n",
       "      <td>0.0</td>\n",
       "      <td>0.0</td>\n",
       "      <td>17.0</td>\n",
       "      <td>119.0</td>\n",
       "      <td>189.0</td>\n",
       "    </tr>\n",
       "    <tr>\n",
       "      <th>4</th>\n",
       "      <td>1008</td>\n",
       "      <td>November</td>\n",
       "      <td>63</td>\n",
       "      <td>422.81</td>\n",
       "      <td>37.0</td>\n",
       "      <td>72.0</td>\n",
       "      <td>ultimate</td>\n",
       "      <td>Orlando-Kissimmee-Sanford, FL MSA</td>\n",
       "      <td>70</td>\n",
       "      <td>3000</td>\n",
       "      <td>...</td>\n",
       "      <td>0.01</td>\n",
       "      <td>0.01</td>\n",
       "      <td>7</td>\n",
       "      <td>0.0</td>\n",
       "      <td>0.0</td>\n",
       "      <td>0.0</td>\n",
       "      <td>0.0</td>\n",
       "      <td>42.0</td>\n",
       "      <td>294.0</td>\n",
       "      <td>364.0</td>\n",
       "    </tr>\n",
       "  </tbody>\n",
       "</table>\n",
       "<p>5 rows × 22 columns</p>\n",
       "</div>"
      ],
      "text/plain": [
       "  user_id per_month  total_calls  minutes_consumed  messages_consumed  \\\n",
       "0    1000  December           16            116.83               11.0   \n",
       "1    1006  December            9             54.79              139.0   \n",
       "2    1006  November            2              9.32               15.0   \n",
       "3    1008  December           85            600.29               26.0   \n",
       "4    1008  November           63            422.81               37.0   \n",
       "\n",
       "   gb_consumed plan_name                                    city  \\\n",
       "0          5.0  ultimate   Atlanta-Sandy Springs-Roswell, GA MSA   \n",
       "1         63.0  ultimate  San Francisco-Oakland-Berkeley, CA MSA   \n",
       "2          7.0  ultimate  San Francisco-Oakland-Berkeley, CA MSA   \n",
       "3         47.0  ultimate       Orlando-Kissimmee-Sanford, FL MSA   \n",
       "4         72.0  ultimate       Orlando-Kissimmee-Sanford, FL MSA   \n",
       "\n",
       "   usd_monthly_fee  minutes_included  ...  usd_per_minute  usd_per_message  \\\n",
       "0               70              3000  ...            0.01             0.01   \n",
       "1               70              3000  ...            0.01             0.01   \n",
       "2               70              3000  ...            0.01             0.01   \n",
       "3               70              3000  ...            0.01             0.01   \n",
       "4               70              3000  ...            0.01             0.01   \n",
       "\n",
       "   usd_per_gb  extra_minutes  extra_minutes_cost  extra_messages  \\\n",
       "0           7            0.0                 0.0             0.0   \n",
       "1           7            0.0                 0.0             0.0   \n",
       "2           7            0.0                 0.0             0.0   \n",
       "3           7            0.0                 0.0             0.0   \n",
       "4           7            0.0                 0.0             0.0   \n",
       "\n",
       "   extra_messages_cost  extra_gb  extra_gb_cost  monthly_income  \n",
       "0                  0.0       0.0            0.0            70.0  \n",
       "1                  0.0      33.0          231.0           301.0  \n",
       "2                  0.0       0.0            0.0            70.0  \n",
       "3                  0.0      17.0          119.0           189.0  \n",
       "4                  0.0      42.0          294.0           364.0  \n",
       "\n",
       "[5 rows x 22 columns]"
      ]
     },
     "execution_count": 43,
     "metadata": {},
     "output_type": "execute_result"
    }
   ],
   "source": [
    "# Calcula el ingreso mensual para cada usuario\n",
    "ingreso_mensual = consumo_mensual\n",
    "ingreso_mensual['extra_minutes'] = (\n",
    "    np.ceil(ingreso_mensual['minutes_consumed'] - ingreso_mensual['minutes_included'])\n",
    "    .where(ingreso_mensual['minutes_consumed'] > ingreso_mensual['minutes_included'], 0)\n",
    ")\n",
    "ingreso_mensual['extra_minutes_cost'] = ingreso_mensual['extra_minutes'] * ingreso_mensual['usd_per_minute']\n",
    "\n",
    "ingreso_mensual['extra_messages'] = (\n",
    "    np.ceil(ingreso_mensual['messages_consumed'] - ingreso_mensual['messages_included'])\n",
    "    .where(ingreso_mensual['messages_consumed'] > ingreso_mensual['messages_included'], 0)\n",
    ")\n",
    "ingreso_mensual['extra_messages_cost'] = ingreso_mensual['extra_messages'] * ingreso_mensual['usd_per_message']\n",
    "\n",
    "ingreso_mensual['extra_gb'] = (\n",
    "    np.ceil(ingreso_mensual['gb_consumed'] - ingreso_mensual['gb_included'])\n",
    "    .where(ingreso_mensual['gb_consumed'] > ingreso_mensual['gb_included'], 0)\n",
    ")\n",
    "ingreso_mensual['extra_gb_cost'] = ingreso_mensual['extra_gb'] * ingreso_mensual['usd_per_gb']\n",
    "\n",
    "ingreso_mensual['monthly_income'] = (\n",
    "    ingreso_mensual['usd_monthly_fee'] +\n",
    "    ingreso_mensual['extra_minutes_cost'] +\n",
    "    ingreso_mensual['extra_messages_cost'] +\n",
    "    ingreso_mensual['extra_gb_cost']\n",
    ")\n",
    "\n",
    "ingreso_mensual.head()"
   ]
  },
  {
   "cell_type": "markdown",
   "metadata": {},
   "source": [
    "Para analizar los hábitos de consumo mensual de los usuarios, es fundamental recopilar y procesar datos clave como: el número de llamadas, minutos consumidos, mensajes enviados y volumen de tráfico de Internet. Estos datos deben consolidarse mediante una fusión basada en el ID de usuario y el mes, lo que me permite obtener una visión integral del comportamiento de cada cliente.\n",
    "\n",
    "Además, es esencial incorporar la información de la tarifa aplicable a cada usuario para calcular con precisión el ingreso mensual generado. Finalmente, redondear las métricas de consumo (llamadas, mensajes y datos) para simplificar el análisis y garantizar una presentación clara y consistente de los resultados."
   ]
  },
  {
   "cell_type": "markdown",
   "metadata": {},
   "source": [
    "<div class=\"alert alert-block alert-danger\">\n",
    "\n",
    "<b>Comentario del revisor</b> <a class=\"tocSkip\"></a>\n",
    "\n",
    "Describi y concluí al respecto de todo lo realizado en en esta sección. Esta parte es muy importante debido que es aquí donde también esta nuestro valor, ya que el cliente podrá no entender el código pero si el análisis o la descripcion.</div>\n",
    "\n",
    "\n",
    "<div class=\"alert alert-block alert-success\">\n",
    "\n",
    "<b>Comentario del revisor #2</b> <a class=\"tocSkip\"></a>\n",
    "\n",
    "Corregido, bien observado.\n",
    "\n",
    "</div>"
   ]
  },
  {
   "cell_type": "markdown",
   "metadata": {},
   "source": [
    "<div class=\"alert alert-block alert-info\">\n",
    "<b>Respuesta del estudiante</b> <a class=\"tocSkip\"></a>\n",
    "\n",
    "Correccion de conclucion y descripcion de agregar los datos de los usuarios     \n",
    "</div>"
   ]
  },
  {
   "cell_type": "markdown",
   "metadata": {
    "id": "AJ-9VPMchxsm"
   },
   "source": [
    "# 3. Análisis de los datos"
   ]
  },
  {
   "cell_type": "markdown",
   "metadata": {
    "id": "-jtyHzJb0q1I"
   },
   "source": [
    "## Estudia el comportamiento de usuario"
   ]
  },
  {
   "cell_type": "markdown",
   "metadata": {
    "id": "vtW4CJEe0q1J"
   },
   "source": [
    "### Llamadas"
   ]
  },
  {
   "cell_type": "code",
   "execution_count": 44,
   "metadata": {
    "colab": {
     "base_uri": "https://localhost:8080/",
     "height": 472
    },
    "id": "lBtEqmD0lk7R",
    "outputId": "d69b4c3d-60d7-4b8f-a4b4-7b32c8965667"
   },
   "outputs": [
    {
     "data": {
      "image/png": "[encoded data removed]",
      "text/plain": [
       "<Figure size 640x480 with 1 Axes>"
      ]
     },
     "metadata": {},
     "output_type": "display_data"
    }
   ],
   "source": [
    "# Agrupo por plan y mes, calculando el total de minutos y de usuarios\n",
    "minutos_por_usuario = ingreso_mensual.groupby(['plan_name', 'per_month']).agg(minutes_consumed_sum=('minutes_consumed', 'sum'), total_users_count=('user_id', 'count')).reset_index()\n",
    "\n",
    "# Calculo promedio de minutos mensuales dividiendo la duracion total de las llamadas entre el numero de usarios\n",
    "minutos_por_usuario['minutes_per_user'] = (minutos_por_usuario['minutes_consumed_sum'] / minutos_por_usuario['total_users_count']).round(2)\n",
    "\n",
    "# Defino el orden de los meses, convirtiendo la columna de meses a categorica con el orden de los meses\n",
    "orden_meses = ['January', 'February', 'March', 'April', 'May', 'June', 'July', 'August', 'September', 'October', 'November', 'December']\n",
    "minutos_por_usuario['per_month'] = pd.Categorical(minutos_por_usuario['per_month'], categories=orden_meses, ordered=True)\n",
    "minutos_por_usuario = minutos_por_usuario.sort_values('per_month')\n",
    "\n",
    "# Filtro por plan y renombro la columna para cada plan, manteniendo la columna de mes y mensajes por usuario\n",
    "surf_minutos_por_usuario = minutos_por_usuario[minutos_por_usuario['plan_name'] =='surf']\n",
    "surf_minutos_por_usuario = surf_minutos_por_usuario.rename(columns={'minutes_per_user':'surf_minutes_per_user'})\n",
    "surf_minutos_por_usuario = surf_minutos_por_usuario[['per_month','surf_minutes_per_user']]\n",
    "\n",
    "ultimate_minutos_por_usuario = minutos_por_usuario[minutos_por_usuario['plan_name'] =='ultimate']\n",
    "ultimate_minutos_por_usuario = ultimate_minutos_por_usuario.rename(columns={'minutes_per_user':'ultimate_minutes_per_user'})\n",
    "ultimate_minutos_por_usuario = ultimate_minutos_por_usuario[['per_month','ultimate_minutes_per_user']]\n",
    "\n",
    "# Combino ambos planes, uniendolos por mes\n",
    "plan_minutos_por_usuario = surf_minutos_por_usuario.merge(ultimate_minutos_por_usuario, on='per_month', how='left')\n",
    "\n",
    "# Creo un graffico de barras para comparar los planes por mes\n",
    "ax = plan_minutos_por_usuario.plot(kind='barh', x='per_month', ylabel='', legend=False)\n",
    "ax.invert_yaxis()\n",
    "plt.grid(axis='x', linestyle='--', alpha=0.5)\n",
    "plt.xlabel('Minutos')\n",
    "plt.title('Consumo de tiempo aire')\n",
    "plt.legend(['surf', 'ultimate'], loc=3)\n",
    "plt.show()"
   ]
  },
  {
   "cell_type": "code",
   "execution_count": 45,
   "metadata": {
    "colab": {
     "base_uri": "https://localhost:8080/",
     "height": 472
    },
    "id": "JSE-niNSG-in",
    "outputId": "60ee2b8d-a914-48a9-fde1-0a76c0aa2c44"
   },
   "outputs": [
    {
     "data": {
      "image/png": "[encoded data removed]",
      "text/plain": [
       "<Figure size 640x480 with 1 Axes>"
      ]
     },
     "metadata": {},
     "output_type": "display_data"
    }
   ],
   "source": [
    "# Creo histogramas superpuestos para comparar la distribución\n",
    "plan_minutos_por_usuario['surf_minutes_per_user'].plot(kind='hist', bins=10, alpha=0.7, label='surf')\n",
    "plan_minutos_por_usuario['ultimate_minutes_per_user'].plot(kind='hist', bins=10, alpha=0.7, label='ultimate')\n",
    "plt.title(\"Histograma de frecuencia\")\n",
    "plt.xlabel(\"Rango de minutos\")\n",
    "plt.ylabel(\"Frecuencia (cantidad de usuarios)\")\n",
    "plt.legend()\n",
    "plt.grid(linestyle=\"--\", alpha=0.7)"
   ]
  },
  {
   "cell_type": "code",
   "execution_count": 46,
   "metadata": {
    "colab": {
     "base_uri": "https://localhost:8080/",
     "height": 125
    },
    "id": "oSndbAnt0q1K",
    "outputId": "68fdaa1a-d4ea-4998-c3cd-d0cf07573004"
   },
   "outputs": [
    {
     "data": {
      "text/html": [
       "<div>\n",
       "<style scoped>\n",
       "    .dataframe tbody tr th:only-of-type {\n",
       "        vertical-align: middle;\n",
       "    }\n",
       "\n",
       "    .dataframe tbody tr th {\n",
       "        vertical-align: top;\n",
       "    }\n",
       "\n",
       "    .dataframe thead th {\n",
       "        text-align: right;\n",
       "    }\n",
       "</style>\n",
       "<table border=\"1\" class=\"dataframe\">\n",
       "  <thead>\n",
       "    <tr style=\"text-align: right;\">\n",
       "      <th></th>\n",
       "      <th>plan_name</th>\n",
       "      <th>mean</th>\n",
       "      <th>var</th>\n",
       "      <th>std</th>\n",
       "      <th>median</th>\n",
       "      <th>Q1</th>\n",
       "      <th>Q3</th>\n",
       "      <th>IQR</th>\n",
       "      <th>lim_inf</th>\n",
       "      <th>lim_sup</th>\n",
       "      <th>atipico_inf</th>\n",
       "      <th>atipico_sup</th>\n",
       "    </tr>\n",
       "  </thead>\n",
       "  <tbody>\n",
       "    <tr>\n",
       "      <th>0</th>\n",
       "      <td>surf</td>\n",
       "      <td>367.959167</td>\n",
       "      <td>5166.966091</td>\n",
       "      <td>71.881612</td>\n",
       "      <td>395.80</td>\n",
       "      <td>327.0275</td>\n",
       "      <td>412.1975</td>\n",
       "      <td>85.170</td>\n",
       "      <td>199.2725</td>\n",
       "      <td>539.9525</td>\n",
       "      <td>1</td>\n",
       "      <td>0</td>\n",
       "    </tr>\n",
       "    <tr>\n",
       "      <th>1</th>\n",
       "      <td>ultimate</td>\n",
       "      <td>373.645000</td>\n",
       "      <td>5431.350358</td>\n",
       "      <td>73.697696</td>\n",
       "      <td>400.52</td>\n",
       "      <td>353.1475</td>\n",
       "      <td>425.1625</td>\n",
       "      <td>72.015</td>\n",
       "      <td>245.1250</td>\n",
       "      <td>533.1850</td>\n",
       "      <td>1</td>\n",
       "      <td>0</td>\n",
       "    </tr>\n",
       "  </tbody>\n",
       "</table>\n",
       "</div>"
      ],
      "text/plain": [
       "  plan_name        mean          var        std  median        Q1        Q3  \\\n",
       "0      surf  367.959167  5166.966091  71.881612  395.80  327.0275  412.1975   \n",
       "1  ultimate  373.645000  5431.350358  73.697696  400.52  353.1475  425.1625   \n",
       "\n",
       "      IQR   lim_inf   lim_sup  atipico_inf  atipico_sup  \n",
       "0  85.170  199.2725  539.9525            1            0  \n",
       "1  72.015  245.1250  533.1850            1            0  "
      ]
     },
     "execution_count": 46,
     "metadata": {},
     "output_type": "execute_result"
    }
   ],
   "source": [
    "# Calculo la media de la duración mensual de llamadas por plan.\n",
    "s_media_minutos_por_usuario = plan_minutos_por_usuario['surf_minutes_per_user'].mean()\n",
    "u_media_minutos_por_usuario = plan_minutos_por_usuario['ultimate_minutes_per_user'].mean()\n",
    "\n",
    "# Calculo la varianza de la duración mensual de llamadas por plan.\n",
    "s_varianza_minutos_por_usuario = np.var(plan_minutos_por_usuario['surf_minutes_per_user'])\n",
    "u_varianza_minutos_por_usuario = np.var(plan_minutos_por_usuario['ultimate_minutes_per_user'])\n",
    "\n",
    "# Calculo la desviacion estandar de la duración mensual de llamadas por plan.\n",
    "s_std_minutos_por_usuario = np.std(plan_minutos_por_usuario['surf_minutes_per_user'])\n",
    "u_std_minutos_por_usuario = np.std(plan_minutos_por_usuario['ultimate_minutes_per_user'])\n",
    "\n",
    "# Calculo el primer cuartil por plan\n",
    "s_q1_minutos_por_usuario = plan_minutos_por_usuario['surf_minutes_per_user'].quantile(0.25)\n",
    "u_q1_minutos_por_usuario = plan_minutos_por_usuario['ultimate_minutes_per_user'].quantile(0.25)\n",
    "\n",
    "# Calculo la mediana por plan\n",
    "s_median_minutos_por_usuario = plan_minutos_por_usuario['surf_minutes_per_user'].median()\n",
    "u_median_minutos_por_usuario = plan_minutos_por_usuario['ultimate_minutes_per_user'].median()\n",
    "\n",
    "# Calculo el tercer cuartil por plan\n",
    "s_q3_minutos_por_usuario = plan_minutos_por_usuario['surf_minutes_per_user'].quantile(0.75)\n",
    "u_q3_minutos_por_usuario = plan_minutos_por_usuario['ultimate_minutes_per_user'].quantile(0.75)\n",
    "\n",
    "# Calculo el rango intercuartil por plan\n",
    "s_iqr_minutos_por_usuario = s_q3_minutos_por_usuario - s_q1_minutos_por_usuario\n",
    "u_iqr_minutos_por_usuario = u_q3_minutos_por_usuario - u_q1_minutos_por_usuario\n",
    "\n",
    "# Calculo los limites inferiores por plan\n",
    "s_lim_inferior_minutos_por_usuario = s_q1_minutos_por_usuario - (1.5 * s_iqr_minutos_por_usuario)\n",
    "u_lim_inferior_minutos_por_usuario = u_q1_minutos_por_usuario - (1.5* u_iqr_minutos_por_usuario)\n",
    "\n",
    "# Calculo los limites superiores por plan\n",
    "s_lim_superior_minutos_por_usuario = s_q3_minutos_por_usuario + (1.5* s_iqr_minutos_por_usuario)\n",
    "u_lim_superior_minutos_por_usuario = u_q3_minutos_por_usuario + (1.5* u_iqr_minutos_por_usuario)\n",
    "\n",
    "# Calculo de valores atípicos inferiores por plan\n",
    "s_outlier_inf_minutos_por_usuario  = len(plan_minutos_por_usuario[plan_minutos_por_usuario['surf_minutes_per_user'] < s_lim_inferior_minutos_por_usuario])\n",
    "u_outlier_inf_minutos_por_usuario  = len(plan_minutos_por_usuario[plan_minutos_por_usuario['ultimate_minutes_per_user'] < u_lim_inferior_minutos_por_usuario])\n",
    "\n",
    "# Calculo de valores atípicos superiores por plan\n",
    "s_outlier_sup_minutos_por_usuario = len(plan_minutos_por_usuario[plan_minutos_por_usuario['surf_minutes_per_user'] > s_lim_superior_minutos_por_usuario])\n",
    "u_outlier_sup_minutos_por_usuario = len(plan_minutos_por_usuario[plan_minutos_por_usuario['ultimate_minutes_per_user'] > u_lim_superior_minutos_por_usuario])\n",
    "\n",
    "# Creo una tabla para visualizar los calculos\n",
    "estadistica_minutos_por_usuario = {\n",
    "    'plan_name': ['surf', 'ultimate'],\n",
    "    'mean': [s_media_minutos_por_usuario, u_media_minutos_por_usuario],\n",
    "    'var': [s_varianza_minutos_por_usuario, u_varianza_minutos_por_usuario],\n",
    "    'std': [s_std_minutos_por_usuario, u_std_minutos_por_usuario],\n",
    "\n",
    "    'median': [s_median_minutos_por_usuario, u_median_minutos_por_usuario],\n",
    "    'Q1': [s_q1_minutos_por_usuario, u_q1_minutos_por_usuario],\n",
    "    'Q3': [s_q3_minutos_por_usuario, u_q3_minutos_por_usuario],\n",
    "    'IQR':[s_iqr_minutos_por_usuario, u_iqr_minutos_por_usuario],\n",
    "\n",
    "    'lim_inf': [s_lim_inferior_minutos_por_usuario, u_lim_inferior_minutos_por_usuario],\n",
    "    'lim_sup': [s_lim_superior_minutos_por_usuario, u_lim_superior_minutos_por_usuario],\n",
    "    'atipico_inf':[s_outlier_inf_minutos_por_usuario,u_outlier_inf_minutos_por_usuario],\n",
    "    'atipico_sup':[s_outlier_sup_minutos_por_usuario,u_outlier_sup_minutos_por_usuario],\n",
    "}\n",
    "estadistica_minutos_por_usuario = pd.DataFrame(estadistica_minutos_por_usuario)\n",
    "estadistica_minutos_por_usuario"
   ]
  },
  {
   "cell_type": "code",
   "execution_count": 47,
   "metadata": {
    "colab": {
     "base_uri": "https://localhost:8080/",
     "height": 576
    },
    "id": "nZzoRUKc0q1K",
    "outputId": "a99791fa-cb9d-4372-e5e9-d6bcbab7d983"
   },
   "outputs": [
    {
     "data": {
      "image/png": "[encoded data removed]",
      "text/plain": [
       "<Figure size 640x480 with 1 Axes>"
      ]
     },
     "metadata": {},
     "output_type": "display_data"
    },
    {
     "name": "stdout",
     "output_type": "stream",
     "text": [
      "\n",
      "Surf muestra una distribucion asimétrica a la izquierda, los valores están más concentrados hacia la derecha (valores altos).\n",
      "La mediana(395.80) está más cerca de Q3(412.20) que Q1(327.03) con una cola alargada hacia la izquierda.\n",
      "\n",
      "Ultimate muestra una distribucion asimétrica a la izquierda, los valores están más concentrados hacia la derecha (valores altos).\n",
      "La mediana(400.52) está más cerca de Q3(425.16) que Q1(353.15) con una cola alargada hacia la izquierda.\n"
     ]
    }
   ],
   "source": [
    "# Calculo de medidas de posición por plan\n",
    "s_mediana_q1_minutos_por_usuario = s_median_minutos_por_usuario - s_q1_minutos_por_usuario\n",
    "s_mediana_q3_minutos_por_usuario = s_q3_minutos_por_usuario - s_median_minutos_por_usuario\n",
    "u_mediana_q1_minutos_por_usuario = u_median_minutos_por_usuario - u_q1_minutos_por_usuario\n",
    "u_mediana_q3_minutos_por_usuario = u_q3_minutos_por_usuario - u_median_minutos_por_usuario\n",
    "\n",
    "# Creo el grafico de caja\n",
    "plt.boxplot(plan_minutos_por_usuario[['ultimate_minutes_per_user', 'surf_minutes_per_user']], vert=False)\n",
    "plt.xlabel('Duración en minutos')\n",
    "plt.title('Distribución mensual de llamadas')\n",
    "plt.grid(axis='x', linestyle='--', alpha=0.5)\n",
    "plt.show()\n",
    "print()\n",
    "\n",
    "# Confirmacion numerica media-mediana\n",
    "if s_media_minutos_por_usuario > s_median_minutos_por_usuario:\n",
    "  print('Surf muestra una distribucion asimétrica a la derecha, los valores están más concentrados hacia la izquierda (valores bajos).')\n",
    "elif s_media_minutos_por_usuario < s_median_minutos_por_usuario:\n",
    "  print('Surf muestra una distribucion asimétrica a la izquierda, los valores están más concentrados hacia la derecha (valores altos).')\n",
    "else:\n",
    "  print('Surf muestra una distribucion simetrica.')\n",
    "\n",
    "# Confirmacion por medidas de posicion\n",
    "if s_mediana_q1_minutos_por_usuario < s_mediana_q3_minutos_por_usuario:\n",
    "    print(f\"La mediana({s_median_minutos_por_usuario:.2f}) está más cerca de Q1({s_q1_minutos_por_usuario:.2f}) que Q3({s_q3_minutos_por_usuario:.2f}) con una cola alargada hacia la derecha. \")\n",
    "elif s_mediana_q3_minutos_por_usuario < s_mediana_q1_minutos_por_usuario:\n",
    "    print(f\"La mediana({s_median_minutos_por_usuario:.2f}) está más cerca de Q3({s_q3_minutos_por_usuario:.2f}) que Q1({s_q1_minutos_por_usuario:.2f}) con una cola alargada hacia la izquierda.\")\n",
    "else:\n",
    "    print(\"La mediana esta a la misma distancia entre Q1 y Q3\")\n",
    "\n",
    "print()\n",
    "\n",
    "if u_media_minutos_por_usuario > u_median_minutos_por_usuario:\n",
    "  print('Ultimate muestra una distribucion asimétrica a la derecha, los valores están más concentrados hacia la izquierda (valores bajos).')\n",
    "elif u_media_minutos_por_usuario < u_median_minutos_por_usuario:\n",
    "  print('Ultimate muestra una distribucion asimétrica a la izquierda, los valores están más concentrados hacia la derecha (valores altos).')\n",
    "else:\n",
    "  print('Ultimate muestra una distribucion simetrica')\n",
    "\n",
    "if u_mediana_q1_minutos_por_usuario < u_mediana_q3_minutos_por_usuario:\n",
    "    print(f\"La mediana({u_median_minutos_por_usuario:.2f}) está más cerca de Q1({u_q1_minutos_por_usuario:.2f}) que Q3({u_q3_minutos_por_usuario:.2f}) con una cola alargada hacia la derecha.\")\n",
    "elif u_mediana_q3_minutos_por_usuario < u_mediana_q1_minutos_por_usuario:\n",
    "    print(f\"La mediana({u_median_minutos_por_usuario:.2f}) está más cerca de Q3({u_q3_minutos_por_usuario:.2f}) que Q1({u_q1_minutos_por_usuario:.2f}) con una cola alargada hacia la izquierda.\")\n",
    "else:\n",
    "    print(\"La mediana esta a la misma distancia entre Q1 y Q3\")"
   ]
  },
  {
   "cell_type": "markdown",
   "metadata": {
    "id": "jSNof7d8-5hB"
   },
   "source": [
    "El análisis revela que los usuarios de los planes Surf y Ultimate presentan un consumo de minutos muy similar, con distribuciones asimétricas hacia la izquierda y medianas cercanas a los 400 minutos, lo que indica que la mayoría no se acerca a los límites establecidos (500 min para Surf y 1000 min para Ultimate). Esto sugiere que los límites actuales son excesivos para el uso real, especialmente en Ultimate, donde el consumo típico apenas supera el 40% del límite. Dado que ambos planes tienen poca variabilidad en consumos altos y ningún outlier superior, se recomienda reevaluar los límites para ajustarlos a la demanda real reduciéndolos en Ultimate y optimizando Surf.\n",
    "\n",
    "En resumen, los planes actuales podrían ser más eficientes si se alinean mejor con los patrones de uso reales de los clientes."
   ]
  },
  {
   "cell_type": "markdown",
   "metadata": {},
   "source": [
    "<div class=\"alert alert-block alert-success\">\n",
    "\n",
    "<b>Comentario del revisor</b> <a class=\"tocSkip\"></a>\n",
    "\n",
    "Excelente graficos, muy bien planteadas las conclusiones.\n",
    "\n",
    "</div>"
   ]
  },
  {
   "cell_type": "markdown",
   "metadata": {
    "id": "8idKy8Wh0q1L"
   },
   "source": [
    "### Mensajes"
   ]
  },
  {
   "cell_type": "code",
   "execution_count": 48,
   "metadata": {
    "colab": {
     "base_uri": "https://localhost:8080/",
     "height": 449
    },
    "id": "NXLxiTit0q1L",
    "outputId": "1a0781ed-5d92-4389-8a70-9351e75e927e"
   },
   "outputs": [
    {
     "data": {
      "image/png": "[encoded data removed]",
      "text/plain": [
       "<Figure size 640x480 with 1 Axes>"
      ]
     },
     "metadata": {},
     "output_type": "display_data"
    }
   ],
   "source": [
    "# Compara el número de mensajes que tienden a enviar cada mes los usuarios de cada plan\n",
    "# Agrupo por plan y mes, calculando el total de mensajes y de usuarios\n",
    "mensajes_por_usuario = ingreso_mensual.groupby(['plan_name', 'per_month']).agg(messages_consumed_sum=('messages_consumed', 'sum'), total_users_count=('user_id', 'count')).reset_index()\n",
    "\n",
    "# Calculo los mensajes promedio por usuario dividiendo el total de mensajes entre el numero de usuarios\n",
    "mensajes_por_usuario['messages_per_users'] = mensajes_por_usuario['messages_consumed_sum'] / mensajes_por_usuario['total_users_count'] ## .mean()\n",
    "\n",
    "# Defino el orden de los meses, convirtiendo la columna de meses a categorica con el orden de los meses\n",
    "orden_meses = ['January', 'February', 'March', 'April', 'May', 'June', 'July', 'August', 'September', 'October', 'November', 'December']\n",
    "mensajes_por_usuario['per_month'] = pd.Categorical(mensajes_por_usuario['per_month'], categories=orden_meses, ordered=True)\n",
    "mensajes_por_usuario = mensajes_por_usuario.sort_values('per_month')\n",
    "\n",
    "# Filtro por plan y renombro la columna para cada plan, manteniendo la columna de mes y mensajes por usuario\n",
    "surf_mensajes_por_usuario = mensajes_por_usuario[mensajes_por_usuario['plan_name'] =='surf']\n",
    "surf_mensajes_por_usuario = surf_mensajes_por_usuario.rename(columns={'messages_per_users':'surf_messages_per_user'})\n",
    "surf_mensajes_por_usuario = surf_mensajes_por_usuario[['per_month','surf_messages_per_user']]\n",
    "\n",
    "ultimate_mensajes_por_usuarios = mensajes_por_usuario[mensajes_por_usuario['plan_name'] =='ultimate']\n",
    "ultimate_mensajes_por_usuarios = ultimate_mensajes_por_usuarios.rename(columns={'messages_per_users':'ultimate_messages_per_user'})\n",
    "ultimate_mensajes_por_usuarios = ultimate_mensajes_por_usuarios[['per_month','ultimate_messages_per_user']]\n",
    "\n",
    "# Combino ambos planes, uniendolos por mes\n",
    "plan_mensajes_por_usuario = surf_mensajes_por_usuario.merge(ultimate_mensajes_por_usuarios, on='per_month', how='left')\n",
    "\n",
    "# Creo un grafico de barras para compara los planes por mes\n",
    "ax = plan_mensajes_por_usuario.plot(kind='barh', x='per_month', ylabel='', legend=False)\n",
    "ax.invert_yaxis()\n",
    "plt.grid(axis='x', linestyle='--', alpha=0.5)\n",
    "plt.xlabel('Mensajes')\n",
    "plt.title('')\n",
    "plt.legend(['surf', 'ultimate'], loc=3)\n",
    "plt.show()"
   ]
  },
  {
   "cell_type": "code",
   "execution_count": 49,
   "metadata": {
    "colab": {
     "base_uri": "https://localhost:8080/",
     "height": 472
    },
    "id": "INtYi8PxL9_3",
    "outputId": "d1947c03-705c-4b76-d061-57865f21b01a"
   },
   "outputs": [
    {
     "data": {
      "image/png": "[encoded data removed]",
      "text/plain": [
       "<Figure size 640x480 with 1 Axes>"
      ]
     },
     "metadata": {},
     "output_type": "display_data"
    }
   ],
   "source": [
    "# Creo histogramas superpuestos para comparar la distribución\n",
    "plan_mensajes_por_usuario['surf_messages_per_user'].plot(kind='hist', bins=10, edgecolor=\"black\", alpha=0.7, label='surf')\n",
    "plan_mensajes_por_usuario['ultimate_messages_per_user'].plot(kind='hist', bins=10, edgecolor=\"black\", alpha=0.7, label='ultimate')\n",
    "\n",
    "plt.title(\"Distribución\")\n",
    "plt.xlabel(\"Mensajes\")\n",
    "plt.ylabel(\"Frecuencia\")\n",
    "plt.legend()\n",
    "plt.grid(linestyle=\"--\", alpha=0.7)"
   ]
  },
  {
   "cell_type": "code",
   "execution_count": 50,
   "metadata": {
    "colab": {
     "base_uri": "https://localhost:8080/",
     "height": 125
    },
    "id": "dtFwCGAp0q1M",
    "outputId": "eb6132e6-c21c-4b67-d97c-fdcff0226322"
   },
   "outputs": [
    {
     "data": {
      "text/html": [
       "<div>\n",
       "<style scoped>\n",
       "    .dataframe tbody tr th:only-of-type {\n",
       "        vertical-align: middle;\n",
       "    }\n",
       "\n",
       "    .dataframe tbody tr th {\n",
       "        vertical-align: top;\n",
       "    }\n",
       "\n",
       "    .dataframe thead th {\n",
       "        text-align: right;\n",
       "    }\n",
       "</style>\n",
       "<table border=\"1\" class=\"dataframe\">\n",
       "  <thead>\n",
       "    <tr style=\"text-align: right;\">\n",
       "      <th></th>\n",
       "      <th>plan_name</th>\n",
       "      <th>mean</th>\n",
       "      <th>var</th>\n",
       "      <th>std</th>\n",
       "      <th>median</th>\n",
       "      <th>Q1</th>\n",
       "      <th>Q3</th>\n",
       "      <th>IQR</th>\n",
       "      <th>lim_inf</th>\n",
       "      <th>lim_sup</th>\n",
       "      <th>atipico_inf</th>\n",
       "      <th>atipico_sup</th>\n",
       "    </tr>\n",
       "  </thead>\n",
       "  <tbody>\n",
       "    <tr>\n",
       "      <th>0</th>\n",
       "      <td>surf</td>\n",
       "      <td>24.556757</td>\n",
       "      <td>72.614591</td>\n",
       "      <td>8.521420</td>\n",
       "      <td>26.153125</td>\n",
       "      <td>16.865217</td>\n",
       "      <td>30.811603</td>\n",
       "      <td>13.946386</td>\n",
       "      <td>-4.054362</td>\n",
       "      <td>51.731182</td>\n",
       "      <td>0</td>\n",
       "      <td>0</td>\n",
       "    </tr>\n",
       "    <tr>\n",
       "      <th>1</th>\n",
       "      <td>ultimate</td>\n",
       "      <td>31.356034</td>\n",
       "      <td>78.116706</td>\n",
       "      <td>8.838366</td>\n",
       "      <td>32.466978</td>\n",
       "      <td>22.886905</td>\n",
       "      <td>38.503996</td>\n",
       "      <td>15.617091</td>\n",
       "      <td>-0.538732</td>\n",
       "      <td>61.929633</td>\n",
       "      <td>0</td>\n",
       "      <td>0</td>\n",
       "    </tr>\n",
       "  </tbody>\n",
       "</table>\n",
       "</div>"
      ],
      "text/plain": [
       "  plan_name       mean        var       std     median         Q1         Q3  \\\n",
       "0      surf  24.556757  72.614591  8.521420  26.153125  16.865217  30.811603   \n",
       "1  ultimate  31.356034  78.116706  8.838366  32.466978  22.886905  38.503996   \n",
       "\n",
       "         IQR   lim_inf    lim_sup  atipico_inf  atipico_sup  \n",
       "0  13.946386 -4.054362  51.731182            0            0  \n",
       "1  15.617091 -0.538732  61.929633            0            0  "
      ]
     },
     "execution_count": 50,
     "metadata": {},
     "output_type": "execute_result"
    }
   ],
   "source": [
    "# Calculo la media de los mensajes promedio por usuario mensual por plan.\n",
    "s_media_mensajes_por_usuario = plan_mensajes_por_usuario['surf_messages_per_user'].mean()\n",
    "u_media_mensajes_por_usuario = plan_mensajes_por_usuario['ultimate_messages_per_user'].mean()\n",
    "\n",
    "# Calculo la varianza de los mensajes promedio por usuario mensual por plan.\n",
    "s_varianza_mensajes_por_usuario = np.var(plan_mensajes_por_usuario['surf_messages_per_user'])\n",
    "u_varianza_mensajes_por_usuario = np.var(plan_mensajes_por_usuario['ultimate_messages_per_user'])\n",
    "\n",
    "# Calculo la distribucion estandar de los mensajes promedio por usuario mensual por plan.\n",
    "s_std_mensajes_por_usuario = np.std(plan_mensajes_por_usuario['surf_messages_per_user'])\n",
    "u_std_mensajes_por_usuario = np.std(plan_mensajes_por_usuario['ultimate_messages_per_user'])\n",
    "\n",
    "# Calculo el primer cuartil por plan\n",
    "s_q1_mensajes_por_usuario = plan_mensajes_por_usuario['surf_messages_per_user'].quantile(0.25)\n",
    "u_q1_mensajes_por_usuario = plan_mensajes_por_usuario['ultimate_messages_per_user'].quantile(0.25)\n",
    "\n",
    "# Calculo la mediana por plan\n",
    "s_median_mensajes_por_usuario = plan_mensajes_por_usuario['surf_messages_per_user'].median()\n",
    "u_median_mensajes_por_usuario = plan_mensajes_por_usuario['ultimate_messages_per_user'].median()\n",
    "\n",
    "# Calculo el tercer cuartil por plan\n",
    "s_q3_mensajes_por_usuario = plan_mensajes_por_usuario['surf_messages_per_user'].quantile(0.75)\n",
    "u_q3_mensajes_por_usuario = plan_mensajes_por_usuario['ultimate_messages_per_user'].quantile(0.75)\n",
    "\n",
    "# Calculo el rango intercuartil por plan\n",
    "s_iqr_mensajes_por_usuario = s_q3_mensajes_por_usuario - s_q1_mensajes_por_usuario\n",
    "u_iqr_mensajes_por_usuario = u_q3_mensajes_por_usuario - u_q1_mensajes_por_usuario\n",
    "\n",
    "# Calculo los limites inferiores por plan\n",
    "s_lim_inferior_mensajes_por_usuario = s_q1_mensajes_por_usuario - (1.5 * s_iqr_mensajes_por_usuario)\n",
    "u_lim_inferior_mensajes_por_usuario = u_q1_mensajes_por_usuario - (1.5 * u_iqr_mensajes_por_usuario)\n",
    "\n",
    "# Calculo los limites superiores por plan\n",
    "s_lim_superior_mensajes_por_usuario = s_q3_mensajes_por_usuario + (1.5 * s_iqr_mensajes_por_usuario)\n",
    "u_lim_superior_mensajes_por_usuario = u_q3_mensajes_por_usuario + (1.5 * u_iqr_mensajes_por_usuario)\n",
    "\n",
    "# Calculo de valores atípicos inferiores por plan\n",
    "s_outlier_inf_mensajes_por_usuario  = len(plan_mensajes_por_usuario[plan_mensajes_por_usuario['surf_messages_per_user'] < s_lim_inferior_mensajes_por_usuario])\n",
    "u_outlier_inf_mensajes_por_usuario  = len(plan_mensajes_por_usuario[plan_mensajes_por_usuario['ultimate_messages_per_user'] < u_lim_inferior_mensajes_por_usuario])\n",
    "\n",
    "# Calculo de valores atípicos superiores por plan\n",
    "s_outlier_sup_mensajes_por_usuario = len(plan_mensajes_por_usuario[plan_mensajes_por_usuario['surf_messages_per_user'] > s_lim_superior_mensajes_por_usuario])\n",
    "u_outlier_sup_mensajes_por_usuario = len(plan_mensajes_por_usuario[plan_mensajes_por_usuario['ultimate_messages_per_user'] > u_lim_superior_mensajes_por_usuario])\n",
    "\n",
    "# Creo una tabla para visualizar los calculos\n",
    "estadistica_mensajes_por_usuario = {\n",
    "    'plan_name': ['surf', 'ultimate'],\n",
    "    'mean': [s_media_mensajes_por_usuario, u_media_mensajes_por_usuario],\n",
    "    'var': [s_varianza_mensajes_por_usuario, u_varianza_mensajes_por_usuario],\n",
    "    'std': [s_std_mensajes_por_usuario, u_std_mensajes_por_usuario],\n",
    "\n",
    "    'median': [s_median_mensajes_por_usuario, u_median_mensajes_por_usuario],\n",
    "    'Q1': [s_q1_mensajes_por_usuario, u_q1_mensajes_por_usuario],\n",
    "    'Q3': [s_q3_mensajes_por_usuario, u_q3_mensajes_por_usuario],\n",
    "    'IQR':[s_iqr_mensajes_por_usuario, u_iqr_mensajes_por_usuario],\n",
    "\n",
    "    'lim_inf': [s_lim_inferior_mensajes_por_usuario, u_lim_inferior_mensajes_por_usuario],\n",
    "    'lim_sup': [s_lim_superior_mensajes_por_usuario, u_lim_superior_mensajes_por_usuario],\n",
    "    'atipico_inf':[s_outlier_inf_mensajes_por_usuario,u_outlier_inf_mensajes_por_usuario],\n",
    "    'atipico_sup':[s_outlier_sup_mensajes_por_usuario,u_outlier_sup_mensajes_por_usuario],\n",
    "}\n",
    "estadistica_mensajes_por_usuario = pd.DataFrame(estadistica_mensajes_por_usuario)\n",
    "estadistica_mensajes_por_usuario"
   ]
  },
  {
   "cell_type": "code",
   "execution_count": 51,
   "metadata": {
    "colab": {
     "base_uri": "https://localhost:8080/",
     "height": 576
    },
    "id": "Da9Jg_X8ZbVh",
    "outputId": "08a56b76-1354-4a65-e97b-b09eba8d0432"
   },
   "outputs": [
    {
     "data": {
      "image/png": "[encoded data removed]",
      "text/plain": [
       "<Figure size 640x480 with 1 Axes>"
      ]
     },
     "metadata": {},
     "output_type": "display_data"
    },
    {
     "name": "stdout",
     "output_type": "stream",
     "text": [
      "\n",
      "Surf muestra una distribucion asimétrica a la izquierda, los valores están más concentrados hacia la derecha (valores altos).\n",
      "La mediana(26.15) está más cerca de Q3(30.81) que Q1(16.87) con una cola alargada hacia la izquierda.\n",
      "\n",
      "Ultimate muestra una distribucion asimétrica a la izquierda, los valores están más concentrados hacia la derecha (valores altos).\n",
      "La mediana(32.47) está más cerca de Q3(38.50) que Q1(22.89) con una cola alargada hacia la izquierda.\n"
     ]
    }
   ],
   "source": [
    "# Calculo de medidas de posición por plan\n",
    "s_mediana_q1_mensajes_por_usuario = s_median_mensajes_por_usuario - s_q1_mensajes_por_usuario\n",
    "s_mediana_q3_mensajes_por_usuario = s_q3_mensajes_por_usuario - s_median_mensajes_por_usuario\n",
    "u_mediana_q1_mensajes_por_usuario = u_median_mensajes_por_usuario - u_q1_mensajes_por_usuario\n",
    "u_mediana_q3_mensajes_por_usuario = u_q3_mensajes_por_usuario - u_median_mensajes_por_usuario\n",
    "\n",
    "# Creo el grafico de caja\n",
    "plt.boxplot(plan_mensajes_por_usuario[['ultimate_messages_per_user', 'surf_messages_per_user']], vert=False)\n",
    "plt.xlabel('Mensajes')\n",
    "plt.title('Distribución')\n",
    "plt.grid(axis='x', linestyle='--', alpha=0.5)\n",
    "plt.show()\n",
    "\n",
    "print()\n",
    "\n",
    "# Confirmacion numerica media-mediana\n",
    "if s_media_mensajes_por_usuario > s_median_mensajes_por_usuario:\n",
    "  print('Surf muestra una distribucion asimétrica a la derecha, los valores están más concentrados hacia la izquierda (valores bajos).')\n",
    "elif s_media_mensajes_por_usuario < s_median_mensajes_por_usuario:\n",
    "  print('Surf muestra una distribucion asimétrica a la izquierda, los valores están más concentrados hacia la derecha (valores altos).')\n",
    "else:\n",
    "  print('Surf muestra una distribucion simetrica.')\n",
    "\n",
    "# Confirmacion por medidas de posicion\n",
    "if s_mediana_q1_mensajes_por_usuario < s_mediana_q3_mensajes_por_usuario:\n",
    "    print(f\"La mediana({s_median_mensajes_por_usuario:.2f}) está más cerca de Q1({s_q1_mensajes_por_usuario:.2f}) que Q3({s_q3_mensajes_por_usuario:.2f}) con una cola alargada hacia la derecha. \")\n",
    "elif s_mediana_q1_mensajes_por_usuario > s_mediana_q3_mensajes_por_usuario:\n",
    "    print(f\"La mediana({s_median_mensajes_por_usuario:.2f}) está más cerca de Q3({s_q3_mensajes_por_usuario:.2f}) que Q1({s_q1_mensajes_por_usuario:.2f}) con una cola alargada hacia la izquierda.\")\n",
    "else:\n",
    "    print(\"La mediana esta a la misma distancia entre Q1 y Q3\")\n",
    "\n",
    "print()\n",
    "\n",
    "if u_media_mensajes_por_usuario > u_median_mensajes_por_usuario:\n",
    "  print('Ultimate muestra una distribucion asimétrica a la derecha, los valores están más concentrados hacia la izquierda (valores bajos).')\n",
    "elif u_media_mensajes_por_usuario < u_median_mensajes_por_usuario:\n",
    "  print('Ultimate muestra una distribucion asimétrica a la izquierda, los valores están más concentrados hacia la derecha (valores altos).')\n",
    "else:\n",
    "  print('Ultimate muestra una distribucion simetrica')\n",
    "\n",
    "if u_mediana_q1_mensajes_por_usuario < u_mediana_q3_mensajes_por_usuario:\n",
    "    print(f\"La mediana({u_median_mensajes_por_usuario:.2f}) está más cerca de Q1({u_q1_mensajes_por_usuario:.2f}) que Q3({u_q3_mensajes_por_usuario:.2f}) con una cola alargada hacia la derecha.\")\n",
    "elif u_mediana_q1_mensajes_por_usuario > u_mediana_q3_mensajes_por_usuario:\n",
    "    print(f\"La mediana({u_median_mensajes_por_usuario:.2f}) está más cerca de Q3({u_q3_mensajes_por_usuario:.2f}) que Q1({u_q1_mensajes_por_usuario:.2f}) con una cola alargada hacia la izquierda.\")\n",
    "else:\n",
    "    print(\"La mediana esta a la misma distancia entre Q1 y Q3\")"
   ]
  },
  {
   "cell_type": "markdown",
   "metadata": {
    "id": "390SSL480q1M"
   },
   "source": [
    "El análisis revela que los usuarios de ambos planes, Surf y Ultimate, presentan un consumo de mensajes por debajo de lo incluido en sus paquetes, mostrando una distribución asimétrica a la izquierda, donde la mayoría utiliza menos mensajes que la mediana. Aunque el plan Ultimate tiene un consumo promedio ligeramente mayor que Surf, su uso dista mucho de los 1000 mensajes incluidos, lo que sugiere una posible sobreoferta.\n",
    "\n",
    "Por otro lado, el plan Surf muestra un comportamiento más ajustado a su límite de 50 mensajes. La ausencia de valores atípicos indica que no hay patrones de uso extremos, lo que refuerza la idea de que los planes podrían optimizarse para alinearse mejor con las necesidades reales de los usuarios, especialmente en el caso de Ultimate, donde reducir la cantidad de mensajes ofrecidos y ajustar el precio podría ser una estrategia viable."
   ]
  },
  {
   "cell_type": "markdown",
   "metadata": {},
   "source": [
    "<div class=\"alert alert-block alert-success\">\n",
    "\n",
    "<b>Comentario del revisor</b> <a class=\"tocSkip\"></a>\n",
    "\n",
    "Excelentes conclusiones.\n",
    "</div>"
   ]
  },
  {
   "cell_type": "markdown",
   "metadata": {
    "id": "42YSypXz0q1M"
   },
   "source": [
    "### Internet"
   ]
  },
  {
   "cell_type": "code",
   "execution_count": 52,
   "metadata": {
    "colab": {
     "base_uri": "https://localhost:8080/",
     "height": 472
    },
    "id": "lSuKPtjh0q1M",
    "outputId": "43b4ca08-767c-44f8-d945-6891f9ba064e"
   },
   "outputs": [
    {
     "data": {
      "image/png": "[encoded data removed]",
      "text/plain": [
       "<Figure size 640x480 with 1 Axes>"
      ]
     },
     "metadata": {},
     "output_type": "display_data"
    }
   ],
   "source": [
    "# Compara la cantidad de tráfico de Internet consumido por usuarios por plan\n",
    "# Agrupo por plan y mes, calculando el total de mensajes y de usuarios\n",
    "gigas_por_usuario = ingreso_mensual.groupby(['plan_name', 'per_month']).agg(gb_consumed_sum=('gb_consumed','sum'), total_users_count=('user_id', 'count')).reset_index()\n",
    "\n",
    "# Calculo los trafico promedio por usuario dividiendo el total de gigas entre el numero de usuarios\n",
    "gigas_por_usuario['gigas_per_users'] = gigas_por_usuario['gb_consumed_sum'] / gigas_por_usuario['total_users_count'] ## .mean()\n",
    "\n",
    "# Defino el orden de los meses, convirtiendo la columna de meses a categorica con el orden de los meses\n",
    "orden_meses = ['January', 'February', 'March', 'April', 'May', 'June', 'July', 'August', 'September', 'October', 'November', 'December']\n",
    "gigas_por_usuario['per_month'] = pd.Categorical(gigas_por_usuario['per_month'], categories=orden_meses, ordered=True)\n",
    "gigas_por_usuario = gigas_por_usuario.sort_values('per_month')\n",
    "\n",
    "# Filtro por plan y renombro la columna para cada plan, manteniendo la columna de mes y mensajes por usuario\n",
    "surf_gigas_por_usuario = gigas_por_usuario[gigas_por_usuario['plan_name'] =='surf']\n",
    "surf_gigas_por_usuario = surf_gigas_por_usuario.rename(columns={'gigas_per_users':'surf_gigas_per_user'})\n",
    "surf_gigas_por_usuario = surf_gigas_por_usuario[['per_month','surf_gigas_per_user']]\n",
    "\n",
    "ultimate_gigas_por_usuarios = gigas_por_usuario[gigas_por_usuario['plan_name'] =='ultimate']\n",
    "ultimate_gigas_por_usuarios = ultimate_gigas_por_usuarios.rename(columns={'gigas_per_users':'ultimate_gigas_per_user'})\n",
    "ultimate_gigas_por_usuarios = ultimate_gigas_por_usuarios[['per_month','ultimate_gigas_per_user']]\n",
    "\n",
    "# Combino ambos planes, uniendolos por mes\n",
    "plan_gigas_por_usuario = surf_gigas_por_usuario.merge(ultimate_gigas_por_usuarios, on='per_month', how='left')\n",
    "\n",
    "# Creo un graffico de barras para compara los planes por mes\n",
    "ax = plan_gigas_por_usuario.plot(kind='barh', x='per_month', ylabel='', legend=False)\n",
    "ax.invert_yaxis()\n",
    "plt.grid(axis='x', linestyle='--', alpha=0.5)\n",
    "plt.xlabel('Gigabytes')\n",
    "plt.title('Distribución')\n",
    "plt.legend(['surf', 'ultimate'], loc=3)\n",
    "plt.show()"
   ]
  },
  {
   "cell_type": "code",
   "execution_count": 53,
   "metadata": {
    "colab": {
     "base_uri": "https://localhost:8080/",
     "height": 472
    },
    "id": "5VlyJ9ry0q1N",
    "outputId": "e598fe42-11a4-409b-cf64-fbd133c794a3"
   },
   "outputs": [
    {
     "data": {
      "image/png": "[encoded data removed]",
      "text/plain": [
       "<Figure size 640x480 with 1 Axes>"
      ]
     },
     "metadata": {},
     "output_type": "display_data"
    }
   ],
   "source": [
    "# Creo histogramas superpuestos para comparar la distribución\n",
    "plan_gigas_por_usuario['surf_gigas_per_user'].plot(kind='hist', bins=10, edgecolor=\"black\", alpha=0.7, label='surf')\n",
    "plan_gigas_por_usuario['ultimate_gigas_per_user'].plot(kind='hist', bins=10, edgecolor=\"black\", alpha=0.7, label='ultimate')\n",
    "\n",
    "plt.title(\"Distribución\")\n",
    "plt.xlabel(\"Gigas\")\n",
    "plt.ylabel(\"Frecuencia\")\n",
    "plt.legend()\n",
    "plt.grid(linestyle=\"--\", alpha=0.7)"
   ]
  },
  {
   "cell_type": "code",
   "execution_count": 54,
   "metadata": {
    "colab": {
     "base_uri": "https://localhost:8080/",
     "height": 125
    },
    "id": "gsdgOG9WCS0C",
    "outputId": "09a49487-13b0-4664-d998-c265b4dc3789"
   },
   "outputs": [
    {
     "data": {
      "text/html": [
       "<div>\n",
       "<style scoped>\n",
       "    .dataframe tbody tr th:only-of-type {\n",
       "        vertical-align: middle;\n",
       "    }\n",
       "\n",
       "    .dataframe tbody tr th {\n",
       "        vertical-align: top;\n",
       "    }\n",
       "\n",
       "    .dataframe thead th {\n",
       "        text-align: right;\n",
       "    }\n",
       "</style>\n",
       "<table border=\"1\" class=\"dataframe\">\n",
       "  <thead>\n",
       "    <tr style=\"text-align: right;\">\n",
       "      <th></th>\n",
       "      <th>plan_name</th>\n",
       "      <th>mean</th>\n",
       "      <th>var</th>\n",
       "      <th>std</th>\n",
       "      <th>median</th>\n",
       "      <th>Q1</th>\n",
       "      <th>Q3</th>\n",
       "      <th>IQR</th>\n",
       "      <th>lim_inf</th>\n",
       "      <th>lim_sup</th>\n",
       "      <th>atipico_inf</th>\n",
       "      <th>atipico_sup</th>\n",
       "    </tr>\n",
       "  </thead>\n",
       "  <tbody>\n",
       "    <tr>\n",
       "      <th>0</th>\n",
       "      <td>surf</td>\n",
       "      <td>40.012309</td>\n",
       "      <td>84.239180</td>\n",
       "      <td>9.17819</td>\n",
       "      <td>44.214714</td>\n",
       "      <td>35.262077</td>\n",
       "      <td>45.566776</td>\n",
       "      <td>10.304698</td>\n",
       "      <td>19.805030</td>\n",
       "      <td>61.023823</td>\n",
       "      <td>1</td>\n",
       "      <td>0</td>\n",
       "    </tr>\n",
       "    <tr>\n",
       "      <th>1</th>\n",
       "      <td>ultimate</td>\n",
       "      <td>42.943033</td>\n",
       "      <td>68.557742</td>\n",
       "      <td>8.27996</td>\n",
       "      <td>45.030072</td>\n",
       "      <td>42.991071</td>\n",
       "      <td>46.207143</td>\n",
       "      <td>3.216071</td>\n",
       "      <td>38.166964</td>\n",
       "      <td>51.031250</td>\n",
       "      <td>1</td>\n",
       "      <td>0</td>\n",
       "    </tr>\n",
       "  </tbody>\n",
       "</table>\n",
       "</div>"
      ],
      "text/plain": [
       "  plan_name       mean        var      std     median         Q1         Q3  \\\n",
       "0      surf  40.012309  84.239180  9.17819  44.214714  35.262077  45.566776   \n",
       "1  ultimate  42.943033  68.557742  8.27996  45.030072  42.991071  46.207143   \n",
       "\n",
       "         IQR    lim_inf    lim_sup  atipico_inf  atipico_sup  \n",
       "0  10.304698  19.805030  61.023823            1            0  \n",
       "1   3.216071  38.166964  51.031250            1            0  "
      ]
     },
     "execution_count": 54,
     "metadata": {},
     "output_type": "execute_result"
    }
   ],
   "source": [
    "# Calcula la media y la varianza de la duración mensual de llamadas.\n",
    "s_media_gigas_por_usuario = plan_gigas_por_usuario['surf_gigas_per_user'].mean()\n",
    "u_media_gigas_por_usuario = plan_gigas_por_usuario['ultimate_gigas_per_user'].mean()\n",
    "\n",
    "# Calculo la varianza de los mensajes promedio por usuario mensual por plan.\n",
    "s_varianza_gigas_por_usuario = np.var(plan_gigas_por_usuario['surf_gigas_per_user'])\n",
    "u_varianza_gigas_por_usuario = np.var(plan_gigas_por_usuario['ultimate_gigas_per_user'])\n",
    "\n",
    "# Calculo la distribucion estandar de los mensajes promedio por usuario mensual por plan.\n",
    "s_std_gigas_por_usuario = np.std(plan_gigas_por_usuario['surf_gigas_per_user'])\n",
    "u_std_gigas_por_usuario = np.std(plan_gigas_por_usuario['ultimate_gigas_per_user'])\n",
    "\n",
    "# Calculo el primer cuartil por plan\n",
    "s_q1_gigas_por_usuario = plan_gigas_por_usuario['surf_gigas_per_user'].quantile(0.25)\n",
    "u_q1_gigas_por_usuario = plan_gigas_por_usuario['ultimate_gigas_per_user'].quantile(0.25)\n",
    "\n",
    "# Calculo la mediana por plan\n",
    "s_median_gigas_por_usuario = plan_gigas_por_usuario['surf_gigas_per_user'].median()\n",
    "u_median_gigas_por_usuario = plan_gigas_por_usuario['ultimate_gigas_per_user'].median()\n",
    "\n",
    "# Calculo el tercer cuartil por plan\n",
    "s_q3_gigas_por_usuario = plan_gigas_por_usuario['surf_gigas_per_user'].quantile(0.75)\n",
    "u_q3_gigas_por_usuario = plan_gigas_por_usuario['ultimate_gigas_per_user'].quantile(0.75)\n",
    "\n",
    "# Calculo el rango intercuartil por plan\n",
    "s_iqr_gigas_por_usuario = s_q3_gigas_por_usuario - s_q1_gigas_por_usuario\n",
    "u_iqr_gigas_por_usuario = u_q3_gigas_por_usuario - u_q1_gigas_por_usuario\n",
    "\n",
    "# Calculo los limites inferiores por plan\n",
    "s_lim_inferior_gigas_por_usuario = s_q1_gigas_por_usuario - 1.5 * s_iqr_gigas_por_usuario\n",
    "u_lim_inferior_gigas_por_usuario = u_q1_gigas_por_usuario - 1.5 * u_iqr_gigas_por_usuario\n",
    "\n",
    "# Calculo los limites superiores por plan\n",
    "s_lim_superior_gigas_por_usuario = s_q3_gigas_por_usuario + 1.5 * s_iqr_gigas_por_usuario\n",
    "u_lim_superior_gigas_por_usuario = u_q3_gigas_por_usuario + 1.5 * u_iqr_gigas_por_usuario\n",
    "\n",
    "# Calculo de valores atípicos inferiores por plan\n",
    "s_outlier_inf_gigas_por_usuario  = len(plan_gigas_por_usuario[plan_gigas_por_usuario['surf_gigas_per_user'] < s_lim_inferior_gigas_por_usuario])\n",
    "u_outlier_inf_gigas_por_usuario  = len(plan_gigas_por_usuario[plan_gigas_por_usuario['ultimate_gigas_per_user'] < u_lim_inferior_gigas_por_usuario])\n",
    "\n",
    "# Calculo de valores atípicos superiores por plan\n",
    "s_outlier_sup_gigas_por_usuario = len(plan_gigas_por_usuario[plan_gigas_por_usuario['surf_gigas_per_user'] > s_lim_superior_gigas_por_usuario])\n",
    "u_outlier_sup_gigas_por_usuario = len(plan_gigas_por_usuario[plan_gigas_por_usuario['ultimate_gigas_per_user'] > u_lim_superior_gigas_por_usuario])\n",
    "\n",
    "# Creo una tabla para visualizar los calculos\n",
    "estadistica_gigas_por_usuario = {\n",
    "    'plan_name': ['surf', 'ultimate'],\n",
    "    'mean': [s_media_gigas_por_usuario, u_media_gigas_por_usuario],\n",
    "    'var': [s_varianza_gigas_por_usuario, u_varianza_gigas_por_usuario],\n",
    "    'std': [s_std_gigas_por_usuario, u_std_gigas_por_usuario],\n",
    "\n",
    "    'median': [s_median_gigas_por_usuario, u_median_gigas_por_usuario],\n",
    "    'Q1': [s_q1_gigas_por_usuario, u_q1_gigas_por_usuario],\n",
    "    'Q3': [s_q3_gigas_por_usuario, u_q3_gigas_por_usuario],\n",
    "    'IQR':[s_iqr_gigas_por_usuario, u_iqr_gigas_por_usuario],\n",
    "\n",
    "    'lim_inf': [s_lim_inferior_gigas_por_usuario, u_lim_inferior_gigas_por_usuario],\n",
    "    'lim_sup': [s_lim_superior_gigas_por_usuario, u_lim_superior_gigas_por_usuario],\n",
    "    'atipico_inf':[s_outlier_inf_gigas_por_usuario,u_outlier_inf_gigas_por_usuario],\n",
    "    'atipico_sup':[s_outlier_sup_gigas_por_usuario,u_outlier_sup_gigas_por_usuario],\n",
    "}\n",
    "estadistica_gigas_por_usuario = pd.DataFrame(estadistica_gigas_por_usuario)\n",
    "estadistica_gigas_por_usuario"
   ]
  },
  {
   "cell_type": "code",
   "execution_count": 55,
   "metadata": {
    "colab": {
     "base_uri": "https://localhost:8080/",
     "height": 577
    },
    "id": "tt1hOUxOCsfo",
    "outputId": "f505d73a-5245-49d6-c20b-182116aa1ffb"
   },
   "outputs": [
    {
     "data": {
      "image/png": "[encoded data removed]",
      "text/plain": [
       "<Figure size 640x480 with 1 Axes>"
      ]
     },
     "metadata": {},
     "output_type": "display_data"
    },
    {
     "name": "stdout",
     "output_type": "stream",
     "text": [
      "\n",
      "Surf muestra una distribucion asimétrica a la izquierda, los valores están más concentrados hacia la derecha (valores altos).\n",
      "La mediana(44.21) está más cerca de Q3(45.57) que Q1(35.26) con una cola alargada hacia la izquierda.\n",
      "\n",
      "Ultimate muestra una distribucion asimétrica a la izquierda, los valores están más concentrados hacia la derecha (valores altos).\n",
      "La mediana(45.03) está más cerca de Q3(46.21) que Q1(42.99) con una cola alargada hacia la izquierda.\n"
     ]
    }
   ],
   "source": [
    "# Calculo de medidas de posición por plan\n",
    "s_mediana_q1_gigas_por_usuario = s_median_gigas_por_usuario - s_q1_gigas_por_usuario\n",
    "s_mediana_q3_gigas_por_usuario = s_q3_gigas_por_usuario - s_median_gigas_por_usuario\n",
    "u_mediana_q1_gigas_por_usuario = u_median_gigas_por_usuario - u_q1_gigas_por_usuario\n",
    "u_mediana_q3_gigas_por_usuario = u_q3_gigas_por_usuario - u_median_gigas_por_usuario\n",
    "\n",
    "# Calculo de valores atípicos inferiores por plan\n",
    "s_outlier_inf_gigas_por_usuario  = len(plan_gigas_por_usuario[plan_gigas_por_usuario['surf_gigas_per_user'] < s_lim_inferior_gigas_por_usuario])\n",
    "u_outlier_inf_gigas_por_usuario  = len(plan_gigas_por_usuario[plan_gigas_por_usuario['ultimate_gigas_per_user'] < u_lim_inferior_gigas_por_usuario])\n",
    "\n",
    "# Calculo de valores atípicos superiores por plan\n",
    "s_outlier_sup_gigas_por_usuario = len(plan_gigas_por_usuario[plan_gigas_por_usuario['surf_gigas_per_user'] > s_lim_superior_gigas_por_usuario])\n",
    "u_outlier_sup_gigas_por_usuario = len(plan_gigas_por_usuario[plan_gigas_por_usuario['ultimate_gigas_per_user'] > u_lim_superior_gigas_por_usuario])\n",
    "\n",
    "# Creo el grafico de caja\n",
    "plt.boxplot(plan_gigas_por_usuario[['ultimate_gigas_per_user', 'surf_gigas_per_user']], vert=False)\n",
    "plt.xlabel('Volumen de tráfico (Gigabytes)')\n",
    "plt.title('Distribución de consumo de datos por plan')\n",
    "plt.grid(axis='x', linestyle='--', alpha=0.5)\n",
    "plt.show()\n",
    "\n",
    "print()\n",
    "\n",
    "# Confirmacion numerica media-mediana\n",
    "if s_media_gigas_por_usuario > s_median_gigas_por_usuario:\n",
    "  print('Surf muestra una distribucion asimétrica a la derecha, los valores están más concentrados hacia la izquierda (valores bajos).')\n",
    "elif s_media_gigas_por_usuario < s_median_gigas_por_usuario:\n",
    "  print('Surf muestra una distribucion asimétrica a la izquierda, los valores están más concentrados hacia la derecha (valores altos).')\n",
    "else:\n",
    "  print('Surf muestra una distribucion simetrica.')\n",
    "\n",
    "# Confirmacion por medidas de posicion\n",
    "if s_mediana_q1_gigas_por_usuario < s_mediana_q3_gigas_por_usuario:\n",
    "    print(f\"La mediana({s_median_gigas_por_usuario:.2f}) está más cerca de Q1({s_q1_gigas_por_usuario:.2f}) que Q3({s_q3_gigas_por_usuario:.2f}) con una cola alargada hacia la derecha. \")\n",
    "elif s_mediana_q3_gigas_por_usuario < s_mediana_q1_gigas_por_usuario:\n",
    "    print(f\"La mediana({s_median_gigas_por_usuario:.2f}) está más cerca de Q3({s_q3_gigas_por_usuario:.2f}) que Q1({s_q1_gigas_por_usuario:.2f}) con una cola alargada hacia la izquierda.\")\n",
    "else:\n",
    "    print(\"La mediana esta a la misma distancia entre Q1 y Q3\")\n",
    "\n",
    "print()\n",
    "\n",
    "if u_media_gigas_por_usuario > u_median_gigas_por_usuario:\n",
    "  print('Ultimate muestra una distribucion asimétrica a la derecha, los valores están más concentrados hacia la izquierda (valores bajos).')\n",
    "elif u_media_gigas_por_usuario < u_median_gigas_por_usuario:\n",
    "  print('Ultimate muestra una distribucion asimétrica a la izquierda, los valores están más concentrados hacia la derecha (valores altos).')\n",
    "else:\n",
    "  print('Ultimate muestra una distribucion simetrica')\n",
    "\n",
    "if u_mediana_q1_gigas_por_usuario < u_mediana_q3_gigas_por_usuario:\n",
    "    print(f\"La mediana({u_median_gigas_por_usuario:.2f}) está más cerca de Q1({u_q1_gigas_por_usuario:.2f}) que Q3({u_q3_gigas_por_usuario:.2f}) con una cola alargada hacia la derecha.\")\n",
    "elif u_mediana_q3_gigas_por_usuario < u_mediana_q1_gigas_por_usuario:\n",
    "    print(f\"La mediana({u_median_gigas_por_usuario:.2f}) está más cerca de Q3({u_q3_gigas_por_usuario:.2f}) que Q1({u_q1_gigas_por_usuario:.2f}) con una cola alargada hacia la izquierda.\")\n",
    "else:\n",
    "    print(\"La mediana esta a la misma distancia entre Q1 y Q3\")"
   ]
  },
  {
   "cell_type": "markdown",
   "metadata": {
    "id": "UN9zwuMP0q1N"
   },
   "source": [
    "El análisis revela que, aunque los planes Surf (15 GB) y Ultimate (30 GB) tienen límites distintos, los usuarios de ambos tienden a consumir cantidades similares, con medianas alrededor de 44-45 GB, superando significativamente los datos incluidos. El plan Surf muestra mayor variabilidad (IQR = 10.30 GB), con una distribución asimétrica hacia la izquierda, lo que indica que muchos usuarios se acercan al límite superior, mientras que Ultimate presenta un consumo más concentrado (IQR = 3.22 GB) pero igualmente alto.\n",
    "\n",
    "Esto plantea la necesidad de reevaluar los paquetes ofrecidos, ajustando los datos incluidos, para cubrir el consumo real de los clientes y mejorar su satisfacción."
   ]
  },
  {
   "cell_type": "markdown",
   "metadata": {},
   "source": [
    "<div class=\"alert alert-block alert-success\">\n",
    "\n",
    "<b>Comentario del revisor</b> <a class=\"tocSkip\"></a>\n",
    "\n",
    "Perfecto.\n",
    "</div>"
   ]
  },
  {
   "cell_type": "markdown",
   "metadata": {
    "id": "tCijq3260q1N"
   },
   "source": [
    "## Ingreso"
   ]
  },
  {
   "cell_type": "code",
   "execution_count": 56,
   "metadata": {
    "colab": {
     "base_uri": "https://localhost:8080/",
     "height": 472
    },
    "id": "tz-dq_V00q1O",
    "outputId": "0079f8d0-1598-44ea-b386-7d34cdab8a4f"
   },
   "outputs": [
    {
     "data": {
      "image/png": "[encoded data removed]",
      "text/plain": [
       "<Figure size 640x480 with 1 Axes>"
      ]
     },
     "metadata": {},
     "output_type": "display_data"
    }
   ],
   "source": [
    "# Agrupo por plan y mes, calculando el total de mensajes y de usuarios\n",
    "ingreso_al_mes = ingreso_mensual.groupby(['plan_name', 'per_month']).agg(monthly_income_sum=('monthly_income', 'sum'), total_users_count=('user_id', 'count')).reset_index()\n",
    "\n",
    "# Calculo el ingreso promedio por usuario dividiendo el ingreso total  entre el numero de usuarios\n",
    "ingreso_al_mes['income_per_user'] = (ingreso_al_mes['monthly_income_sum'] / ingreso_al_mes['total_users_count']).round(2)\n",
    "\n",
    "# Defino el orden de los meses, convirtiendo la columna de meses a categorica con el orden de los meses\n",
    "orden_meses = ['January', 'February', 'March', 'April', 'May', 'June', 'July', 'August', 'September', 'October', 'November', 'December']\n",
    "ingreso_al_mes['per_month'] = pd.Categorical(ingreso_al_mes['per_month'], categories=orden_meses, ordered=True)\n",
    "ingreso_al_mes = ingreso_al_mes.sort_values('per_month')\n",
    "\n",
    "# Filtro por plan y renombro la columna para cada plan, manteniendo la columna de mes y mensajes por usuario\n",
    "surf_ingreso_al_mes = ingreso_al_mes[ingreso_al_mes['plan_name'] =='surf']\n",
    "surf_ingreso_al_mes = surf_ingreso_al_mes.rename(columns={'income_per_user':'surf_income_per_user'})\n",
    "surf_ingreso_al_mes = surf_ingreso_al_mes[['per_month','surf_income_per_user']]\n",
    "\n",
    "ultimate_ingreso_al_mes = ingreso_al_mes[ingreso_al_mes['plan_name'] =='ultimate']\n",
    "ultimate_ingreso_al_mes = ultimate_ingreso_al_mes.rename(columns={'income_per_user':'ultimate_income_per_user'})\n",
    "ultimate_ingreso_al_mes = ultimate_ingreso_al_mes[['per_month','ultimate_income_per_user']]\n",
    "\n",
    "# Combino ambos planes, uniendolos por mes\n",
    "plan_ingreso_al_mes = surf_ingreso_al_mes.merge(ultimate_ingreso_al_mes, on='per_month', how='left')\n",
    "\n",
    "# Creo histogramas superpuestos para comparar la distribución\n",
    "plan_ingreso_al_mes['surf_income_per_user'].plot(kind='hist', bins=10, edgecolor=\"black\", alpha=0.7, label='surf')\n",
    "plan_ingreso_al_mes['ultimate_income_per_user'].plot(kind='hist', bins=10, edgecolor=\"black\", alpha=0.7, label='ultimate')\n",
    "\n",
    "plt.title(\"Distribución mensuales por plan\")\n",
    "plt.xlabel(\"Ingreso ($)\")\n",
    "plt.ylabel(\"Frecuencia\")\n",
    "plt.legend()\n",
    "plt.grid(linestyle=\"--\", alpha=0.7)"
   ]
  },
  {
   "cell_type": "code",
   "execution_count": 57,
   "metadata": {
    "colab": {
     "base_uri": "https://localhost:8080/",
     "height": 449
    },
    "id": "E-kIlVujberq",
    "outputId": "e84b6ff2-3f11-4f84-b0e1-96be87129fcf"
   },
   "outputs": [
    {
     "data": {
      "image/png": "[encoded data removed]",
      "text/plain": [
       "<Figure size 640x480 with 1 Axes>"
      ]
     },
     "metadata": {},
     "output_type": "display_data"
    }
   ],
   "source": [
    "# Creo un graffico de barras para compara los planes por mes\n",
    "ax = plan_ingreso_al_mes.plot(kind='barh', x='per_month', ylabel='', legend=False)\n",
    "ax.invert_yaxis()\n",
    "plt.grid(axis='x', linestyle='--', alpha=0.5)\n",
    "plt.xlabel('Ingreso ($)')\n",
    "plt.title('')\n",
    "plt.legend(['surf', 'ultimate'], loc=3)\n",
    "plt.show()"
   ]
  },
  {
   "cell_type": "code",
   "execution_count": 58,
   "metadata": {
    "colab": {
     "base_uri": "https://localhost:8080/",
     "height": 125
    },
    "id": "bYmwxyVh0q1P",
    "outputId": "3ba346a5-9d19-4154-a791-3d31ecbea6ee"
   },
   "outputs": [
    {
     "data": {
      "text/html": [
       "<div>\n",
       "<style scoped>\n",
       "    .dataframe tbody tr th:only-of-type {\n",
       "        vertical-align: middle;\n",
       "    }\n",
       "\n",
       "    .dataframe tbody tr th {\n",
       "        vertical-align: top;\n",
       "    }\n",
       "\n",
       "    .dataframe thead th {\n",
       "        text-align: right;\n",
       "    }\n",
       "</style>\n",
       "<table border=\"1\" class=\"dataframe\">\n",
       "  <thead>\n",
       "    <tr style=\"text-align: right;\">\n",
       "      <th></th>\n",
       "      <th>plan_name</th>\n",
       "      <th>mean</th>\n",
       "      <th>var</th>\n",
       "      <th>std</th>\n",
       "      <th>median</th>\n",
       "      <th>Q1</th>\n",
       "      <th>Q3</th>\n",
       "      <th>IQR</th>\n",
       "      <th>lim_inf</th>\n",
       "      <th>lim_sup</th>\n",
       "      <th>atipico_inf</th>\n",
       "      <th>atipico_sup</th>\n",
       "    </tr>\n",
       "  </thead>\n",
       "  <tbody>\n",
       "    <tr>\n",
       "      <th>0</th>\n",
       "      <td>surf</td>\n",
       "      <td>284.687500</td>\n",
       "      <td>7075.471819</td>\n",
       "      <td>84.115824</td>\n",
       "      <td>320.800</td>\n",
       "      <td>243.755</td>\n",
       "      <td>337.4275</td>\n",
       "      <td>93.6725</td>\n",
       "      <td>103.24625</td>\n",
       "      <td>477.93625</td>\n",
       "      <td>1</td>\n",
       "      <td>0</td>\n",
       "    </tr>\n",
       "    <tr>\n",
       "      <th>1</th>\n",
       "      <td>ultimate</td>\n",
       "      <td>187.001667</td>\n",
       "      <td>1352.633081</td>\n",
       "      <td>36.778160</td>\n",
       "      <td>195.515</td>\n",
       "      <td>188.360</td>\n",
       "      <td>201.2350</td>\n",
       "      <td>12.8750</td>\n",
       "      <td>169.04750</td>\n",
       "      <td>220.54750</td>\n",
       "      <td>1</td>\n",
       "      <td>1</td>\n",
       "    </tr>\n",
       "  </tbody>\n",
       "</table>\n",
       "</div>"
      ],
      "text/plain": [
       "  plan_name        mean          var        std   median       Q1        Q3  \\\n",
       "0      surf  284.687500  7075.471819  84.115824  320.800  243.755  337.4275   \n",
       "1  ultimate  187.001667  1352.633081  36.778160  195.515  188.360  201.2350   \n",
       "\n",
       "       IQR    lim_inf    lim_sup  atipico_inf  atipico_sup  \n",
       "0  93.6725  103.24625  477.93625            1            0  \n",
       "1  12.8750  169.04750  220.54750            1            1  "
      ]
     },
     "execution_count": 58,
     "metadata": {},
     "output_type": "execute_result"
    }
   ],
   "source": [
    "# Calculo la media de los mensajes promedio por usuario mensual por plan.\n",
    "s_media_ingreso_al_mes = plan_ingreso_al_mes['surf_income_per_user'].mean()\n",
    "u_media_ingreso_al_mes = plan_ingreso_al_mes['ultimate_income_per_user'].mean()\n",
    "\n",
    "# Calculo la varianza de los mensajes promedio por usuario mensual por plan.\n",
    "s_varianza_ingreso_al_mes = np.var(plan_ingreso_al_mes['surf_income_per_user'])\n",
    "u_varianza_ingreso_al_mes = np.var(plan_ingreso_al_mes['ultimate_income_per_user'])\n",
    "\n",
    "# Calculo la distribucion estandar de los mensajes promedio por usuario mensual por plan.\n",
    "s_std_ingreso_al_mes = np.std(plan_ingreso_al_mes['surf_income_per_user'])\n",
    "u_std_ingreso_al_mes = np.std(plan_ingreso_al_mes['ultimate_income_per_user'])\n",
    "\n",
    "# Calculo el primer cuartil por plan\n",
    "s_q1_ingreso_al_mes = plan_ingreso_al_mes['surf_income_per_user'].quantile(0.25)\n",
    "u_q1_ingreso_al_mes = plan_ingreso_al_mes['ultimate_income_per_user'].quantile(0.25)\n",
    "\n",
    "# Calculo la mediana por plan\n",
    "s_median_ingreso_al_mes = plan_ingreso_al_mes['surf_income_per_user'].median()\n",
    "u_median_ingreso_al_mes = plan_ingreso_al_mes['ultimate_income_per_user'].median()\n",
    "\n",
    "# Calculo el tercer cuartil por plan\n",
    "s_q3_ingreso_al_mes = plan_ingreso_al_mes['surf_income_per_user'].quantile(0.75)\n",
    "u_q3_ingreso_al_mes = plan_ingreso_al_mes['ultimate_income_per_user'].quantile(0.75)\n",
    "\n",
    "# Calculo el rango intercuartil por plan\n",
    "s_iqr_ingreso_al_mes = s_q3_ingreso_al_mes - s_q1_ingreso_al_mes\n",
    "u_iqr_ingreso_al_mes = u_q3_ingreso_al_mes - u_q1_ingreso_al_mes\n",
    "\n",
    "# Calculo los limites inferiores por plan\n",
    "s_lim_inferior_ingreso_al_mes = s_q1_ingreso_al_mes - (1.5 * s_iqr_ingreso_al_mes)\n",
    "u_lim_inferior_ingreso_al_mes = u_q1_ingreso_al_mes - (1.5*u_iqr_ingreso_al_mes)\n",
    "\n",
    "# Calculo los limites superiores por plan\n",
    "s_lim_superior_ingreso_al_mes = s_q3_ingreso_al_mes + (1.5*s_iqr_ingreso_al_mes)\n",
    "u_lim_superior_ingreso_al_mes = u_q3_ingreso_al_mes + (1.5*u_iqr_ingreso_al_mes)\n",
    "\n",
    "# Calculo de valores atípicos inferiores por plan\n",
    "s_outlier_inf_ingreso_al_mes  = len(plan_ingreso_al_mes[plan_ingreso_al_mes['surf_income_per_user'] < s_lim_inferior_ingreso_al_mes])\n",
    "u_outlier_inf_ingreso_al_mes  = len(plan_ingreso_al_mes[plan_ingreso_al_mes['ultimate_income_per_user'] < u_lim_inferior_ingreso_al_mes])\n",
    "\n",
    "# Calculo de valores atípicos superiores por plan\n",
    "s_outlier_sup_ingreso_al_mes = len(plan_ingreso_al_mes[plan_ingreso_al_mes['surf_income_per_user'] > s_lim_superior_ingreso_al_mes])\n",
    "u_outlier_sup_ingreso_al_mes = len(plan_ingreso_al_mes[plan_ingreso_al_mes['ultimate_income_per_user'] > u_lim_superior_ingreso_al_mes])\n",
    "\n",
    "# Creo una tabla para visualizar los calculos\n",
    "estadistica_ingreso_al_mes = {\n",
    "    'plan_name': ['surf', 'ultimate'],\n",
    "    'mean': [s_media_ingreso_al_mes, u_media_ingreso_al_mes],\n",
    "    'var': [s_varianza_ingreso_al_mes, u_varianza_ingreso_al_mes],\n",
    "    'std': [s_std_ingreso_al_mes, u_std_ingreso_al_mes],\n",
    "\n",
    "    'median': [s_median_ingreso_al_mes, u_median_ingreso_al_mes],\n",
    "    'Q1': [s_q1_ingreso_al_mes, u_q1_ingreso_al_mes],\n",
    "    'Q3': [s_q3_ingreso_al_mes, u_q3_ingreso_al_mes],\n",
    "    'IQR':[s_iqr_ingreso_al_mes, u_iqr_ingreso_al_mes],\n",
    "\n",
    "    'lim_inf': [s_lim_inferior_ingreso_al_mes, u_lim_inferior_ingreso_al_mes],\n",
    "    'lim_sup': [s_lim_superior_ingreso_al_mes, u_lim_superior_ingreso_al_mes],\n",
    "    'atipico_inf':[s_outlier_inf_ingreso_al_mes,u_outlier_inf_ingreso_al_mes],\n",
    "    'atipico_sup':[s_outlier_sup_ingreso_al_mes,u_outlier_sup_ingreso_al_mes],\n",
    "\n",
    "}\n",
    "estadistica_ingreso_al_mes = pd.DataFrame(estadistica_ingreso_al_mes)\n",
    "estadistica_ingreso_al_mes"
   ]
  },
  {
   "cell_type": "code",
   "execution_count": 59,
   "metadata": {
    "colab": {
     "base_uri": "https://localhost:8080/",
     "height": 576
    },
    "id": "c-9RNrll0l9M",
    "outputId": "6c3fbdc5-3aec-43e0-d4fc-dba4948e0a01"
   },
   "outputs": [
    {
     "data": {
      "image/png": "[encoded data removed]",
      "text/plain": [
       "<Figure size 640x480 with 1 Axes>"
      ]
     },
     "metadata": {},
     "output_type": "display_data"
    },
    {
     "name": "stdout",
     "output_type": "stream",
     "text": [
      "\n",
      "Surf muestra una distribucion asimétrica a la izquierda, los valores están más concentrados hacia la derecha (valores altos).\n",
      "La mediana(320.80) está más cerca de Q3(337.43) que Q1(243.75) con una cola alargada hacia la izquierda.\n",
      "\n",
      "Ultimate muestra una distribucion asimétrica a la izquierda, los valores están más concentrados hacia la derecha (valores altos).\n",
      "La mediana(195.51) está más cerca de Q3(201.24) que Q1(188.36) con una cola alargada hacia la izquierda.\n"
     ]
    }
   ],
   "source": [
    "# Calculo de medidas de posición por plan\n",
    "s_mediana_q1_ingreso_al_mes = s_median_ingreso_al_mes - s_q1_ingreso_al_mes\n",
    "s_mediana_q3_ingreso_al_mes = s_q3_ingreso_al_mes - s_median_ingreso_al_mes\n",
    "u_mediana_q1_ingreso_al_mes = u_median_ingreso_al_mes - u_q1_ingreso_al_mes\n",
    "u_mediana_q3_ingreso_al_mes = u_q3_ingreso_al_mes - u_median_ingreso_al_mes\n",
    "\n",
    "# Creo el grafico de caja\n",
    "plt.boxplot(plan_ingreso_al_mes[['ultimate_income_per_user', 'surf_income_per_user']], vert=False)\n",
    "plt.xlabel('Ingreso ($)')\n",
    "plt.title('Distribución')\n",
    "plt.grid(axis='x', linestyle='--', alpha=0.5)\n",
    "plt.show()\n",
    "\n",
    "print()\n",
    "\n",
    "# Confirmacion numerica media-mediana\n",
    "if s_media_ingreso_al_mes > s_median_ingreso_al_mes:\n",
    "  print('Surf muestra una distribucion asimétrica a la derecha, la media es mayor que la mediana los valores están más concentrados hacia la izquierda (valores bajos).')\n",
    "elif s_media_ingreso_al_mes < s_median_ingreso_al_mes:\n",
    "  print('Surf muestra una distribucion asimétrica a la izquierda, los valores están más concentrados hacia la derecha (valores altos).')\n",
    "else:\n",
    "  print('Surf muestra una distribucion simetrica.')\n",
    "\n",
    "# Confirmacion por medidas de posicion\n",
    "if s_mediana_q1_ingreso_al_mes < s_mediana_q3_ingreso_al_mes:\n",
    "    print(f\"La mediana({s_median_ingreso_al_mes:.2f}) está más cerca de Q1({s_q1_ingreso_al_mes:.2f}) que Q3({s_q3_ingreso_al_mes:.2f}) con una cola alargada hacia la derecha. \")\n",
    "elif s_mediana_q3_ingreso_al_mes < s_mediana_q1_ingreso_al_mes:\n",
    "    print(f\"La mediana({s_median_ingreso_al_mes:.2f}) está más cerca de Q3({s_q3_ingreso_al_mes:.2f}) que Q1({s_q1_ingreso_al_mes:.2f}) con una cola alargada hacia la izquierda.\")\n",
    "else:\n",
    "    print(\"La mediana esta a la misma distancia entre Q1 y Q3\")\n",
    "\n",
    "print()\n",
    "\n",
    "if u_media_ingreso_al_mes > u_median_ingreso_al_mes:\n",
    "  print('Ultimate muestra una distribucion asimétrica a la derecha, los valores están más concentrados hacia la izquierda (valores bajos).')\n",
    "elif u_media_ingreso_al_mes < u_median_ingreso_al_mes:\n",
    "  print('Ultimate muestra una distribucion asimétrica a la izquierda, los valores están más concentrados hacia la derecha (valores altos).')\n",
    "else:\n",
    "  print('Ultimate muestra una distribucion simetrica')\n",
    "\n",
    "if u_mediana_q1_ingreso_al_mes < u_mediana_q3_ingreso_al_mes:\n",
    "    print(f\"La mediana({u_median_ingreso_al_mes:.2f}) está más cerca de Q1({u_q1_ingreso_al_mes:.2f}) que Q3({u_q3_ingreso_al_mes:.2f}) con una cola alargada hacia la derecha.\")\n",
    "elif u_mediana_q3_ingreso_al_mes < u_mediana_q1_ingreso_al_mes:\n",
    "    print(f\"La mediana({u_median_ingreso_al_mes:.2f}) está más cerca de Q3({u_q3_ingreso_al_mes:.2f}) que Q1({u_q1_ingreso_al_mes:.2f}) con una cola alargada hacia la izquierda.\")\n",
    "else:\n",
    "    print(\"La mediana esta a la misma distancia entre Q1 y Q3\")"
   ]
  },
  {
   "cell_type": "markdown",
   "metadata": {
    "id": "KAFidcXZ0q1P"
   },
   "source": [
    "El análisis revela que el plan Surf genera mayores ingresos promedio (284.69) que el plan Ultimate (187.00), pero con una variabilidad significativamente más alta, lo que indica ingresos menos consistentes y una distribución asimétrica hacia la izquierda con valores atípicos bajos. Esto sugiere que, aunque Surf atrae a usuarios que pagan montos elevados, también incluye casos de ingresos excepcionalmente reducidos.\n",
    "\n",
    "Por otro lado, Ultimate muestra una distribución más estable y concentrada alrededor de la mediana ($195.51), con menos dispersión y asimetría moderada, reflejando un comportamiento más predecible entre sus usuarios. Para optimizar los ingresos, sería recomendable evaluar oportunidades para migrar usuarios de Surf a Ultimate, aprovechando su mayor estabilidad y potencial de ingresos recurrentes."
   ]
  },
  {
   "cell_type": "markdown",
   "metadata": {},
   "source": [
    "<div class=\"alert alert-block alert-success\">\n",
    "\n",
    "<b>Comentario del revisor</b> <a class=\"tocSkip\"></a>\n",
    "\n",
    "Excelente  boxplot.\n",
    "</div>"
   ]
  },
  {
   "cell_type": "code",
   "execution_count": 79,
   "metadata": {},
   "outputs": [
    {
     "data": {
      "image/png": "[encoded data removed]",
      "text/plain": [
       "<Figure size 1200x600 with 1 Axes>"
      ]
     },
     "metadata": {},
     "output_type": "display_data"
    },
    {
     "data": {
      "image/png": "[encoded data removed]",
      "text/plain": [
       "<Figure size 1200x600 with 1 Axes>"
      ]
     },
     "metadata": {},
     "output_type": "display_data"
    }
   ],
   "source": [
    "#plan_minutos_por_usuario.head() per_month\tsurf_minutes_per_user\tultimate_minutes_per_user\n",
    "#plan_mensajes_por_usuario.head() per_month\tsurf_messages_per_user\tultimate_messages_per_user\n",
    "#plan_gigas_por_usuario.head() per_month\tsurf_gigas_per_user\tultimate_gigas_per_user\n",
    "#  plan_ingreso_al_mes.head() \tper_month\tsurf_income_per_user\tultimate_income_per_user\n",
    "\n",
    "# Grafico Surf\n",
    "plt.figure(figsize=(12, 6))\n",
    "plt.plot(plan_minutos_por_usuario['per_month'] , plan_minutos_por_usuario['surf_minutes_per_user'], label='Minutos', marker='o', linestyle=':')\n",
    "plt.plot(plan_mensajes_por_usuario['per_month'], plan_mensajes_por_usuario['surf_messages_per_user'], label='Mensajes', marker='o', linestyle=':')\n",
    "plt.plot(plan_gigas_por_usuario['per_month'], plan_gigas_por_usuario['surf_gigas_per_user'], label='Vol.Trafico', marker='o', linestyle=':')\n",
    "plt.plot(plan_ingreso_al_mes['per_month'], plan_ingreso_al_mes['surf_income_per_user'], label='Ingreso $', marker='o', linestyle=':')\n",
    "\n",
    "# Añadir título y etiquetas\n",
    "plt.title('Surf Consumo vs Ingresos')\n",
    "plt.legend()\n",
    "plt.grid(True)\n",
    "plt.show()\n",
    "\n",
    "# Grafico Ultimate\n",
    "plt.figure(figsize=(12, 6))\n",
    "plt.plot(plan_minutos_por_usuario['per_month'] , plan_minutos_por_usuario['ultimate_minutes_per_user'], label='Minutos', marker='o', linestyle=':')\n",
    "plt.plot(plan_mensajes_por_usuario['per_month'], plan_mensajes_por_usuario['ultimate_messages_per_user'], label='Mensajes', marker='o', linestyle=':')\n",
    "plt.plot(plan_gigas_por_usuario['per_month'], plan_gigas_por_usuario['ultimate_gigas_per_user'], label='Vol.Trafico', marker='o', linestyle=':')\n",
    "plt.plot(plan_ingreso_al_mes['per_month'], plan_ingreso_al_mes['ultimate_income_per_user'], label='Ingreso $', marker='o', linestyle=':')\n",
    "\n",
    "# Añadir título y etiquetas\n",
    "plt.title('Ultimate Consumo vs Ingresos')\n",
    "plt.legend()\n",
    "plt.grid(True)\n",
    "plt.show()"
   ]
  },
  {
   "cell_type": "markdown",
   "metadata": {},
   "source": [
    "<div class=\"alert alert-block alert-warning\">\n",
    "<b>Comentario del revisor</b> <a class=\"tocSkip\"></a>\n",
    "\n",
    "Realiza un lineplot para observar la evolucion en el tiempo de cada plan en los minutos de llamadas, internet y mensajes, agregando sus ingresos.\n",
    "Podrias hacerlo en dos graficos paralelos uno con un plan y otro en el otro. Pero explora tu imaginacion y hace esa evolucion.</div>\n",
    "\n",
    "\n",
    "<div class=\"alert alert-block alert-success\">\n",
    "\n",
    "<b>Comentario del revisor #2</b> <a class=\"tocSkip\"></a>\n",
    "\n",
    "Corregido, excelentes graficos.-\n",
    "\n",
    "</div>"
   ]
  },
  {
   "cell_type": "markdown",
   "metadata": {},
   "source": [
    "<div class=\"alert alert-block alert-info\">\n",
    "<b>Respuesta del estudiante</b> <a class=\"tocSkip\"></a>\n",
    "\n",
    "Las graficas de lineas por plan.   \n",
    "</div>"
   ]
  },
  {
   "cell_type": "markdown",
   "metadata": {
    "id": "ajJ7VKeI0q1Q"
   },
   "source": [
    "# 4. Prueba las hipótesis estadísticas"
   ]
  },
  {
   "cell_type": "code",
   "execution_count": 81,
   "metadata": {
    "colab": {
     "base_uri": "https://localhost:8080/",
     "height": 541
    },
    "id": "5dvbhg2V0wxz",
    "outputId": "986c8309-7523-4729-8ff3-7637e5e24c42"
   },
   "outputs": [
    {
     "name": "stdout",
     "output_type": "stream",
     "text": [
      "Prueba de Levene: p-value = 0.0809\n",
      "¿Asumir varianzas iguales? Sí\n"
     ]
    },
    {
     "data": {
      "image/png": "[encoded data removed]",
      "text/plain": [
       "<Figure size 640x480 with 1 Axes>"
      ]
     },
     "metadata": {},
     "output_type": "display_data"
    },
    {
     "name": "stdout",
     "output_type": "stream",
     "text": [
      "\n",
      "Estadístico t: 3.53, Valor-p: 0.0019\n",
      "Conclusión: Rechazamos H₀. Hay una diferencia significativa entre los planes.\n",
      "El plan Surf tiene un ingreso promedio MAYOR que Ultimate.\n"
     ]
    }
   ],
   "source": [
    "# Hipótesis\n",
    "# H₀: El ingreso promedio de las tarifas Surf es igual a Ultimate.\n",
    "# H₁: El ingreso promedio de las tarifas Surf es diferente a Ultimate.\n",
    "\n",
    "# Verifico la igualdad de varianzas con Levene\n",
    "levene_stat, levene_p = stats.levene(\n",
    "    plan_ingreso_al_mes['surf_income_per_user'],\n",
    "    plan_ingreso_al_mes['ultimate_income_per_user']\n",
    ")\n",
    "\n",
    "alpha = 0.05\n",
    "equal_var = levene_p > alpha  # True si varianzas iguales, False si diferentes\n",
    "\n",
    "print(f\"Prueba de Levene: p-value = {levene_p:.4f}\")\n",
    "print(f\"¿Asumir varianzas iguales? {'Sí' if equal_var else 'No'}\")\n",
    "\n",
    "# Prueba estadística t de Student con equal_var determinado por Levene\n",
    "t_stat, p_value = stats.ttest_ind(\n",
    "    plan_ingreso_al_mes['surf_income_per_user'],\n",
    "    plan_ingreso_al_mes['ultimate_income_per_user'],\n",
    "    equal_var=equal_var  # Uso el resultado de Levene\n",
    ")\n",
    "\n",
    "# Visualización\n",
    "plt.hist(plan_ingreso_al_mes['surf_income_per_user'], bins=20, alpha=0.6, label='Surf')\n",
    "plt.hist(plan_ingreso_al_mes['ultimate_income_per_user'], bins=20, alpha=0.6, label='Ultimate')\n",
    "plt.title('Distribución de ingresos por plan')\n",
    "plt.xlabel('Ingreso ($)')\n",
    "plt.ylabel('Frecuencia')\n",
    "plt.legend()\n",
    "plt.show()\n",
    "\n",
    "# Resultados\n",
    "print(f\"\\nEstadístico t: {t_stat:.2f}, Valor-p: {p_value:.4f}\")\n",
    "if p_value < alpha:\n",
    "    print(\"Conclusión: Rechazamos H₀. Hay una diferencia significativa entre los planes.\")\n",
    "    # Comparacion de medias para dirección de la diferencia\n",
    "    if plan_ingreso_al_mes['surf_income_per_user'].mean() > plan_ingreso_al_mes['ultimate_income_per_user'].mean():\n",
    "        print(\"El plan Surf tiene un ingreso promedio MAYOR que Ultimate.\")\n",
    "    else:\n",
    "        print(\"El plan Surf tiene un ingreso promedio MENOR que Ultimate.\")\n",
    "else:\n",
    "    print(\"Conclusión: No podemos rechazar H₀. No hay evidencia de diferencia.\")"
   ]
  },
  {
   "cell_type": "markdown",
   "metadata": {},
   "source": [
    "<div class=\"alert alert-block alert-warning\">\n",
    "<b>Comentario del revisor </b> <a class=\"tocSkip\"></a>\n",
    "\n",
    "Cuando realizamos la prueba de t.estudent es muy importante un parametro que es el equal_var (False or True), que significa si existe la igualdad de varianzas o no de ambas muestras. En este trabajo no pedimos ser finos con esto pero te lo dejo a modo de que entiendas el porque y te va a servir en futuros proyecto.\n",
    "\n",
    "El bojetivo de la prueba de t de Student es comparar las medias de dos grupos de datos y determinar si existen diferencias significativas entre ellos. Se aplica cuando estamos interesados en saber si la diferencia entre las medias es real o simplemente producto del azar.\n",
    "\n",
    "Para esto generamos dos hipotesis H0 y H1 (nula y alternativa, respectivamente).\n",
    "\n",
    "Hipótesis nula (H0): No hay diferencia significativa entre las medias de los dos grupos.\n",
    "Hipótesis alternativa (H1): Hay una diferencia significativa entre las medias de los dos grupos.\n",
    "\n",
    "En este caso realizas  una observacion de las dos varianzas, lo que no esta mal, pero depender únicamente de la diferencia en los valores de las varianzas puede llevar a conclusiones equivocas, mas que nada si las muestras tienen tamaños diferentes . Las pruebas estadísticas están diseñadas para tomar en cuenta el tamaño de la muestra y calcular si la diferencia observada en las varianzas es estadísticamente significativa o si podría deberse al azar.\n",
    "\n",
    "Para saber lo del equal_var utilizamos La función levene en scipy.stats que se utiliza para realizar una prueba de igualdad de varianzas entre dos grupos de datos. (https://docs.scipy.org/doc/scipy/reference/generated/scipy.stats.levene.html)\n",
    "\n",
    "Los resultados  de esta prueba es muy parecido a lo que hacemos en el t.student. Ya que Si el valor p obtenido en la prueba levene es mayor que un nivel de significancia (alpha) previamente elegido (por ejemplo, 0.05), entonces asumimos que las varianzas son iguales (aceptamos H0).\n",
    "Si el valor p es menor que alpha, rechazamos la hipótesis nula y asumimos que las varianzas son diferentes.\n",
    "\n",
    "Por lo tanto, si las varianzas son iguales (aceptamos H0 en la prueba levene), puedes establecer equal_var=True al realizar la prueba t de Student.\n",
    "Si las varianzas son diferentes (rechazamos H0 en la prueba levene), debes establecer equal_var=False al realizar la prueba t de Student. Esto indica que se debe usar una versión de la prueba t que no asuma igualdad de varianzas, como la prueba Welch's t.\n",
    "\n",
    "Siempre recordar que los outliers pueden impactar negativamente en esta prueba (t.student)\n",
    "\n",
    "Esto es basicamente por lo que te corrijo lo del equal_var pero es como consejo y que lo sepas a futuro. Esta en vos si lo queres modificar o no.\n",
    "\n",
    "</div>"
   ]
  },
  {
   "cell_type": "markdown",
   "metadata": {},
   "source": [
    "<div class=\"alert alert-block alert-info\">\n",
    "<b>Respuesta del estudiante</b> <a class=\"tocSkip\"></a>\n",
    "\n",
    "Realice las modificaciones anteriormente mencionadas.\n",
    "</div>"
   ]
  },
  {
   "cell_type": "code",
   "execution_count": 60,
   "metadata": {
    "colab": {
     "base_uri": "https://localhost:8080/",
     "height": 524
    },
    "id": "cIY7CxcXzlJ7",
    "outputId": "5a71152d-7f01-43ee-9787-bf9488f4e798"
   },
   "outputs": [
    {
     "data": {
      "image/png": "[encoded data removed]",
      "text/plain": [
       "<Figure size 640x480 with 1 Axes>"
      ]
     },
     "metadata": {},
     "output_type": "display_data"
    },
    {
     "name": "stdout",
     "output_type": "stream",
     "text": [
      "Valor-p: 0.004084758018389906\n",
      "Rechazamos H₀: Hay diferencia significativa en el ingreso promedio.\n",
      "El ingreso promedio en otras regiones es MENOR que en NY-NJ.\n"
     ]
    }
   ],
   "source": [
    "# Hipótesis:\n",
    "# H₀: No hay diferencia significativa en el ingreso promedio entre NY-NJ y otras regiones.\n",
    "# H₁: Existe una diferencia significativa en el ingreso promedio entre NY-NJ y otras regiones.\n",
    "\n",
    "# Calculo ingreso promedio por ciudad\n",
    "ingreso_por_ciudad = ingreso_mensual.groupby(['city']).agg(monthly_income_sum=('monthly_income', 'sum'), total_users_count=('user_id', 'count')).reset_index()\n",
    "\n",
    "ingreso_por_ciudad['income_per_user'] = (ingreso_por_ciudad['monthly_income_sum'] / ingreso_por_ciudad['total_users_count']).round(2)\n",
    "\n",
    "# Extrae NY-NJ y eliminarlo del conjunto de otras ciudades\n",
    "ingreso_new_york = ingreso_por_ciudad.loc[[43]]  # DataFrame con una fila\n",
    "ingreso_por_ciudad = ingreso_por_ciudad.drop(43)  # Eliminar NY-NJ\n",
    "\n",
    "# Obtener el ingreso promedio de NY-NJ (valor escalar)\n",
    "ny_income_mean = ingreso_new_york['income_per_user'].iloc[0]\n",
    "\n",
    "# Prueba t de una muestra (comparar otras ciudades vs NY-NJ)\n",
    "alpha = 0.05\n",
    "results = stats.ttest_1samp(ingreso_por_ciudad['income_per_user'], popmean=ny_income_mean)\n",
    "\n",
    "# Visualización\n",
    "plt.hist(ingreso_por_ciudad['income_per_user'], bins=20, alpha=0.6, label='Otras regiones')\n",
    "plt.axvline(ny_income_mean, color='red', linestyle='--', label='NY-NJ')\n",
    "plt.title('Distribución de ingresos por usuario')\n",
    "plt.xlabel('Ingreso promedio por usuario ($)')\n",
    "plt.ylabel('Frecuencia')\n",
    "plt.legend()\n",
    "plt.show()\n",
    "\n",
    "# Interpretación\n",
    "print('Valor-p:', results.pvalue)\n",
    "if results.pvalue < alpha:\n",
    "    print(\"Rechazamos H₀: Hay diferencia significativa en el ingreso promedio.\")\n",
    "    if ingreso_por_ciudad['income_per_user'].mean() < ny_income_mean:\n",
    "        print(\"El ingreso promedio en otras regiones es MENOR que en NY-NJ.\")\n",
    "    else:\n",
    "        print(\"El ingreso promedio en otras regiones es MAYOR que en NY-NJ.\")\n",
    "else:\n",
    "    print(\"No podemos rechazar H₀: No hay evidencia suficiente de diferencia.\")"
   ]
  },
  {
   "cell_type": "markdown",
   "metadata": {
    "id": "bbTR8UQO0q1T"
   },
   "source": [
    "# 5. Conclusión general\n",
    "\n",
    "1. **Consumo de Minutos (Llamadas)**  \n",
    "   - Los usuarios de los planes Surf y Ultimate tienen un consumo similar, con medianas cercanas a 400 minutos, muy por debajo de los límites establecidos (500 min para Surf y 1000 min para Ultimate).  \n",
    "   - **Recomendación:** Reducir los límites de minutos en el plan Ultimate, ya que el consumo real apenas supera el **40%** del límite. Optimizar el plan Surf para ajustarse mejor a la demanda real.  \n",
    "\n",
    "2. **Consumo de Mensajes**  \n",
    "   - Ambos planes tienen un consumo muy por debajo de lo incluido en sus paquetes (50 mensajes en Surf y 1000 en Ultimate).  \n",
    "   - **Recomendación:** Reducir la cantidad de mensajes incluidos en Ultimate y ajustar el precio, ya que hay una sobreoferta evidente. El plan Surf está mejor alineado, pero podría optimizarse.  \n",
    "\n",
    "3. **Consumo de Internet**  \n",
    "   - Los usuarios de ambos planes consumen más datos (44-45 GB en promedio) que los incluidos en sus paquetes (15 GB en Surf y 30 GB en Ultimate).  \n",
    "   - Recomendación: Aumentar los datos incluidos en los paquetes para evitar cobros adicionales y mejorar la satisfacción del cliente.  \n",
    "\n",
    "4. **Ingresos por Plan**  \n",
    "   - **Surf** genera mayores ingresos promedio ($284.69) que Ultimate ($187.00), pero con alta variabilidad (ingresos inconsistentes).  \n",
    "   - Ultimate tiene ingresos más estables y predecibles, lo que lo hace financieramente más seguro.  \n",
    "   - **Recomendación:** Evaluar estrategias para migrar usuarios de Surf a Ultimate, aprovechando su estabilidad y potencial de ingresos recurrentes.  \n",
    "\n",
    "5. **Pruebas de Hipótesis**  \n",
    "   - **Hipótesis 1 (Ingresos por Plan):**  \n",
    "     - Surf tiene ingresos promedio significativamente mayores que Ultimate, pero con mayor dispersión.  \n",
    "   - **Hipótesis 2 (Ingresos por Región):**  \n",
    "     - NY-NJ tiene ingresos promedio mayores que otras regiones, lo que sugiere diferencias en el comportamiento de gasto por ubicación.  \n",
    "\n",
    "### **Decisiones Clave en el Procesamiento de Datos**  \n",
    "- Se priorizó el análisis de medianas y distribución (en lugar de solo promedios) debido a la asimetría en los datos.  \n",
    "- Se utilizaron pruebas estadísticas (t-test) para validar diferencias significativas entre grupos.  \n",
    "- Se identificaron valores atípicos para entender comportamientos extremos, pero no se eliminaron, ya que representan casos reales de uso.  \n",
    "- Se compararon límites de planes vs. consumo real para evaluar eficiencia en la oferta.  \n",
    "\n",
    "### **Recomendaciones Finales**  \n",
    "1. **Rediseñar los planes** para ajustar límites de minutos, mensajes y datos según el consumo real.  \n",
    "2. **Incentivar la migración** de usuarios de Surf a Ultimate para estabilizar ingresos.  \n",
    "3. **Evaluar estrategias regionales**, dado que NY-NJ genera mayores ingresos, posiblemente requiriendo enfoques diferenciados por zona.  \n",
    "4. **Monitorear el impacto** de cambios en los límites para evitar insatisfacción por reducciones bruscas.  \n"
   ]
  },
  {
   "cell_type": "markdown",
   "metadata": {},
   "source": [
    "<div class=\"alert alert-block alert-success\">\n",
    "<b>Comentario del revisor </b> <a class=\"tocSkip\"></a>\n",
    "\n",
    "Excelentes conclusiones.\n",
    "</div>"
   ]
  }
 ],
 "metadata": {
  "ExecuteTimeLog": [
   {
    "duration": 828,
    "start_time": "2021-11-16T09:21:11.304Z"
   },
   {
    "duration": 893,
    "start_time": "2021-11-16T09:21:17.728Z"
   },
   {
    "duration": 1150,
    "start_time": "2021-11-16T09:21:29.568Z"
   },
   {
    "duration": 3,
    "start_time": "2021-11-16T09:24:14.495Z"
   },
   {
    "duration": 120,
    "start_time": "2021-11-16T09:24:46.630Z"
   },
   {
    "duration": 3,
    "start_time": "2021-11-16T09:28:27.882Z"
   },
   {
    "duration": 4,
    "start_time": "2021-11-16T09:29:54.281Z"
   },
   {
    "duration": 3,
    "start_time": "2021-11-16T09:30:45.936Z"
   },
   {
    "duration": 4,
    "start_time": "2021-11-16T09:31:06.300Z"
   },
   {
    "duration": 113,
    "start_time": "2021-11-16T09:31:37.208Z"
   },
   {
    "duration": 143,
    "start_time": "2021-11-16T09:31:48.656Z"
   },
   {
    "duration": 98,
    "start_time": "2021-11-16T09:31:55.678Z"
   },
   {
    "duration": 3,
    "start_time": "2021-11-16T09:32:08.535Z"
   },
   {
    "duration": 111,
    "start_time": "2021-11-16T09:32:10.120Z"
   },
   {
    "duration": 3,
    "start_time": "2021-11-16T09:32:15.732Z"
   },
   {
    "duration": 4,
    "start_time": "2021-11-16T09:32:29.423Z"
   },
   {
    "duration": 3,
    "start_time": "2021-11-16T10:03:03.074Z"
   },
   {
    "duration": 3,
    "start_time": "2021-11-16T10:10:01.288Z"
   },
   {
    "duration": 3,
    "start_time": "2021-11-16T10:10:46.923Z"
   },
   {
    "duration": 121,
    "start_time": "2021-11-16T10:37:46.494Z"
   },
   {
    "duration": 125,
    "start_time": "2021-11-16T10:38:20.632Z"
   },
   {
    "duration": 112,
    "start_time": "2021-11-16T10:46:53.001Z"
   },
   {
    "duration": 110,
    "start_time": "2021-11-16T10:48:25.775Z"
   },
   {
    "duration": 3,
    "start_time": "2021-11-16T10:50:18.720Z"
   },
   {
    "duration": 4,
    "start_time": "2021-11-16T10:50:37.649Z"
   },
   {
    "duration": 2,
    "start_time": "2021-11-16T10:50:51.884Z"
   },
   {
    "duration": 3,
    "start_time": "2021-11-16T10:51:56.237Z"
   },
   {
    "duration": 101,
    "start_time": "2021-11-16T10:53:13.791Z"
   },
   {
    "duration": 3,
    "start_time": "2021-11-16T10:55:59.186Z"
   },
   {
    "duration": 3,
    "start_time": "2021-11-16T10:56:10.751Z"
   },
   {
    "duration": 3,
    "start_time": "2021-11-16T10:56:49.038Z"
   },
   {
    "duration": 3,
    "start_time": "2021-11-16T10:56:49.174Z"
   },
   {
    "duration": 4,
    "start_time": "2021-11-16T10:56:49.414Z"
   },
   {
    "duration": 3,
    "start_time": "2021-11-16T10:56:49.680Z"
   },
   {
    "duration": 3,
    "start_time": "2021-11-16T10:56:50.370Z"
   },
   {
    "duration": 114,
    "start_time": "2021-11-16T10:59:34.518Z"
   },
   {
    "duration": 3,
    "start_time": "2021-11-16T11:01:41.201Z"
   },
   {
    "duration": 116,
    "start_time": "2021-11-16T11:01:48.754Z"
   },
   {
    "duration": 3,
    "start_time": "2021-11-16T11:02:16.685Z"
   },
   {
    "duration": 3,
    "start_time": "2021-11-16T11:02:19.479Z"
   },
   {
    "duration": 3,
    "start_time": "2021-11-16T11:02:47.067Z"
   },
   {
    "duration": 3,
    "start_time": "2021-11-16T11:02:49.353Z"
   },
   {
    "duration": 3,
    "start_time": "2021-11-16T11:03:07.835Z"
   },
   {
    "duration": 3,
    "start_time": "2021-11-16T11:03:07.953Z"
   },
   {
    "duration": 112,
    "start_time": "2021-11-16T11:07:52.072Z"
   },
   {
    "duration": 187,
    "start_time": "2021-11-16T11:09:23.468Z"
   },
   {
    "duration": 4,
    "start_time": "2021-11-16T11:10:01.455Z"
   },
   {
    "duration": 3,
    "start_time": "2021-11-16T11:10:05.069Z"
   },
   {
    "duration": 4,
    "start_time": "2021-11-16T11:10:13.376Z"
   },
   {
    "duration": 3,
    "start_time": "2021-11-16T11:10:14.434Z"
   },
   {
    "duration": 3,
    "start_time": "2021-11-16T11:10:22.853Z"
   },
   {
    "duration": 4,
    "start_time": "2021-11-16T11:27:29.279Z"
   },
   {
    "duration": 4,
    "start_time": "2021-11-16T11:29:08.919Z"
   },
   {
    "duration": 118,
    "start_time": "2021-11-16T11:29:46.703Z"
   },
   {
    "duration": 437,
    "start_time": "2021-11-16T11:36:02.181Z"
   },
   {
    "duration": 157,
    "start_time": "2021-11-16T11:36:14.388Z"
   },
   {
    "duration": 207,
    "start_time": "2021-11-16T11:47:15.898Z"
   },
   {
    "duration": 3,
    "start_time": "2021-11-16T11:53:52.092Z"
   },
   {
    "duration": 3,
    "start_time": "2021-11-16T11:53:52.236Z"
   },
   {
    "duration": 3,
    "start_time": "2021-11-16T11:59:12.005Z"
   },
   {
    "duration": 112,
    "start_time": "2021-11-16T12:00:33.446Z"
   },
   {
    "duration": 3,
    "start_time": "2021-11-16T12:02:14.453Z"
   },
   {
    "duration": 3,
    "start_time": "2021-11-16T12:02:39.512Z"
   },
   {
    "duration": 106,
    "start_time": "2021-11-16T12:03:03.460Z"
   },
   {
    "duration": 3,
    "start_time": "2021-11-17T20:37:21.139Z"
   },
   {
    "duration": 3,
    "start_time": "2021-11-17T20:37:22.229Z"
   },
   {
    "duration": 3,
    "start_time": "2021-11-17T20:38:38.806Z"
   },
   {
    "duration": 3,
    "start_time": "2021-11-17T20:38:41.958Z"
   },
   {
    "duration": 3,
    "start_time": "2021-11-17T20:43:46.551Z"
   },
   {
    "duration": 4,
    "start_time": "2021-11-17T20:58:21.835Z"
   },
   {
    "duration": 3,
    "start_time": "2021-11-17T20:59:21.872Z"
   },
   {
    "duration": 4,
    "start_time": "2021-11-17T20:59:45.352Z"
   },
   {
    "duration": 4,
    "start_time": "2021-11-17T20:59:49.646Z"
   },
   {
    "duration": 159,
    "start_time": "2021-11-17T21:02:26.949Z"
   },
   {
    "duration": 3,
    "start_time": "2021-11-17T21:03:53.461Z"
   },
   {
    "duration": 3,
    "start_time": "2021-11-17T21:03:53.694Z"
   },
   {
    "duration": 3,
    "start_time": "2021-11-17T21:05:28.145Z"
   },
   {
    "duration": 116,
    "start_time": "2021-11-17T21:05:57.787Z"
   },
   {
    "duration": 3,
    "start_time": "2021-11-17T21:06:37.993Z"
   },
   {
    "duration": 3,
    "start_time": "2021-11-17T21:06:38.261Z"
   },
   {
    "duration": 3,
    "start_time": "2021-11-17T21:11:54.358Z"
   },
   {
    "duration": 3,
    "start_time": "2021-11-17T21:12:43.846Z"
   },
   {
    "duration": 4,
    "start_time": "2021-11-17T21:13:08.773Z"
   },
   {
    "duration": 3,
    "start_time": "2021-11-17T21:14:44.441Z"
   },
   {
    "duration": 3,
    "start_time": "2021-11-17T21:15:42.059Z"
   },
   {
    "duration": 4,
    "start_time": "2021-11-17T21:15:51.995Z"
   },
   {
    "duration": 3,
    "start_time": "2021-11-17T21:15:53.923Z"
   },
   {
    "duration": 3,
    "start_time": "2021-11-17T21:15:55.282Z"
   },
   {
    "duration": 3,
    "start_time": "2021-11-17T21:16:28.492Z"
   },
   {
    "duration": 3,
    "start_time": "2021-11-17T21:16:32.603Z"
   },
   {
    "duration": 3,
    "start_time": "2021-11-17T21:17:06.941Z"
   },
   {
    "duration": 98,
    "start_time": "2021-11-17T21:18:05.733Z"
   },
   {
    "duration": 4,
    "start_time": "2021-11-17T21:21:35.255Z"
   },
   {
    "duration": 3,
    "start_time": "2021-11-17T21:21:37.804Z"
   },
   {
    "duration": 4,
    "start_time": "2021-11-17T21:23:06.071Z"
   },
   {
    "duration": 3,
    "start_time": "2021-11-17T21:23:24.799Z"
   },
   {
    "duration": 3,
    "start_time": "2021-11-17T21:23:32.591Z"
   },
   {
    "duration": 98,
    "start_time": "2021-11-17T21:28:31.559Z"
   },
   {
    "duration": 3,
    "start_time": "2021-11-17T21:28:45.448Z"
   },
   {
    "duration": 3,
    "start_time": "2021-11-17T21:29:17.303Z"
   },
   {
    "duration": 3,
    "start_time": "2021-11-17T21:29:29.617Z"
   },
   {
    "duration": 3,
    "start_time": "2021-11-17T21:29:32.681Z"
   },
   {
    "duration": 3,
    "start_time": "2021-11-17T21:36:11.474Z"
   },
   {
    "duration": 3,
    "start_time": "2021-11-17T21:36:14.791Z"
   },
   {
    "duration": 3,
    "start_time": "2021-11-17T21:36:53.943Z"
   },
   {
    "duration": 3,
    "start_time": "2021-11-17T21:36:56.165Z"
   },
   {
    "duration": 4,
    "start_time": "2021-11-17T21:37:16.590Z"
   },
   {
    "duration": 3,
    "start_time": "2021-11-17T21:37:22.702Z"
   },
   {
    "duration": 4,
    "start_time": "2021-11-17T21:38:03.479Z"
   },
   {
    "duration": 3,
    "start_time": "2021-11-17T21:38:08.601Z"
   },
   {
    "duration": 3,
    "start_time": "2021-11-17T21:38:12.928Z"
   },
   {
    "duration": 3,
    "start_time": "2021-11-17T21:38:48.896Z"
   },
   {
    "duration": 2,
    "start_time": "2021-11-17T21:38:49.171Z"
   },
   {
    "duration": 4,
    "start_time": "2021-11-17T21:39:57.889Z"
   },
   {
    "duration": 3,
    "start_time": "2021-11-17T21:39:58.057Z"
   },
   {
    "duration": 3,
    "start_time": "2021-11-17T21:41:20.108Z"
   },
   {
    "duration": 3,
    "start_time": "2021-11-17T21:41:20.629Z"
   },
   {
    "duration": 3,
    "start_time": "2021-11-17T21:42:49.136Z"
   },
   {
    "duration": 3,
    "start_time": "2021-11-17T21:43:15.137Z"
   },
   {
    "duration": 4,
    "start_time": "2021-11-17T21:43:16.766Z"
   },
   {
    "duration": 4,
    "start_time": "2021-11-17T21:43:31.711Z"
   },
   {
    "duration": 3,
    "start_time": "2021-11-17T21:43:36.312Z"
   },
   {
    "duration": 4,
    "start_time": "2021-11-17T21:45:08.825Z"
   },
   {
    "duration": 4,
    "start_time": "2021-11-17T21:45:10.119Z"
   },
   {
    "duration": 4,
    "start_time": "2021-11-17T21:45:13.748Z"
   },
   {
    "duration": 3,
    "start_time": "2021-11-17T21:45:22.219Z"
   },
   {
    "duration": 3,
    "start_time": "2021-11-17T21:45:33.412Z"
   },
   {
    "duration": 2,
    "start_time": "2021-11-17T21:46:01.885Z"
   },
   {
    "duration": 3,
    "start_time": "2021-11-17T21:46:03.628Z"
   },
   {
    "duration": 107,
    "start_time": "2021-11-17T21:47:32.512Z"
   },
   {
    "duration": 103,
    "start_time": "2021-11-17T21:50:36.243Z"
   },
   {
    "duration": 3,
    "start_time": "2021-11-18T06:28:31.440Z"
   },
   {
    "duration": 3,
    "start_time": "2021-11-18T06:29:00.168Z"
   },
   {
    "duration": 3,
    "start_time": "2021-11-18T06:31:27.008Z"
   },
   {
    "duration": 2,
    "start_time": "2021-11-18T06:35:34.288Z"
   },
   {
    "duration": 2,
    "start_time": "2021-11-18T06:38:04.527Z"
   }
  ],
  "colab": {
   "collapsed_sections": [
    "3rYiDeEH0q0f",
    "mRpEo4LyeDZQ",
    "MQi4IPy70q0y",
    "4ysWWC5i0q00",
    "69qqoJ3r0q01",
    "ohBhimvH0q01",
    "R3C05i1l0q03",
    "LJir7bml0q03",
    "1n2X6WXf0q04",
    "BX5FQh_I0q06",
    "ycwuARJp0q07",
    "o7MeKCid0q08",
    "S7hzxmbX0q0-",
    "KrMgTrlG0q0_",
    "mOUZSi180q0_",
    "Sprfak900q1B",
    "HvLid7iD0q1B",
    "bStkaxn40q1C",
    "yA0tkPFg0q1D",
    "e8_mLF4a0q1E",
    "3UA2cqIW0q1E",
    "hMR1tP5d0q1F",
    "AJ-9VPMchxsm",
    "vtW4CJEe0q1J",
    "8idKy8Wh0q1L",
    "42YSypXz0q1M",
    "tCijq3260q1N",
    "ajJ7VKeI0q1Q",
    "bbTR8UQO0q1T"
   ],
   "provenance": []
  },
  "kernelspec": {
   "display_name": "Python 3 (ipykernel)",
   "language": "python",
   "name": "python3"
  },
  "language_info": {
   "codemirror_mode": {
    "name": "ipython",
    "version": 3
   },
   "file_extension": ".py",
   "mimetype": "text/x-python",
   "name": "python",
   "nbconvert_exporter": "python",
   "pygments_lexer": "ipython3",
   "version": "3.9.22"
  },
  "toc": {
   "base_numbering": 1,
   "nav_menu": {},
   "number_sections": true,
   "sideBar": true,
   "skip_h1_title": false,
   "title_cell": "Table of Contents",
   "title_sidebar": "Contents",
   "toc_cell": false,
   "toc_position": {},
   "toc_section_display": true,
   "toc_window_display": false
  }
 },
 "nbformat": 4,
 "nbformat_minor": 4
}
